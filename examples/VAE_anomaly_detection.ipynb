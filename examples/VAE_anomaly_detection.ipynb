{
 "cells": [
  {
   "cell_type": "code",
   "execution_count": 1,
   "metadata": {},
   "outputs": [
    {
     "data": {
      "text/plain": [
       "PyPlot.plot"
      ]
     },
     "execution_count": 1,
     "metadata": {},
     "output_type": "execute_result"
    }
   ],
   "source": [
    "using PyPlot, JLD, AnomalyDetection, EvalCurves\n",
    "import PyPlot: plot\n",
    "include(\"./plots.jl\")"
   ]
  },
  {
   "cell_type": "code",
   "execution_count": 2,
   "metadata": {},
   "outputs": [
    {
     "data": {
      "text/plain": [
       "2×90 Array{Float32,2}:\n",
       " 0.803442  0.804605  0.807145  0.819485  …  0.0350314  0.0613807  0.0685027\n",
       " 0.821998  0.834235  0.826129  0.848182     0.973926   1.00745    0.973256 "
      ]
     },
     "execution_count": 2,
     "metadata": {},
     "output_type": "execute_result"
    }
   ],
   "source": [
    "# load data\n",
    "dataset = load(\"toy_data_3.jld\")[\"data\"]\n",
    "X = AnomalyDetection.Float.(dataset.data)\n",
    "Y = dataset.labels\n",
    "nX = X[:, Y.==0]"
   ]
  },
  {
   "cell_type": "code",
   "execution_count": 3,
   "metadata": {},
   "outputs": [
    {
     "data": {
      "text/plain": [
       "AnomalyDetection.VAEmodel(AnomalyDetection.VAE{Flux.Chain,AnomalyDetection.#sample_z,Flux.Chain}(Chain(Dense(2, 10, NNlib.relu), Dense(10, 10, NNlib.relu), Dense(10, 4)), AnomalyDetection.sample_z, Chain(Dense(2, 10, NNlib.relu), Dense(10, 10, NNlib.relu), Dense(10, 2))), 0.01, 0, 0.1262135922330097, 2000, 500, true, 50, 1, 0.001f0, 1.0f0, MVHistory{ValueHistories.History}, \"rerr\")"
      ]
     },
     "execution_count": 3,
     "metadata": {},
     "output_type": "execute_result"
    }
   ],
   "source": [
    "# VAE settings\n",
    "indim = size(X,1)\n",
    "hiddendim = 10\n",
    "latentdim = 2\n",
    "nlayers = 2\n",
    "\n",
    "# setup the VAE object\n",
    "esize = [indim; hiddendim; hiddendim; latentdim*2] # encoder architecture\n",
    "dsize = [latentdim; hiddendim; hiddendim; indim] # decoder architecture\n",
    "lambda = 0.01 # KLD weight in loss function\n",
    "threshold = 0 # classification threshold, is recomputed using setthreshold!()\n",
    "contamination = size(Y[Y.==1],1)/size(Y, 1) # for automatic threshold computation\n",
    "iterations = 2000\n",
    "cbit = 500 # after this number of iteratiosn, callback is printed\n",
    "verbfit = true\n",
    "M = 1 # reconstruction error samples, for training 1 is OK\n",
    "L = 50 # batchsize \n",
    "# set low for training but high for classification\n",
    "activation = Flux.relu\n",
    "layer = Flux.Dense\n",
    "rdelta = 1e-3 # reconstruction error threshold for training stopping\n",
    "Beta = 1.0 # for automatic threshold computation, in [0, 1] \n",
    "# 1.0 = tight around normal samples\n",
    "tracked = true # do you want to store training progress?\n",
    "# it can be later retrieved from model.traindata\n",
    "model = VAEmodel(esize, dsize, lambda, threshold, contamination, iterations, cbit, verbfit, \n",
    "    L, M=M, activation = activation, layer = layer, rdelta = rdelta, Beta = Beta, \n",
    "    tracked = tracked)"
   ]
  },
  {
   "cell_type": "code",
   "execution_count": null,
   "metadata": {},
   "outputs": [],
   "source": [
    "# fit the model\n",
    "AnomalyDetection.evalloss(model, nX)\n",
    "AnomalyDetection.fit!(model, nX)\n",
    "AnomalyDetection.evalloss(model, nX)\n",
    "AnomalyDetection.setthreshold!(model, X)"
   ]
  },
  {
   "cell_type": "code",
   "execution_count": null,
   "metadata": {},
   "outputs": [],
   "source": [
    "plot(model)\n",
    "show()"
   ]
  },
  {
   "cell_type": "markdown",
   "metadata": {},
   "source": [
    "How does the model reconstruct the normal data?"
   ]
  },
  {
   "cell_type": "code",
   "execution_count": null,
   "metadata": {},
   "outputs": [],
   "source": [
    "model(nX)"
   ]
  },
  {
   "cell_type": "code",
   "execution_count": null,
   "metadata": {},
   "outputs": [],
   "source": [
    "nX"
   ]
  },
  {
   "cell_type": "markdown",
   "metadata": {},
   "source": [
    "What are the parameters of $q(z|x)$?"
   ]
  },
  {
   "cell_type": "code",
   "execution_count": null,
   "metadata": {},
   "outputs": [],
   "source": [
    "AnomalyDetection.muz(model, nX)"
   ]
  },
  {
   "cell_type": "code",
   "execution_count": null,
   "metadata": {},
   "outputs": [],
   "source": [
    "AnomalyDetection.sigmaz(model, nX)"
   ]
  },
  {
   "cell_type": "markdown",
   "metadata": {},
   "source": [
    "What do the generated samples look like?"
   ]
  },
  {
   "cell_type": "code",
   "execution_count": null,
   "metadata": {},
   "outputs": [],
   "source": [
    "AnomalyDetection.sample_z(model, nX)"
   ]
  },
  {
   "cell_type": "code",
   "execution_count": null,
   "metadata": {},
   "outputs": [],
   "source": [
    "# predict labels on testing data\n",
    "model.M = 100 # for classification higher is better (more stable)\n",
    "tryhat = AnomalyDetection.predict(model, X)"
   ]
  },
  {
   "cell_type": "code",
   "execution_count": null,
   "metadata": {},
   "outputs": [],
   "source": [
    "# get the labels and roc stats\n",
    "tryhat, tstyhat = AnomalyDetection.rocstats(dataset, dataset, model);"
   ]
  },
  {
   "cell_type": "code",
   "execution_count": null,
   "metadata": {},
   "outputs": [],
   "source": [
    "# anomaly score contour plot\n",
    "# get limits of the figure\n",
    "xl = (minimum(X[1,:])-0.05, maximum(X[1,:]) + 0.05)\n",
    "yl = (minimum(X[2,:])-0.05, maximum(X[2,:]) + 0.05)\n",
    "\n",
    "# compute the anomaly score on a grid\n",
    "x = linspace(xl[1], xl[2], 30)\n",
    "y = linspace(yl[1], yl[2], 30)\n",
    "zz = zeros(size(y,1),size(x,1))\n",
    "for i in 1:size(y, 1)\n",
    "    for j in 1:size(x, 1)\n",
    "        zz[i,j] = AnomalyDetection.anomalyscore(model, AnomalyDetection.Float.([x[j], y[i]]))\n",
    "    end\n",
    "end"
   ]
  },
  {
   "cell_type": "code",
   "execution_count": null,
   "metadata": {},
   "outputs": [],
   "source": [
    "# plot it all\n",
    "f = figure()\n",
    "contourf(x, y, zz)\n",
    "scatter(X[1, tryhat.==1], X[2, tryhat.==1], c = \"r\", \n",
    "    label = \"predicted positive\")\n",
    "scatter(X[1, tryhat.==0], X[2, tryhat.==0], c = \"g\", \n",
    "    label = \"predicted negative\")\n",
    "title(\"classification results\")\n",
    "xlim(xl)\n",
    "ylim(yl)\n",
    "legend()\n",
    "show()"
   ]
  },
  {
   "cell_type": "code",
   "execution_count": null,
   "metadata": {},
   "outputs": [],
   "source": [
    "# what are the codes?\n",
    "z1 = AnomalyDetection.getcode(model, X[:,1:30]).data\n",
    "z2 = AnomalyDetection.getcode(model, X[:,31:60]).data\n",
    "z3 = AnomalyDetection.getcode(model, X[:,61:90]).data\n",
    "za = AnomalyDetection.getcode(model, X[:,91:end]).data\n",
    "\n",
    "figure()\n",
    "title(\"code distribution\")\n",
    "scatter(z1[1,:], z1[2,:], label = \"first cluster\")\n",
    "scatter(z2[1,:], z2[2,:], label = \"second cluster\")\n",
    "scatter(z3[1,:], z3[2,:], label = \"third cluster\")\n",
    "scatter(za[1,:], za[2,:], s = 3, label = \"anomalous data\")\n",
    "legend()\n",
    "show()"
   ]
  },
  {
   "cell_type": "code",
   "execution_count": null,
   "metadata": {},
   "outputs": [],
   "source": [
    "# plot ROC curve and compute AUROC score\n",
    "ascore = AnomalyDetection.anomalyscore(model, X);\n",
    "fprvec, tprvec = EvalCurves.roccurve(ascore, Y)\n",
    "auroc = round(EvalCurves.auc(fprvec, tprvec),3)\n",
    "EvalCurves.plotroc((fprvec, tprvec, \"AUROC = $(auroc)\"))\n",
    "show()"
   ]
  }
 ],
 "metadata": {
  "kernelspec": {
   "display_name": "Julia 0.6.1",
   "language": "julia",
   "name": "julia-0.6"
  },
  "language_info": {
   "file_extension": ".jl",
   "mimetype": "application/julia",
   "name": "julia",
   "version": "0.6.1"
  }
 },
 "nbformat": 4,
 "nbformat_minor": 2
}
