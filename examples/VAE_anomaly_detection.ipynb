{
 "cells": [
  {
   "cell_type": "code",
   "execution_count": 1,
   "metadata": {
    "collapsed": true
   },
   "outputs": [],
   "source": [
    "using Flux\n",
    "using JLD\n",
    "using PyPlot\n",
    "\n",
    "code_path = \"../src\"\n",
    "\n",
    "push!(LOAD_PATH, code_path)\n",
    "using AnomalyDetection"
   ]
  },
  {
   "cell_type": "code",
   "execution_count": 2,
   "metadata": {},
   "outputs": [
    {
     "data": {
      "text/plain": [
       "103-element Array{Int64,1}:\n",
       " 0\n",
       " 0\n",
       " 0\n",
       " 0\n",
       " 0\n",
       " 0\n",
       " 0\n",
       " 0\n",
       " 0\n",
       " 0\n",
       " 0\n",
       " 0\n",
       " 0\n",
       " ⋮\n",
       " 1\n",
       " 1\n",
       " 1\n",
       " 1\n",
       " 1\n",
       " 1\n",
       " 1\n",
       " 1\n",
       " 1\n",
       " 1\n",
       " 1\n",
       " 1"
      ]
     },
     "execution_count": 2,
     "metadata": {},
     "output_type": "execute_result"
    }
   ],
   "source": [
    "# load data\n",
    "dataset = load(\"toy_data_3.jld\")[\"data\"]\n",
    "x = dataset.data[:,dataset.labels.==0]\n",
    "y = dataset.labels"
   ]
  },
  {
   "cell_type": "code",
   "execution_count": 3,
   "metadata": {},
   "outputs": [
    {
     "data": {
      "text/plain": [
       "AnomalyDetection.VAEmodel(AnomalyDetection.VAE{Flux.Chain,AnomalyDetection.#sample_z,Flux.Chain}(Chain(Chain(Dense(2, 10, NNlib.relu), Dense(10, 10, NNlib.relu)), Dense(10, 4)), AnomalyDetection.sample_z, Chain(Chain(Dense(2, 10, NNlib.relu), Dense(10, 10, NNlib.relu)), Dense(10, 2))), 0.001, 0, 0.1262135922330097, 2000, 500, true, 1, 0.001, 1.0)"
      ]
     },
     "execution_count": 3,
     "metadata": {},
     "output_type": "execute_result"
    }
   ],
   "source": [
    "# VAE settings\n",
    "indim = size(x,1)\n",
    "hiddendim = 10\n",
    "latentdim = 2\n",
    "nlayers = 2\n",
    "\n",
    "# setup the VAE object\n",
    "esize = [indim; hiddendim; hiddendim; latentdim*2] # encoder architecture\n",
    "dsize = [latentdim; hiddendim; hiddendim; indim] # decoder architecture\n",
    "lambda = 0.001 # KLD weight in loss function\n",
    "threshold = 0 # classification threshold, is recomputed during fit!()\n",
    "contamination = size(y[y.==1],1)/size(y, 1) # for automatic threshold computation\n",
    "iterations = 2000\n",
    "cbit = 500 # after this number of iteratiosn, callback is printed\n",
    "verbfit = true\n",
    "L = 1 # samples for training and classification \n",
    "# set low for training but high for classification\n",
    "activation = Flux.relu\n",
    "rdelta = 1e-3 # reconstruction error threshold for training stopping\n",
    "Beta = 1.0 # for automatic threshold computation, in [0, 1] \n",
    "# 1.0 = tight around normal samples\n",
    "model = VAEmodel(esize, dsize, lambda, threshold, contamination, iterations, cbit, verbfit, \n",
    "    L, activation = activation, rdelta = rdelta, Beta = Beta)"
   ]
  },
  {
   "cell_type": "code",
   "execution_count": 4,
   "metadata": {},
   "outputs": [
    {
     "name": "stdout",
     "output_type": "stream",
     "text": [
      "loss: 0.312824\n",
      "reconstruction error: 0.285982\n",
      "KL: 0.175367\n",
      "\n",
      "loss: 0.0168649\n",
      "reconstruction error: 0.0114135\n",
      "KL: 3.97696\n",
      "\n",
      "loss: 0.0143013\n",
      "reconstruction error: 0.0118278\n",
      "KL: 3.71664\n",
      "\n",
      "loss: 0.0132441\n",
      "reconstruction error: 0.0104836\n",
      "KL: 3.40602\n",
      "\n",
      "loss: 0.0058521\n",
      "reconstruction error: 0.00173504\n",
      "KL: 3.76415\n",
      "\n",
      "loss: 0.00598503\n",
      "reconstruction error: 0.0016383\n",
      "KL: 3.76415\n",
      "\n"
     ]
    }
   ],
   "source": [
    "# fit the model\n",
    "AnomalyDetection.evalloss(model, x)\n",
    "AnomalyDetection.fit!(model, x)\n",
    "AnomalyDetection.evalloss(model, x)"
   ]
  },
  {
   "cell_type": "code",
   "execution_count": 5,
   "metadata": {},
   "outputs": [
    {
     "data": {
      "text/plain": [
       "Tracked 2×90 Array{Float64,2}:\n",
       " 0.764455  0.810545  0.759941  0.704965  …  0.0341926  0.0456794  0.0636878\n",
       " 0.754265  0.792521  0.75667   0.772938     0.986762   0.973409   0.966418 "
      ]
     },
     "execution_count": 5,
     "metadata": {},
     "output_type": "execute_result"
    }
   ],
   "source": [
    "model(x)"
   ]
  },
  {
   "cell_type": "code",
   "execution_count": 6,
   "metadata": {},
   "outputs": [
    {
     "data": {
      "text/plain": [
       "2×90 Array{Float64,2}:\n",
       " 0.803442  0.804605  0.807145  0.819485  …  0.0350314  0.0613807  0.0685027\n",
       " 0.821998  0.834235  0.826129  0.848182     0.973926   1.00745    0.973256 "
      ]
     },
     "execution_count": 6,
     "metadata": {},
     "output_type": "execute_result"
    }
   ],
   "source": [
    "x"
   ]
  },
  {
   "cell_type": "code",
   "execution_count": 7,
   "metadata": {},
   "outputs": [
    {
     "data": {
      "text/plain": [
       "Tracked 2×90 Array{Float64,2}:\n",
       " -0.123199  -0.133985  -0.116871  …  -2.42288   -2.39369   -2.33697 \n",
       " -0.872143  -0.876662  -0.877756     -0.142418  -0.172993  -0.168792"
      ]
     },
     "execution_count": 7,
     "metadata": {},
     "output_type": "execute_result"
    }
   ],
   "source": [
    "AnomalyDetection.mu(model, x)"
   ]
  },
  {
   "cell_type": "code",
   "execution_count": 8,
   "metadata": {},
   "outputs": [
    {
     "data": {
      "text/plain": [
       "Tracked 2×90 Array{Float64,2}:\n",
       " 0.0615137  0.0605208  0.0610996  …  0.0479085  0.0463185  0.0487045\n",
       " 0.912263   0.912363   0.916866      0.320318   0.328402   0.332069 "
      ]
     },
     "execution_count": 8,
     "metadata": {},
     "output_type": "execute_result"
    }
   ],
   "source": [
    "AnomalyDetection.sigma(model,x)"
   ]
  },
  {
   "cell_type": "code",
   "execution_count": 9,
   "metadata": {},
   "outputs": [
    {
     "data": {
      "text/plain": [
       "Tracked 2×90 Array{Float64,2}:\n",
       " -0.0913201  -0.158616  -0.168415  …  -2.41345    -2.36216   -2.3594  \n",
       " -2.01821    -2.02291   -0.589049     -0.0688431  -0.151257  -0.209023"
      ]
     },
     "execution_count": 9,
     "metadata": {},
     "output_type": "execute_result"
    }
   ],
   "source": [
    "AnomalyDetection.sample_z(model, x)"
   ]
  },
  {
   "cell_type": "code",
   "execution_count": 10,
   "metadata": {},
   "outputs": [
    {
     "data": {
      "text/plain": [
       "103-element Array{Int64,1}:\n",
       " 0\n",
       " 0\n",
       " 0\n",
       " 0\n",
       " 0\n",
       " 0\n",
       " 0\n",
       " 0\n",
       " 0\n",
       " 0\n",
       " 0\n",
       " 0\n",
       " 1\n",
       " ⋮\n",
       " 1\n",
       " 1\n",
       " 1\n",
       " 1\n",
       " 1\n",
       " 1\n",
       " 1\n",
       " 1\n",
       " 1\n",
       " 1\n",
       " 1\n",
       " 0"
      ]
     },
     "execution_count": 10,
     "metadata": {},
     "output_type": "execute_result"
    }
   ],
   "source": [
    "# predict labels\n",
    "X = dataset.data\n",
    "y = dataset.labels\n",
    "model.L = 100 # number of samples - for classification higher is better (more stable)\n",
    "tryhat = AnomalyDetection.predict(model, X)"
   ]
  },
  {
   "cell_type": "code",
   "execution_count": 11,
   "metadata": {},
   "outputs": [
    {
     "name": "stdout",
     "output_type": "stream",
     "text": [
      "\n",
      " Training data performance: \n",
      "MLBase.ROCNums{Int64}\n",
      "  p = 13\n",
      "  n = 90\n",
      "  tp = 12\n",
      "  tn = 89\n",
      "  fp = 1\n",
      "  fn = 1\n",
      "precision: 0.9230769230769231\n",
      "recall: 0.9230769230769231\n",
      "f1score: 0.9230769230769231\n",
      "equal error rate: 0.04401709401709402\n",
      "\n",
      " Testing data performance: \n",
      "MLBase.ROCNums{Int64}\n",
      "  p = 13\n",
      "  n = 90\n",
      "  tp = 12\n",
      "  tn = 88\n",
      "  fp = 2\n",
      "  fn = 1\n",
      "precision: 0.8571428571428571\n",
      "recall: 0.9230769230769231\n",
      "f1score: 0.8888888888888888\n",
      "equal error rate: 0.04957264957264958\n"
     ]
    }
   ],
   "source": [
    "# get the labels and roc stats\n",
    "tryhat, tstyhat = AnomalyDetection.rocstats(dataset, dataset, model);"
   ]
  },
  {
   "cell_type": "code",
   "execution_count": 12,
   "metadata": {
    "collapsed": true
   },
   "outputs": [],
   "source": [
    "using ScikitLearn.Utils: meshgrid"
   ]
  },
  {
   "cell_type": "code",
   "execution_count": 13,
   "metadata": {},
   "outputs": [
    {
     "data": {
      "image/png": "[encoded data removed]",
      "text/plain": [
       "PyPlot.Figure(PyObject <matplotlib.figure.Figure object at 0x7f9384036080>)"
      ]
     },
     "metadata": {},
     "output_type": "display_data"
    }
   ],
   "source": [
    "# plot heatmap of the fit\n",
    "figure()\n",
    "title(\"classification results\")\n",
    "scatter(X[1, tstyhat.==1], X[2, tstyhat.==1], c = \"r\")\n",
    "ax = gca()\n",
    "ylim = ax[:get_ylim]()\n",
    "xlim = ax[:get_xlim]()\n",
    "xx, yy = meshgrid(linspace(xlim[1], xlim[2], 30), linspace(ylim[1], ylim[2], 30))\n",
    "zz = zeros(size(xx))\n",
    "for i in 1:size(xx, 1)\n",
    "    for j in 1:size(xx, 2)\n",
    "        zz[i,j] = AnomalyDetection.rerr(model, [xx[i,j], yy[i,j]]).data[1]\n",
    "    end\n",
    "end\n",
    "axsurf = ax[:contourf](xx, yy, zz)\n",
    "cb = colorbar(axsurf, fraction = 0.05, shrink = 0.5, pad = 0.1)\n",
    "scatter(X[1, tstyhat.==1], X[2, tstyhat.==1], c = \"r\", label = \"predicted positive\")\n",
    "scatter(X[1, tstyhat.==0], X[2, tstyhat.==0], c = \"g\", label = \"predicted negative\")\n",
    "b = AnomalyDetection.generate(model)\n",
    "scatter(b[1], b[2], c = \"y\", label = \"generated sample\")\n",
    "legend(loc = \"upper right\")\n",
    "show()"
   ]
  },
  {
   "cell_type": "code",
   "execution_count": 14,
   "metadata": {},
   "outputs": [
    {
     "data": {
      "image/png": "[encoded data removed]",
      "text/plain": [
       "PyPlot.Figure(PyObject <matplotlib.figure.Figure object at 0x7f9364162a20>)"
      ]
     },
     "metadata": {},
     "output_type": "display_data"
    }
   ],
   "source": [
    "# what are the codes?\n",
    "figure()\n",
    "title(\"code distribution\")\n",
    "z1 = model.vae.encoder(X[:,1:30]).data\n",
    "z2 = model.vae.encoder(X[:,31:60]).data\n",
    "z3 = model.vae.encoder(X[:,61:90]).data\n",
    "za = model.vae.encoder(X[:,91:end]).data\n",
    "\n",
    "scatter(z1[1,:], z1[2,:], label = \"first cluster\")\n",
    "scatter(z2[1,:], z2[2,:], label = \"second cluster\")\n",
    "scatter(z3[1,:], z3[2,:], label = \"third cluster\")\n",
    "scatter(za[1,:], za[2,:], s = 10, label = \"anomalous data\")\n",
    "legend()\n",
    "show()"
   ]
  }
 ],
 "metadata": {
  "kernelspec": {
   "display_name": "Julia 0.6.1",
   "language": "julia",
   "name": "julia-0.6"
  },
  "language_info": {
   "file_extension": ".jl",
   "mimetype": "application/julia",
   "name": "julia",
   "version": "0.6.1"
  }
 },
 "nbformat": 4,
 "nbformat_minor": 2
}
