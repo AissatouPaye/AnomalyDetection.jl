{
 "cells": [
  {
   "cell_type": "code",
   "execution_count": 1,
   "metadata": {
    "collapsed": true
   },
   "outputs": [],
   "source": [
    "using Flux\n",
    "using JLD\n",
    "using PyPlot\n",
    "\n",
    "code_path = \"../src\"\n",
    "\n",
    "push!(LOAD_PATH, code_path)\n",
    "using AnomalyDetection"
   ]
  },
  {
   "cell_type": "code",
   "execution_count": 2,
   "metadata": {},
   "outputs": [
    {
     "data": {
      "text/plain": [
       "2×90 Array{Float64,2}:\n",
       " 0.803442  0.804605  0.807145  0.819485  …  0.0350314  0.0613807  0.0685027\n",
       " 0.821998  0.834235  0.826129  0.848182     0.973926   1.00745    0.973256 "
      ]
     },
     "execution_count": 2,
     "metadata": {},
     "output_type": "execute_result"
    }
   ],
   "source": [
    "# load data\n",
    "dataset = load(\"toy_data_3.jld\")[\"data\"]\n",
    "X = dataset.data\n",
    "Y = dataset.labels\n",
    "nX = X[:, Y.==0]"
   ]
  },
  {
   "cell_type": "code",
   "execution_count": 3,
   "metadata": {},
   "outputs": [
    {
     "data": {
      "text/plain": [
       "AnomalyDetection.VAEmodel(AnomalyDetection.VAE{Flux.Chain,AnomalyDetection.#sample_z,Flux.Chain}(Chain(Chain(Dense(2, 10, NNlib.relu), Dense(10, 10, NNlib.relu)), Dense(10, 4)), AnomalyDetection.sample_z, Chain(Chain(Dense(2, 10, NNlib.relu), Dense(10, 10, NNlib.relu)), Dense(10, 2))), 0.001, 0, 0.1262135922330097, 2000, 500, true, 1, 0.001, 1.0)"
      ]
     },
     "execution_count": 3,
     "metadata": {},
     "output_type": "execute_result"
    }
   ],
   "source": [
    "# VAE settings\n",
    "indim = size(X,1)\n",
    "hiddendim = 10\n",
    "latentdim = 2\n",
    "nlayers = 2\n",
    "\n",
    "# setup the VAE object\n",
    "esize = [indim; hiddendim; hiddendim; latentdim*2] # encoder architecture\n",
    "dsize = [latentdim; hiddendim; hiddendim; indim] # decoder architecture\n",
    "lambda = 0.001 # KLD weight in loss function\n",
    "threshold = 0 # classification threshold, is recomputed during fit!()\n",
    "contamination = size(Y[Y.==1],1)/size(Y, 1) # for automatic threshold computation\n",
    "iterations = 2000\n",
    "cbit = 500 # after this number of iteratiosn, callback is printed\n",
    "verbfit = true\n",
    "L = 1 # samples for training and classification \n",
    "# set low for training but high for classification\n",
    "activation = Flux.relu\n",
    "rdelta = 1e-3 # reconstruction error threshold for training stopping\n",
    "Beta = 1.0 # for automatic threshold computation, in [0, 1] \n",
    "# 1.0 = tight around normal samples\n",
    "model = VAEmodel(esize, dsize, lambda, threshold, contamination, iterations, cbit, verbfit, \n",
    "    L, activation = activation, rdelta = rdelta, Beta = Beta)"
   ]
  },
  {
   "cell_type": "code",
   "execution_count": 4,
   "metadata": {},
   "outputs": [
    {
     "name": "stdout",
     "output_type": "stream",
     "text": [
      "loss: 0.572774\n",
      "reconstruction error: 0.594449\n",
      "KL: 0.305036\n",
      "\n",
      "loss: 0.024066\n",
      "reconstruction error: 0.0238508\n",
      "KL: 2.49041\n",
      "\n",
      "loss: 0.00698301\n",
      "reconstruction error: 0.00352388\n",
      "KL: 3.24356\n",
      "\n",
      "Training ended prematurely after 1310 iterations,\n",
      "reconstruction error 0.0009171074815063307 < 0.001\n",
      "loss: 0.00432264\n",
      "reconstruction error: 0.000934082\n",
      "KL: 3.15478\n",
      "\n"
     ]
    }
   ],
   "source": [
    "# fit the model\n",
    "AnomalyDetection.evalloss(model, nX)\n",
    "AnomalyDetection.fit!(model, X, Y)\n",
    "AnomalyDetection.evalloss(model, nX)"
   ]
  },
  {
   "cell_type": "code",
   "execution_count": 5,
   "metadata": {},
   "outputs": [
    {
     "data": {
      "text/plain": [
       "Tracked 2×90 Array{Float64,2}:\n",
       " 0.785655  0.798809  0.787011  0.803219  …  0.056347  0.0229064  0.0567398\n",
       " 0.794217  0.811684  0.806745  0.815696     1.01324   1.0123     0.958909 "
      ]
     },
     "execution_count": 5,
     "metadata": {},
     "output_type": "execute_result"
    }
   ],
   "source": [
    "model(nX)"
   ]
  },
  {
   "cell_type": "code",
   "execution_count": 6,
   "metadata": {},
   "outputs": [
    {
     "data": {
      "text/plain": [
       "2×90 Array{Float64,2}:\n",
       " 0.803442  0.804605  0.807145  0.819485  …  0.0350314  0.0613807  0.0685027\n",
       " 0.821998  0.834235  0.826129  0.848182     0.973926   1.00745    0.973256 "
      ]
     },
     "execution_count": 6,
     "metadata": {},
     "output_type": "execute_result"
    }
   ],
   "source": [
    "nX"
   ]
  },
  {
   "cell_type": "code",
   "execution_count": 7,
   "metadata": {},
   "outputs": [
    {
     "data": {
      "text/plain": [
       "Tracked 2×90 Array{Float64,2}:\n",
       " 0.458138  0.461419  0.4606   0.470703  …   0.471584   0.455481   0.442164\n",
       " 1.4885    1.49952   1.49958  1.54224      -0.311247  -0.304993  -0.300887"
      ]
     },
     "execution_count": 7,
     "metadata": {},
     "output_type": "execute_result"
    }
   ],
   "source": [
    "AnomalyDetection.mu(model, nX)"
   ]
  },
  {
   "cell_type": "code",
   "execution_count": 8,
   "metadata": {},
   "outputs": [
    {
     "data": {
      "text/plain": [
       "Tracked 2×90 Array{Float64,2}:\n",
       " 0.348216   0.34655    0.346843   …  0.885285   0.88428    0.872982 \n",
       " 0.0466574  0.0458036  0.0461465     0.0735627  0.0679587  0.0721385"
      ]
     },
     "execution_count": 8,
     "metadata": {},
     "output_type": "execute_result"
    }
   ],
   "source": [
    "AnomalyDetection.sigma(model, nX)"
   ]
  },
  {
   "cell_type": "code",
   "execution_count": 9,
   "metadata": {},
   "outputs": [
    {
     "data": {
      "text/plain": [
       "Tracked 2×90 Array{Float64,2}:\n",
       " 0.850739  0.847164  -0.0957017  0.52457  …   0.525034  -0.0113343   1.04073 \n",
       " 1.50754   1.45595    1.60173    1.51633     -0.275954  -0.370097   -0.409246"
      ]
     },
     "execution_count": 9,
     "metadata": {},
     "output_type": "execute_result"
    }
   ],
   "source": [
    "AnomalyDetection.sample_z(model, nX)"
   ]
  },
  {
   "cell_type": "code",
   "execution_count": 10,
   "metadata": {},
   "outputs": [
    {
     "data": {
      "text/plain": [
       "103-element Array{Int64,1}:\n",
       " 0\n",
       " 0\n",
       " 0\n",
       " 0\n",
       " 0\n",
       " 0\n",
       " 0\n",
       " 0\n",
       " 0\n",
       " 0\n",
       " 0\n",
       " 0\n",
       " 0\n",
       " ⋮\n",
       " 1\n",
       " 1\n",
       " 1\n",
       " 1\n",
       " 1\n",
       " 1\n",
       " 1\n",
       " 0\n",
       " 1\n",
       " 1\n",
       " 0\n",
       " 1"
      ]
     },
     "execution_count": 10,
     "metadata": {},
     "output_type": "execute_result"
    }
   ],
   "source": [
    "# predict labels\n",
    "model.L = 100 # number of samples - for classification higher is better (more stable)\n",
    "tryhat = AnomalyDetection.predict(model, X)"
   ]
  },
  {
   "cell_type": "code",
   "execution_count": 11,
   "metadata": {},
   "outputs": [
    {
     "name": "stdout",
     "output_type": "stream",
     "text": [
      "\n",
      " Training data performance: \n",
      "MLBase.ROCNums{Int64}\n",
      "  p = 13\n",
      "  n = 90\n",
      "  tp = 11\n",
      "  tn = 90\n",
      "  fp = 0\n",
      "  fn = 2\n",
      "precision: 1.0\n",
      "recall: 0.8461538461538461\n",
      "f1score: 0.9166666666666666\n",
      "equal error rate: 0.07692307692307693\n",
      "\n",
      " Testing data performance: \n",
      "MLBase.ROCNums{Int64}\n",
      "  p = 13\n",
      "  n = 90\n",
      "  tp = 11\n",
      "  tn = 90\n",
      "  fp = 0\n",
      "  fn = 2\n",
      "precision: 1.0\n",
      "recall: 0.8461538461538461\n",
      "f1score: 0.9166666666666666\n",
      "equal error rate: 0.07692307692307693\n"
     ]
    }
   ],
   "source": [
    "# get the labels and roc stats\n",
    "tryhat, tstyhat = AnomalyDetection.rocstats(dataset, dataset, model);"
   ]
  },
  {
   "cell_type": "code",
   "execution_count": 12,
   "metadata": {
    "collapsed": true
   },
   "outputs": [],
   "source": [
    "using ScikitLearn.Utils: meshgrid"
   ]
  },
  {
   "cell_type": "code",
   "execution_count": 13,
   "metadata": {},
   "outputs": [
    {
     "data": {
      "image/png": "[encoded data removed]",
      "text/plain": [
       "PyPlot.Figure(PyObject <matplotlib.figure.Figure object at 0x7efcd1bfd080>)"
      ]
     },
     "metadata": {},
     "output_type": "display_data"
    }
   ],
   "source": [
    "# plot heatmap of the fit\n",
    "figure()\n",
    "title(\"classification results\")\n",
    "scatter(X[1, tstyhat.==1], X[2, tstyhat.==1], c = \"r\")\n",
    "ax = gca()\n",
    "ylim = ax[:get_ylim]()\n",
    "xlim = ax[:get_xlim]()\n",
    "xx, yy = meshgrid(linspace(xlim[1], xlim[2], 30), linspace(ylim[1], ylim[2], 30))\n",
    "zz = zeros(size(xx))\n",
    "for i in 1:size(xx, 1)\n",
    "    for j in 1:size(xx, 2)\n",
    "        zz[i,j] = AnomalyDetection.rerr(model, [xx[i,j], yy[i,j]]).data[1]\n",
    "    end\n",
    "end\n",
    "axsurf = ax[:contourf](xx, yy, zz)\n",
    "cb = colorbar(axsurf, fraction = 0.05, shrink = 0.5, pad = 0.1)\n",
    "scatter(X[1, tstyhat.==1], X[2, tstyhat.==1], c = \"r\", label = \"predicted positive\")\n",
    "scatter(X[1, tstyhat.==0], X[2, tstyhat.==0], c = \"g\", label = \"predicted negative\")\n",
    "b = AnomalyDetection.generate(model)\n",
    "scatter(b[1], b[2], c = \"y\", label = \"generated sample\")\n",
    "legend(loc = \"upper right\")\n",
    "show()"
   ]
  },
  {
   "cell_type": "code",
   "execution_count": 14,
   "metadata": {},
   "outputs": [
    {
     "data": {
      "image/png": "[encoded data removed]",
      "text/plain": [
       "PyPlot.Figure(PyObject <matplotlib.figure.Figure object at 0x7efcba78d9b0>)"
      ]
     },
     "metadata": {},
     "output_type": "display_data"
    }
   ],
   "source": [
    "# what are the codes?\n",
    "figure()\n",
    "title(\"code distribution\")\n",
    "z1 = model.vae.encoder(X[:,1:30]).data\n",
    "z2 = model.vae.encoder(X[:,31:60]).data\n",
    "z3 = model.vae.encoder(X[:,61:90]).data\n",
    "za = model.vae.encoder(X[:,91:end]).data\n",
    "\n",
    "scatter(z1[1,:], z1[2,:], label = \"first cluster\")\n",
    "scatter(z2[1,:], z2[2,:], label = \"second cluster\")\n",
    "scatter(z3[1,:], z3[2,:], label = \"third cluster\")\n",
    "scatter(za[1,:], za[2,:], s = 10, label = \"anomalous data\")\n",
    "legend()\n",
    "show()"
   ]
  }
 ],
 "metadata": {
  "kernelspec": {
   "display_name": "Julia 0.6.1",
   "language": "julia",
   "name": "julia-0.6"
  },
  "language_info": {
   "file_extension": ".jl",
   "mimetype": "application/julia",
   "name": "julia",
   "version": "0.6.1"
  }
 },
 "nbformat": 4,
 "nbformat_minor": 2
}
