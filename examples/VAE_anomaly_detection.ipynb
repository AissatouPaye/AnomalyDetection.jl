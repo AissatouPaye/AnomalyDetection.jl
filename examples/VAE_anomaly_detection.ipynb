{
 "cells": [
  {
   "cell_type": "code",
   "execution_count": 1,
   "metadata": {
    "collapsed": true
   },
   "outputs": [],
   "source": [
    "using Flux\n",
    "using JLD\n",
    "using PyPlot\n",
    "\n",
    "code_path = \"../src\"\n",
    "\n",
    "push!(LOAD_PATH, code_path)\n",
    "using AnomalyDetection"
   ]
  },
  {
   "cell_type": "code",
   "execution_count": 2,
   "metadata": {},
   "outputs": [
    {
     "data": {
      "text/plain": [
       "103-element Array{Int64,1}:\n",
       " 0\n",
       " 0\n",
       " 0\n",
       " 0\n",
       " 0\n",
       " 0\n",
       " 0\n",
       " 0\n",
       " 0\n",
       " 0\n",
       " 0\n",
       " 0\n",
       " 0\n",
       " ⋮\n",
       " 1\n",
       " 1\n",
       " 1\n",
       " 1\n",
       " 1\n",
       " 1\n",
       " 1\n",
       " 1\n",
       " 1\n",
       " 1\n",
       " 1\n",
       " 1"
      ]
     },
     "execution_count": 2,
     "metadata": {},
     "output_type": "execute_result"
    }
   ],
   "source": [
    "# load data\n",
    "dataset = load(\"toy_data_3.jld\")[\"data\"]\n",
    "x = dataset.data[:,dataset.labels.==0]\n",
    "y = dataset.labels"
   ]
  },
  {
   "cell_type": "code",
   "execution_count": 3,
   "metadata": {},
   "outputs": [
    {
     "data": {
      "text/plain": [
       "AnomalyDetection.VAEmodel(AnomalyDetection.VAE{Flux.Chain,AnomalyDetection.#sample_z,Flux.Chain}(Chain(Chain(Dense(2, 10, NNlib.relu), Dense(10, 10, NNlib.relu)), Dense(10, 4)), AnomalyDetection.sample_z, Chain(Chain(Dense(2, 10, NNlib.relu), Dense(10, 10, NNlib.relu)), Dense(10, 2))), 0.001, 0, 0.1262135922330097, 2000, 500, true, 100, 0.001)"
      ]
     },
     "execution_count": 3,
     "metadata": {},
     "output_type": "execute_result"
    }
   ],
   "source": [
    "# VAE settings\n",
    "indim = size(x,1)\n",
    "hiddendim = 10\n",
    "latentdim = 2\n",
    "nlayers = 2\n",
    "\n",
    "# setup the VAE object\n",
    "esize = [indim; hiddendim; hiddendim; latentdim*2] # encoder architecture\n",
    "dsize = [latentdim; hiddendim; hiddendim; indim] # decoder architecture\n",
    "lambda = 0.001 # KLD weight in loss function\n",
    "threshold = 0 # classification threshold, is recomputed during fit!()\n",
    "contamination = size(y[y.==1],1)/size(y, 1) # for automatic threshold computation\n",
    "iterations = 2000\n",
    "cbit = 500 # after this number of iteratiosn, callback is printed\n",
    "verbfit = true\n",
    "L = 100 # samples for classification\n",
    "activation = Flux.relu\n",
    "rdelta = 1e-3 # reconstruction error threshold for training stopping\n",
    "model = VAEmodel(esize, dsize, lambda, threshold, contamination, iterations, cbit, verbfit, \n",
    "    L, activation = activation, rdelta = rdelta)"
   ]
  },
  {
   "cell_type": "code",
   "execution_count": 4,
   "metadata": {},
   "outputs": [
    {
     "name": "stdout",
     "output_type": "stream",
     "text": [
      "loss: 0.381062\n",
      "reconstruction error: 0.389495\n",
      "KL: 0.387688\n",
      "\n",
      "loss: 0.0477305\n",
      "reconstruction error: 0.0439522\n",
      "KL: 1.70539\n",
      "\n",
      "loss: 0.00563793\n",
      "reconstruction error: 0.0021419\n",
      "KL: 3.39722\n",
      "\n",
      "Training ended prematurely after 1321 iterations,\n",
      "reconstruction error 0.0009680379481482621 < 0.001\n",
      "loss: 0.00423295\n",
      "reconstruction error: 0.000945779\n",
      "KL: 3.06602\n",
      "\n"
     ]
    }
   ],
   "source": [
    "# fit the model\n",
    "AnomalyDetection.evalloss(model, x)\n",
    "AnomalyDetection.fit!(model, x)\n",
    "AnomalyDetection.evalloss(model, x)"
   ]
  },
  {
   "cell_type": "code",
   "execution_count": 5,
   "metadata": {},
   "outputs": [
    {
     "data": {
      "text/plain": [
       "Tracked 2×90 Array{Float64,2}:\n",
       " 0.813312  0.787218  0.841892  0.821998  …  0.0335421  0.0319015  0.0381259\n",
       " 0.818118  0.795564  0.839566  0.825271     1.03073    0.969583   0.971007 "
      ]
     },
     "execution_count": 5,
     "metadata": {},
     "output_type": "execute_result"
    }
   ],
   "source": [
    "model(x)"
   ]
  },
  {
   "cell_type": "code",
   "execution_count": 6,
   "metadata": {},
   "outputs": [
    {
     "data": {
      "text/plain": [
       "2×90 Array{Float64,2}:\n",
       " 0.803442  0.804605  0.807145  0.819485  …  0.0350314  0.0613807  0.0685027\n",
       " 0.821998  0.834235  0.826129  0.848182     0.973926   1.00745    0.973256 "
      ]
     },
     "execution_count": 6,
     "metadata": {},
     "output_type": "execute_result"
    }
   ],
   "source": [
    "x"
   ]
  },
  {
   "cell_type": "code",
   "execution_count": 7,
   "metadata": {},
   "outputs": [
    {
     "data": {
      "text/plain": [
       "Tracked 2×90 Array{Float64,2}:\n",
       " -1.95935   -1.95991   -1.97315   …   0.686164    0.710361    0.70884  \n",
       "  0.198435   0.200209   0.200277     -0.0891958  -0.0979872  -0.0993475"
      ]
     },
     "execution_count": 7,
     "metadata": {},
     "output_type": "execute_result"
    }
   ],
   "source": [
    "AnomalyDetection.mu(model, x)"
   ]
  },
  {
   "cell_type": "code",
   "execution_count": 8,
   "metadata": {},
   "outputs": [
    {
     "data": {
      "text/plain": [
       "Tracked 2×90 Array{Float64,2}:\n",
       " 0.0716959  0.0710197  0.0711478  0.0689799  …  0.19968   0.192128  0.193996\n",
       " 0.279206   0.279189   0.277712   0.27312       0.719269  0.710782  0.711616"
      ]
     },
     "execution_count": 8,
     "metadata": {},
     "output_type": "execute_result"
    }
   ],
   "source": [
    "AnomalyDetection.sigma(model,x)"
   ]
  },
  {
   "cell_type": "code",
   "execution_count": 9,
   "metadata": {},
   "outputs": [
    {
     "data": {
      "text/plain": [
       "Tracked 2×90 Array{Float64,2}:\n",
       " -1.95383    -1.91305   -2.10536   …  0.494772  0.381495   0.943261\n",
       " -0.0996436   0.655734   0.426655     0.763558  0.257482  -0.11376 "
      ]
     },
     "execution_count": 9,
     "metadata": {},
     "output_type": "execute_result"
    }
   ],
   "source": [
    "AnomalyDetection.sample_z(model, x)"
   ]
  },
  {
   "cell_type": "code",
   "execution_count": 10,
   "metadata": {},
   "outputs": [
    {
     "data": {
      "text/plain": [
       "103-element Array{Int64,1}:\n",
       " 0\n",
       " 0\n",
       " 0\n",
       " 0\n",
       " 0\n",
       " 0\n",
       " 0\n",
       " 0\n",
       " 0\n",
       " 0\n",
       " 0\n",
       " 0\n",
       " 0\n",
       " ⋮\n",
       " 1\n",
       " 1\n",
       " 1\n",
       " 1\n",
       " 1\n",
       " 1\n",
       " 1\n",
       " 1\n",
       " 1\n",
       " 1\n",
       " 1\n",
       " 1"
      ]
     },
     "execution_count": 10,
     "metadata": {},
     "output_type": "execute_result"
    }
   ],
   "source": [
    "# predict labels\n",
    "X = dataset.data\n",
    "y = dataset.labels\n",
    "tryhat = AnomalyDetection.predict(model, X)"
   ]
  },
  {
   "cell_type": "code",
   "execution_count": 11,
   "metadata": {},
   "outputs": [
    {
     "name": "stdout",
     "output_type": "stream",
     "text": [
      "\n",
      " Training data performance: \n",
      "MLBase.ROCNums{Int64}\n",
      "  p = 13\n",
      "  n = 90\n",
      "  tp = 13\n",
      "  tn = 84\n",
      "  fp = 6\n",
      "  fn = 0\n",
      "precision: 0.6842105263157895\n",
      "recall: 1.0\n",
      "f1score: 0.8125\n",
      "equal error rate: 0.03333333333333333\n",
      "\n",
      " Testing data performance: \n",
      "MLBase.ROCNums{Int64}\n",
      "  p = 13\n",
      "  n = 90\n",
      "  tp = 13\n",
      "  tn = 84\n",
      "  fp = 6\n",
      "  fn = 0\n",
      "precision: 0.6842105263157895\n",
      "recall: 1.0\n",
      "f1score: 0.8125\n",
      "equal error rate: 0.03333333333333333\n"
     ]
    }
   ],
   "source": [
    "# get the labels and roc stats\n",
    "tryhat, tstyhat = AnomalyDetection.rocstats(dataset.data, dataset.labels, \n",
    "    dataset.data, dataset.labels, model);"
   ]
  },
  {
   "cell_type": "code",
   "execution_count": 12,
   "metadata": {
    "collapsed": true
   },
   "outputs": [],
   "source": [
    "using ScikitLearn.Utils: meshgrid"
   ]
  },
  {
   "cell_type": "code",
   "execution_count": 13,
   "metadata": {},
   "outputs": [
    {
     "data": {
      "image/png": "[encoded data removed]",
      "text/plain": [
       "PyPlot.Figure(PyObject <matplotlib.figure.Figure object at 0x7fb081e7d080>)"
      ]
     },
     "metadata": {},
     "output_type": "display_data"
    }
   ],
   "source": [
    "# plot heatmap of the fit\n",
    "figure()\n",
    "title(\"classification results\")\n",
    "scatter(X[1, tstyhat.==1], X[2, tstyhat.==1], c = \"r\")\n",
    "ax = gca()\n",
    "ylim = ax[:get_ylim]()\n",
    "xlim = ax[:get_xlim]()\n",
    "xx, yy = meshgrid(linspace(xlim[1], xlim[2], 30), linspace(ylim[1], ylim[2], 30))\n",
    "zz = zeros(size(xx))\n",
    "for i in 1:size(xx, 1)\n",
    "    for j in 1:size(xx, 2)\n",
    "        zz[i,j] = AnomalyDetection.rerr(model, [xx[i,j], yy[i,j]]).data[1]\n",
    "    end\n",
    "end\n",
    "axsurf = ax[:contourf](xx, yy, zz)\n",
    "cb = colorbar(axsurf, fraction = 0.05, shrink = 0.5, pad = 0.1)\n",
    "scatter(X[1, tstyhat.==1], X[2, tstyhat.==1], c = \"r\", label = \"predicted positive\")\n",
    "scatter(X[1, tstyhat.==0], X[2, tstyhat.==0], c = \"g\", label = \"predicted negative\")\n",
    "b = AnomalyDetection.generate(model)\n",
    "scatter(b[1], b[2], c = \"y\", label = \"generated sample\")\n",
    "legend(loc = \"upper right\")\n",
    "show()"
   ]
  },
  {
   "cell_type": "code",
   "execution_count": 14,
   "metadata": {},
   "outputs": [
    {
     "data": {
      "image/png": "[encoded data removed]",
      "text/plain": [
       "PyPlot.Figure(PyObject <matplotlib.figure.Figure object at 0x7fb06aacf668>)"
      ]
     },
     "metadata": {},
     "output_type": "display_data"
    }
   ],
   "source": [
    "# what are the codes?\n",
    "figure()\n",
    "title(\"code distribution\")\n",
    "z1 = model.vae.encoder(X[:,1:30]).data\n",
    "z2 = model.vae.encoder(X[:,31:60]).data\n",
    "z3 = model.vae.encoder(X[:,61:90]).data\n",
    "za = model.vae.encoder(X[:,91:end]).data\n",
    "\n",
    "scatter(z1[1,:], z1[2,:], label = \"first cluster\")\n",
    "scatter(z2[1,:], z2[2,:], label = \"second cluster\")\n",
    "scatter(z3[1,:], z3[2,:], label = \"third cluster\")\n",
    "scatter(za[1,:], za[2,:], s = 10, label = \"anomalous data\")\n",
    "legend()\n",
    "show()"
   ]
  }
 ],
 "metadata": {
  "kernelspec": {
   "display_name": "Julia 0.6.1",
   "language": "julia",
   "name": "julia-0.6"
  },
  "language_info": {
   "file_extension": ".jl",
   "mimetype": "application/julia",
   "name": "julia",
   "version": "0.6.1"
  }
 },
 "nbformat": 4,
 "nbformat_minor": 2
}
