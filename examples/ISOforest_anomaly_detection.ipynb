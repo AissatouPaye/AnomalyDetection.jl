{
 "cells": [
  {
   "cell_type": "code",
   "execution_count": 1,
   "metadata": {
    "collapsed": true,
    "scrolled": true
   },
   "outputs": [],
   "source": [
    "using PyPlot, JLD, AnomalyDetection, EvalCurves\n",
    "import PyPlot: plot\n",
    "using ScikitLearn: @sk_import, fit!, predict\n",
    "using ScikitLearn.Utils: meshgrid "
   ]
  },
  {
   "cell_type": "code",
   "execution_count": 2,
   "metadata": {},
   "outputs": [
    {
     "data": {
      "text/plain": [
       "AnomalyDetection.Dataset(Float32[0.803442 0.804605 … 0.252366 -0.216809; 0.821998 0.834235 … 0.714171 1.09756], [0, 0, 0, 0, 0, 0, 0, 0, 0, 0  …  1, 1, 1, 1, 1, 1, 1, 1, 1, 1])"
      ]
     },
     "execution_count": 2,
     "metadata": {},
     "output_type": "execute_result"
    }
   ],
   "source": [
    "dataset = load(\"toy_data_3.jld\")[\"data\"]"
   ]
  },
  {
   "cell_type": "code",
   "execution_count": 3,
   "metadata": {},
   "outputs": [
    {
     "data": {
      "image/png": "[encoded data removed]",
      "text/plain": [
       "PyPlot.Figure(PyObject <matplotlib.figure.Figure object at 0x7fe6f8d4f0f0>)"
      ]
     },
     "metadata": {},
     "output_type": "display_data"
    }
   ],
   "source": [
    "figure()\n",
    "X = dataset.data\n",
    "y = dataset.labels\n",
    "scatter(X[1, y.==1], X[2, y.==1])\n",
    "scatter(X[1, y.==0], X[2, y.==0])\n",
    "show()"
   ]
  },
  {
   "cell_type": "code",
   "execution_count": 4,
   "metadata": {},
   "outputs": [
    {
     "data": {
      "text/plain": [
       "PyObject <class 'sklearn.ensemble.iforest.IsolationForest'>"
      ]
     },
     "execution_count": 4,
     "metadata": {},
     "output_type": "execute_result"
    }
   ],
   "source": [
    "# import the isolation forest from SKlearn\n",
    "@sk_import ensemble: IsolationForest"
   ]
  },
  {
   "cell_type": "code",
   "execution_count": 5,
   "metadata": {},
   "outputs": [
    {
     "data": {
      "text/plain": [
       "PyObject IsolationForest(bootstrap=False, contamination=0.1262135922330097,\n",
       "        max_features=1.0, max_samples='auto', n_estimators=100, n_jobs=1,\n",
       "        random_state=0, verbose=0)"
      ]
     },
     "execution_count": 5,
     "metadata": {},
     "output_type": "execute_result"
    }
   ],
   "source": [
    "n_estimators=100  # how many estimators to use\n",
    "max_samples=\"auto\" # how many samples to draw from X for each estimator\n",
    "contamination = size(y[y.==1],1)/size(y,1) # to set the decision threshold\n",
    "max_features=1.0 # how many features to use (if float, then it is a ratio)\n",
    "bootstrap=false # bootstrapping - if false, sample without replacing\n",
    "n_jobs=1 # how many cores to use\n",
    "#random_state=None # seed or generator\n",
    "verbose=0 # verbosity of the fitting\n",
    "isoforest = IsolationForest(n_estimators, max_samples, contamination, max_features, bootstrap,\n",
    "    n_jobs, verbose)"
   ]
  },
  {
   "cell_type": "code",
   "execution_count": 6,
   "metadata": {},
   "outputs": [
    {
     "data": {
      "text/plain": [
       "PyObject IsolationForest(bootstrap=False, contamination=0.1262135922330097,\n",
       "        max_features=1.0, max_samples='auto', n_estimators=100, n_jobs=1,\n",
       "        random_state=0, verbose=0)"
      ]
     },
     "execution_count": 6,
     "metadata": {},
     "output_type": "execute_result"
    }
   ],
   "source": [
    "fit!(isoforest, X[:,y.==0]')"
   ]
  },
  {
   "cell_type": "code",
   "execution_count": 7,
   "metadata": {
    "collapsed": true
   },
   "outputs": [],
   "source": [
    "import ScikitLearn: decision_function"
   ]
  },
  {
   "cell_type": "code",
   "execution_count": 8,
   "metadata": {},
   "outputs": [
    {
     "data": {
      "text/plain": [
       "103-element Array{Float64,1}:\n",
       "  0.0563444\n",
       "  0.0647463\n",
       "  0.0707768\n",
       " -0.0382797\n",
       " -0.0831636\n",
       "  0.011229 \n",
       "  0.0230698\n",
       "  0.0714948\n",
       "  0.0526769\n",
       "  0.0679009\n",
       "  0.0771799\n",
       " -0.0192895\n",
       " -0.0339993\n",
       "  ⋮        \n",
       " -0.0479485\n",
       " -0.0909   \n",
       " -0.0986153\n",
       " -0.0980974\n",
       " -0.0872322\n",
       " -0.126248 \n",
       " -0.126248 \n",
       " -0.0873423\n",
       " -0.111835 \n",
       " -0.0722266\n",
       " -0.0978438\n",
       " -0.0909   "
      ]
     },
     "execution_count": 8,
     "metadata": {},
     "output_type": "execute_result"
    }
   ],
   "source": [
    "decision_function(isoforest, X')[:]"
   ]
  },
  {
   "cell_type": "code",
   "execution_count": 9,
   "metadata": {},
   "outputs": [
    {
     "data": {
      "text/plain": [
       "103-element Array{Int64,1}:\n",
       " 1\n",
       " 1\n",
       " 1\n",
       " 0\n",
       " 0\n",
       " 1\n",
       " 1\n",
       " 1\n",
       " 1\n",
       " 1\n",
       " 1\n",
       " 1\n",
       " 0\n",
       " ⋮\n",
       " 0\n",
       " 0\n",
       " 0\n",
       " 0\n",
       " 0\n",
       " 0\n",
       " 0\n",
       " 0\n",
       " 0\n",
       " 0\n",
       " 0\n",
       " 0"
      ]
     },
     "execution_count": 9,
     "metadata": {},
     "output_type": "execute_result"
    }
   ],
   "source": [
    "tsthat = AnomalyDetection.labels2bin(predict(isoforest, dataset.data'))"
   ]
  },
  {
   "cell_type": "code",
   "execution_count": 10,
   "metadata": {},
   "outputs": [],
   "source": [
    "# anomaly score contour plot\n",
    "# get limits of the figure\n",
    "xl = (minimum(X[1,:])-0.05, maximum(X[1,:]) + 0.05)\n",
    "yl = (minimum(X[2,:])-0.05, maximum(X[2,:]) + 0.05)\n",
    "\n",
    "# compute the anomaly score on a grid\n",
    "x = linspace(xl[1], xl[2], 30)\n",
    "y = linspace(yl[1], yl[2], 30)\n",
    "zz = zeros(size(y,1),size(x,1))\n",
    "for i in 1:size(y, 1)\n",
    "    for j in 1:size(x, 1)\n",
    "        zz[i,j] = ScikitLearn.decision_function(isoforest, [x[j], y[i]]')[1]\n",
    "    end\n",
    "end"
   ]
  },
  {
   "cell_type": "code",
   "execution_count": 11,
   "metadata": {},
   "outputs": [
    {
     "data": {
      "image/png": "[encoded data removed]",
      "text/plain": [
       "PyPlot.Figure(PyObject <matplotlib.figure.Figure object at 0x7fe6d3c6fac8>)"
      ]
     },
     "metadata": {},
     "output_type": "display_data"
    }
   ],
   "source": [
    "# plot it all\n",
    "f = figure()\n",
    "contourf(x, y, zz)\n",
    "scatter(X[1, tsthat.==0], X[2, tsthat.==0], c = \"r\", \n",
    "    label = \"predicted positive\")\n",
    "scatter(X[1, tsthat.==1], X[2, tsthat.==1], c = \"g\", \n",
    "    label = \"predicted negative\")\n",
    "title(\"classification results\")\n",
    "xlim(xl)\n",
    "ylim(yl)\n",
    "legend()\n",
    "show()\n"
   ]
  }
 ],
 "metadata": {
  "kernelspec": {
   "display_name": "Julia 0.6.1",
   "language": "julia",
   "name": "julia-0.6"
  },
  "language_info": {
   "file_extension": ".jl",
   "mimetype": "application/julia",
   "name": "julia",
   "version": "0.6.1"
  }
 },
 "nbformat": 4,
 "nbformat_minor": 2
}
