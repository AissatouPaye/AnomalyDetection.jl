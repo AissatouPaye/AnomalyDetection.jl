{
 "cells": [
  {
   "cell_type": "code",
   "execution_count": 1,
   "metadata": {
    "collapsed": true
   },
   "outputs": [],
   "source": [
    "using Flux\n",
    "using JLD\n",
    "using PyPlot\n",
    "\n",
    "code_path = \"../src\"\n",
    "\n",
    "push!(LOAD_PATH, code_path)\n",
    "using AnomalyDetection"
   ]
  },
  {
   "cell_type": "code",
   "execution_count": 2,
   "metadata": {},
   "outputs": [
    {
     "data": {
      "text/plain": [
       "2×90 Array{Float64,2}:\n",
       " 0.803442  0.804605  0.807145  0.819485  …  0.0350314  0.0613807  0.0685027\n",
       " 0.821998  0.834235  0.826129  0.848182     0.973926   1.00745    0.973256 "
      ]
     },
     "execution_count": 2,
     "metadata": {},
     "output_type": "execute_result"
    }
   ],
   "source": [
    "# load data\n",
    "dataset = load(\"toy_data_3.jld\")[\"data\"]\n",
    "x = dataset.data[:,dataset.labels.==0]"
   ]
  },
  {
   "cell_type": "code",
   "execution_count": 3,
   "metadata": {},
   "outputs": [
    {
     "data": {
      "image/png": "[encoded data removed]",
      "text/plain": [
       "PyPlot.Figure(PyObject <matplotlib.figure.Figure object at 0x7fa3b001ef98>)"
      ]
     },
     "metadata": {},
     "output_type": "display_data"
    }
   ],
   "source": [
    "figure()\n",
    "X = dataset.data\n",
    "y = dataset.labels\n",
    "scatter(X[1, y.==1], X[2, y.==1])\n",
    "scatter(X[1, y.==0], X[2, y.==0])\n",
    "show()"
   ]
  },
  {
   "cell_type": "code",
   "execution_count": 24,
   "metadata": {},
   "outputs": [
    {
     "data": {
      "text/plain": [
       "AnomalyDetection.VAEmodel(AnomalyDetection.VAE{Flux.Chain,AnomalyDetection.#sample_z,Flux.Chain}(Chain(Chain(Dense(2, 10, NNlib.relu), Dense(10, 10, NNlib.relu)), Dense(10, 4)), AnomalyDetection.sample_z, Chain(Chain(Dense(2, 10, NNlib.relu), Dense(10, 10, NNlib.relu)), Dense(10, 2))), 1, 0, 0.1, 50, 1, true, 100)"
      ]
     },
     "execution_count": 24,
     "metadata": {},
     "output_type": "execute_result"
    }
   ],
   "source": [
    "# VAE settings\n",
    "indim = size(x,1)\n",
    "hiddendim = 10\n",
    "latentdim = 2\n",
    "nlayers = 2\n",
    "\n",
    "# setup the VAE object\n",
    "lambda = 1\n",
    "L = 100 # samples for classification\n",
    "# arguments: 4 problem dimensions, \n",
    "# predict threshold, contamination level, iterations, throttle, verbal fit\n",
    "model = VAEmodel(indim, hiddendim, latentdim, nlayers, lambda, 0, 0.1, 50, 1, true, L)"
   ]
  },
  {
   "cell_type": "code",
   "execution_count": 25,
   "metadata": {},
   "outputs": [
    {
     "name": "stdout",
     "output_type": "stream",
     "text": [
      "loss: 0.16083281475100233\n",
      "reconstruction error: 0.19440084336535807\n",
      "KL: 0.31064576906453756\n",
      "\n",
      "loss: 0.0775105675000202\n",
      "reconstruction error: 0.08430616310854638\n",
      "KL: 0.6210291442465208\n",
      "\n",
      "loss: 0.07171314359867363\n",
      "reconstruction error: 0.06787059614013508\n",
      "KL: 0.9036055086904929\n",
      "\n",
      "loss: 0.05788154530532742\n",
      "reconstruction error: 0.05977456612922051\n",
      "KL: 0.8714279567277111\n",
      "\n",
      "loss: 0.041020686713530416\n",
      "reconstruction error: 0.041287644644234865\n",
      "KL: 1.0826496506392411\n",
      "\n",
      "loss: 0.023017708767484525\n",
      "reconstruction error: 0.03034127114078324\n",
      "KL: 1.62019724585382\n",
      "\n",
      "loss: 0.01907977173257528\n",
      "reconstruction error: 0.013518490306242177\n",
      "KL: 2.3984329878247244\n",
      "\n",
      "loss: 0.011817633691322691\n",
      "reconstruction error: 0.008786116999700397\n",
      "KL: 3.425172633238826\n",
      "\n",
      "loss: 0.00920657131766445\n",
      "reconstruction error: 0.005955734239524911\n",
      "KL: 3.8139140810027397\n",
      "\n",
      "loss: 0.008356835601358848\n",
      "reconstruction error: 0.0037779515461209877\n",
      "KL: 4.0270633725921785\n",
      "\n",
      "loss: 0.007288914655649401\n",
      "reconstruction error: 0.00253833325766492\n",
      "KL: 3.924706103877396\n",
      "\n",
      "loss: 0.006665637351795041\n",
      "reconstruction error: 0.0027122028051902386\n",
      "KL: 3.8870281998855414\n",
      "\n",
      "loss: 0.005547601937879796\n",
      "reconstruction error: 0.0025108405056192\n",
      "KL: 3.9560063754702797\n",
      "\n",
      "loss: 0.00601398391610336\n",
      "reconstruction error: 0.0016561420689065085\n",
      "KL: 3.890981543053676\n",
      "\n",
      "loss: 0.0052607226858603995\n",
      "reconstruction error: 0.0010791195972180703\n",
      "KL: 3.8242415592279118\n",
      "\n",
      "loss: 0.004840045430356092\n",
      "reconstruction error: 0.0012279148712131774\n",
      "KL: 3.7699749576544126\n",
      "\n",
      "loss: 0.004855522449608194\n",
      "reconstruction error: 0.0010090307397846387\n",
      "KL: 3.636473175073104\n",
      "\n",
      "loss: 0.004865357857795179\n",
      "reconstruction error: 0.001327044272593605\n",
      "KL: 3.6417790597279143\n",
      "\n",
      "loss: 0.004726912081858766\n",
      "reconstruction error: 0.0012372267272358329\n",
      "KL: 3.511019308394739\n",
      "\n",
      "loss: 0.005466382943198731\n",
      "reconstruction error: 0.0011644720559715548\n",
      "KL: 3.545251421908929\n",
      "\n",
      "loss: 0.004766732355876248\n",
      "reconstruction error: 0.0009271764078210505\n",
      "KL: 3.4666482064172026\n",
      "\n",
      "loss: 0.004220724152126595\n",
      "reconstruction error: 0.001279699309551072\n",
      "KL: 3.4133202993131087\n",
      "\n"
     ]
    }
   ],
   "source": [
    "# fit the model\n",
    "model.lambda = 0.001\n",
    "model.verbfit = false\n",
    "while AnomalyDetection.rerr(model, x).data[1] > 0.001\n",
    "    AnomalyDetection.fit!(model, x)\n",
    "    AnomalyDetection.evalloss(model, x)\n",
    "end"
   ]
  },
  {
   "cell_type": "code",
   "execution_count": 9,
   "metadata": {},
   "outputs": [
    {
     "data": {
      "text/plain": [
       "Tracked 2×90 Array{Float64,2}:\n",
       " 0.826315  0.806261  0.829508  0.811588  …  0.0462365  0.0468529  0.0460043\n",
       " 0.851121  0.832125  0.849252  0.836555     0.935931   0.934019   0.936651 "
      ]
     },
     "execution_count": 9,
     "metadata": {},
     "output_type": "execute_result"
    }
   ],
   "source": [
    "model(x)"
   ]
  },
  {
   "cell_type": "code",
   "execution_count": 10,
   "metadata": {},
   "outputs": [
    {
     "data": {
      "text/plain": [
       "2×90 Array{Float64,2}:\n",
       " 0.803442  0.804605  0.807145  0.819485  …  0.0350314  0.0613807  0.0685027\n",
       " 0.821998  0.834235  0.826129  0.848182     0.973926   1.00745    0.973256 "
      ]
     },
     "execution_count": 10,
     "metadata": {},
     "output_type": "execute_result"
    }
   ],
   "source": [
    "x"
   ]
  },
  {
   "cell_type": "code",
   "execution_count": 11,
   "metadata": {},
   "outputs": [
    {
     "data": {
      "text/plain": [
       "Tracked 2×90 Array{Float64,2}:\n",
       " -0.253805  -0.244573  -0.253223  …   1.48284    1.49412    1.41526 \n",
       " -1.00222   -1.02324   -1.01157      -0.778165  -0.851892  -0.797923"
      ]
     },
     "execution_count": 11,
     "metadata": {},
     "output_type": "execute_result"
    }
   ],
   "source": [
    "AnomalyDetection.mu(model, x)"
   ]
  },
  {
   "cell_type": "code",
   "execution_count": 12,
   "metadata": {},
   "outputs": [
    {
     "data": {
      "text/plain": [
       "Tracked 2×90 Array{Float64,2}:\n",
       " 0.241561   0.237502   0.239894   …  0.0961456  0.0902303  0.0990225\n",
       " 0.0525263  0.0512016  0.0519064     0.122841   0.112154   0.11722  "
      ]
     },
     "execution_count": 12,
     "metadata": {},
     "output_type": "execute_result"
    }
   ],
   "source": [
    "AnomalyDetection.sigma(model,x)"
   ]
  },
  {
   "cell_type": "code",
   "execution_count": 13,
   "metadata": {},
   "outputs": [
    {
     "data": {
      "text/plain": [
       "Tracked 2×90 Array{Float64,2}:\n",
       " -0.179686   0.162125  -0.276929  …   1.5074     1.49857    1.52329 \n",
       " -0.945104  -0.990377  -0.947608     -0.901374  -0.699987  -0.875815"
      ]
     },
     "execution_count": 13,
     "metadata": {},
     "output_type": "execute_result"
    }
   ],
   "source": [
    "AnomalyDetection.sample_z(model, x)"
   ]
  },
  {
   "cell_type": "code",
   "execution_count": 26,
   "metadata": {},
   "outputs": [
    {
     "data": {
      "text/plain": [
       "103-element Array{Int64,1}:\n",
       " 0\n",
       " 0\n",
       " 0\n",
       " 0\n",
       " 0\n",
       " 0\n",
       " 0\n",
       " 0\n",
       " 0\n",
       " 0\n",
       " 0\n",
       " 0\n",
       " 0\n",
       " ⋮\n",
       " 1\n",
       " 1\n",
       " 1\n",
       " 1\n",
       " 1\n",
       " 1\n",
       " 1\n",
       " 1\n",
       " 1\n",
       " 1\n",
       " 1\n",
       " 1"
      ]
     },
     "execution_count": 26,
     "metadata": {},
     "output_type": "execute_result"
    }
   ],
   "source": [
    "# predict labels\n",
    "X = dataset.data\n",
    "y = dataset.labels\n",
    "model.contamination = size(y[y.==1],1)/size(y, 1)\n",
    "tryhat = AnomalyDetection.predict(model, X)"
   ]
  },
  {
   "cell_type": "code",
   "execution_count": 29,
   "metadata": {},
   "outputs": [
    {
     "name": "stdout",
     "output_type": "stream",
     "text": [
      "\n",
      " Training data performance: \n",
      "MLBase.ROCNums{Int64}\n",
      "  p = 13\n",
      "  n = 90\n",
      "  tp = 13\n",
      "  tn = 90\n",
      "  fp = 0\n",
      "  fn = 0\n",
      "precision: 1.0\n",
      "recall: 1.0\n",
      "f1score: 1.0\n",
      "equal error rate: 0.0\n",
      "\n",
      " Testing data performance: \n",
      "MLBase.ROCNums{Int64}\n",
      "  p = 13\n",
      "  n = 90\n",
      "  tp = 12\n",
      "  tn = 90\n",
      "  fp = 0\n",
      "  fn = 1\n",
      "precision: 1.0\n",
      "recall: 0.9230769230769231\n",
      "f1score: 0.96\n",
      "equal error rate: 0.038461538461538464\n"
     ]
    },
    {
     "data": {
      "text/plain": [
       "([0, 0, 0, 0, 0, 0, 0, 0, 0, 0  …  1, 1, 1, 1, 1, 1, 1, 1, 1, 1], [0, 0, 0, 0, 0, 0, 0, 0, 0, 0  …  1, 1, 1, 1, 1, 0, 1, 1, 1, 1])"
      ]
     },
     "execution_count": 29,
     "metadata": {},
     "output_type": "execute_result"
    }
   ],
   "source": [
    "model.verbfit = false\n",
    "tryhat, tstyhat = AnomalyDetection.quickvalidate!(dataset, dataset, model)"
   ]
  },
  {
   "cell_type": "code",
   "execution_count": 16,
   "metadata": {
    "collapsed": true
   },
   "outputs": [],
   "source": [
    "using ScikitLearn.Utils: meshgrid"
   ]
  },
  {
   "cell_type": "code",
   "execution_count": 34,
   "metadata": {},
   "outputs": [
    {
     "data": {
      "image/png": "[encoded data removed]",
      "text/plain": [
       "PyPlot.Figure(PyObject <matplotlib.figure.Figure object at 0x7fa38f9b95c0>)"
      ]
     },
     "metadata": {},
     "output_type": "display_data"
    }
   ],
   "source": [
    "# plot heatmap of the fit\n",
    "figure()\n",
    "scatter(X[1, tstyhat.==1], X[2, tstyhat.==1], c = \"r\")\n",
    "ax = gca()\n",
    "ylim = ax[:get_ylim]()\n",
    "xlim = ax[:get_xlim]()\n",
    "xx, yy = meshgrid(linspace(xlim[1], xlim[2], 30), linspace(ylim[1], ylim[2], 30))\n",
    "zz = zeros(size(xx))\n",
    "for i in 1:size(xx, 1)\n",
    "    for j in 1:size(xx, 2)\n",
    "        zz[i,j] = AnomalyDetection.rerr(model, [xx[i,j], yy[i,j]]).data[1]\n",
    "    end\n",
    "end\n",
    "contourf(xx, yy, zz)\n",
    "scatter(X[1, tstyhat.==1], X[2, tstyhat.==1], c = \"r\")\n",
    "scatter(X[1, tstyhat.==0], X[2, tstyhat.==0], c = \"g\")\n",
    "b = AnomalyDetection.generate_sample(model)\n",
    "scatter(b[1], b[2], c = \"y\", label = \"generated sample\")\n",
    "legend()\n",
    "show()"
   ]
  }
 ],
 "metadata": {
  "kernelspec": {
   "display_name": "Julia 0.6.1",
   "language": "julia",
   "name": "julia-0.6"
  },
  "language_info": {
   "file_extension": ".jl",
   "mimetype": "application/julia",
   "name": "julia",
   "version": "0.6.1"
  }
 },
 "nbformat": 4,
 "nbformat_minor": 2
}
