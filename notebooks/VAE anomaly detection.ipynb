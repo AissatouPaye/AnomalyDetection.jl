{
 "cells": [
  {
   "cell_type": "code",
   "execution_count": 1,
   "metadata": {
    "collapsed": true
   },
   "outputs": [],
   "source": [
    "using Flux\n",
    "using JLD\n",
    "using PyPlot\n",
    "\n",
    "code_path = \"../src\"\n",
    "\n",
    "push!(LOAD_PATH, code_path)\n",
    "using AnomalyDetection"
   ]
  },
  {
   "cell_type": "code",
   "execution_count": 2,
   "metadata": {},
   "outputs": [
    {
     "data": {
      "text/plain": [
       "2×90 Array{Float64,2}:\n",
       " 0.803442  0.804605  0.807145  0.819485  …  0.0350314  0.0613807  0.0685027\n",
       " 0.821998  0.834235  0.826129  0.848182     0.973926   1.00745    0.973256 "
      ]
     },
     "execution_count": 2,
     "metadata": {},
     "output_type": "execute_result"
    }
   ],
   "source": [
    "# load data\n",
    "dataset = load(\"toy_data_3.jld\")[\"data\"]\n",
    "x = dataset.data[:,dataset.labels.==0]"
   ]
  },
  {
   "cell_type": "code",
   "execution_count": 3,
   "metadata": {},
   "outputs": [
    {
     "data": {
      "image/png": "[encoded data removed]",
      "text/plain": [
       "PyPlot.Figure(PyObject <matplotlib.figure.Figure object at 0x7fc1c46c9f98>)"
      ]
     },
     "metadata": {},
     "output_type": "display_data"
    }
   ],
   "source": [
    "figure()\n",
    "X = dataset.data\n",
    "y = dataset.labels\n",
    "scatter(X[1, y.==1], X[2, y.==1])\n",
    "scatter(X[1, y.==0], X[2, y.==0])\n",
    "show()"
   ]
  },
  {
   "cell_type": "code",
   "execution_count": 4,
   "metadata": {},
   "outputs": [
    {
     "data": {
      "text/plain": [
       "AnomalyDetection.VAEmodel(AnomalyDetection.VAE{Flux.Chain,AnomalyDetection.#sample_z,Flux.Chain}(Chain(Chain(Dense(2, 10, NNlib.relu), Dense(10, 10, NNlib.relu)), Dense(10, 4)), AnomalyDetection.sample_z, Chain(Chain(Dense(2, 10, NNlib.relu), Dense(10, 10, NNlib.relu)), Dense(10, 2))), 1, 0, 0.1, 50, 1, true, 100)"
      ]
     },
     "execution_count": 4,
     "metadata": {},
     "output_type": "execute_result"
    }
   ],
   "source": [
    "# VAE settings\n",
    "indim = size(x,1)\n",
    "hiddendim = 10\n",
    "latentdim = 2\n",
    "nlayers = 2\n",
    "# (2, 2, 2) does not work\n",
    "# if this is (2,1,1), basically the output of the net is mean of the data\n",
    "\n",
    "# setup the VAE object\n",
    "lambda = 1\n",
    "L = 100 # samples for classification\n",
    "# arguments: 4 problem dimensions, \n",
    "# predict threshold, contamination level, iterations, throttle, verbal fit\n",
    "model = VAEmodel(indim, hiddendim, latentdim, nlayers, lambda, 0, 0.1, 50, 1, true, L)"
   ]
  },
  {
   "cell_type": "code",
   "execution_count": 5,
   "metadata": {},
   "outputs": [
    {
     "name": "stdout",
     "output_type": "stream",
     "text": [
      "loss: 0.45461722946427163\n",
      "reconstruction error: 0.463876085532268\n",
      "KL: 54.74654662597875\n",
      "\n",
      "loss: 0.303001203509386\n",
      "reconstruction error: 0.2912326993311968\n",
      "KL: 70.94494426476335\n",
      "\n",
      "loss: 0.17350583833487132\n",
      "reconstruction error: 0.17437137291293722\n",
      "KL: 93.39337963714878\n",
      "\n",
      "loss: 0.1270921665109904\n",
      "reconstruction error: 0.11797324448448576\n",
      "KL: 133.03583260778726\n",
      "\n",
      "loss: 0.0961221444943666\n",
      "reconstruction error: 0.08807557951493218\n",
      "KL: 146.98547906828995\n",
      "\n",
      "loss: 0.07610599052265948\n",
      "reconstruction error: 0.0670849357129702\n",
      "KL: 164.1991854803508\n",
      "\n",
      "loss: 0.054806894096952746\n",
      "reconstruction error: 0.04340106656689259\n",
      "KL: 191.02287177698878\n",
      "\n",
      "loss: 0.03582399252117113\n",
      "reconstruction error: 0.02643977059716353\n",
      "KL: 202.70555772493702\n",
      "\n",
      "loss: 0.024555861163436547\n",
      "reconstruction error: 0.014762126125941001\n",
      "KL: 197.81766836605632\n",
      "\n",
      "loss: 0.022060033581136985\n",
      "reconstruction error: 0.011723121588228302\n",
      "KL: 182.52989139938026\n",
      "\n",
      "loss: 0.019869742807533765\n",
      "reconstruction error: 0.011655385630278358\n",
      "KL: 167.45524157012136\n",
      "\n",
      "loss: 0.01890350698355498\n",
      "reconstruction error: 0.010830774306505208\n",
      "KL: 158.5493527112992\n",
      "\n",
      "loss: 0.018707851532492596\n",
      "reconstruction error: 0.01163190999565249\n",
      "KL: 157.66135428577817\n",
      "\n",
      "loss: 0.016866093626140246\n",
      "reconstruction error: 0.010345180517784497\n",
      "KL: 150.29590676344512\n",
      "\n",
      "loss: 0.018120982128650993\n",
      "reconstruction error: 0.010750426144476804\n",
      "KL: 146.96042663723114\n",
      "\n",
      "loss: 0.018365154506708985\n",
      "reconstruction error: 0.011733763555403084\n",
      "KL: 147.95738751020377\n",
      "\n",
      "loss: 0.015895718410262494\n",
      "reconstruction error: 0.008732043067600863\n",
      "KL: 144.1970534910833\n",
      "\n",
      "loss: 0.01762057041819891\n",
      "reconstruction error: 0.0086244029292902\n",
      "KL: 148.09863144846452\n",
      "\n",
      "loss: 0.015822481674932304\n",
      "reconstruction error: 0.008574710302331668\n",
      "KL: 154.2012251715803\n",
      "\n",
      "loss: 0.01471036405896207\n",
      "reconstruction error: 0.008130385608622599\n",
      "KL: 157.97897558744876\n",
      "\n",
      "loss: 0.013790674510088946\n",
      "reconstruction error: 0.0056126785771848\n",
      "KL: 168.49847520922413\n",
      "\n",
      "loss: 0.0127704127694457\n",
      "reconstruction error: 0.0045900451182082575\n",
      "KL: 173.75174266648946\n",
      "\n",
      "loss: 0.012597767399973819\n",
      "reconstruction error: 0.0036797648415047447\n",
      "KL: 180.21697969978194\n",
      "\n",
      "loss: 0.012886714823167373\n",
      "reconstruction error: 0.002926456805341553\n",
      "KL: 180.28080064449807\n",
      "\n",
      "loss: 0.012429687342256877\n",
      "reconstruction error: 0.002689546973400135\n",
      "KL: 180.2243415575833\n",
      "\n",
      "loss: 0.011909576633421933\n",
      "reconstruction error: 0.0030526108518777856\n",
      "KL: 178.63100655477652\n",
      "\n",
      "loss: 0.011621851674738289\n",
      "reconstruction error: 0.0033030263932556105\n",
      "KL: 172.53554583139393\n",
      "\n",
      "loss: 0.010662376127620107\n",
      "reconstruction error: 0.002820352746330198\n",
      "KL: 172.35746707999115\n",
      "\n",
      "loss: 0.011037825474866059\n",
      "reconstruction error: 0.0030590619252414616\n",
      "KL: 170.6059168196036\n",
      "\n",
      "loss: 0.012122044341662107\n",
      "reconstruction error: 0.002498780520153937\n",
      "KL: 165.30961567028262\n",
      "\n",
      "loss: 0.011219807478079649\n",
      "reconstruction error: 0.002652584659066367\n",
      "KL: 170.71163651479276\n",
      "\n",
      "loss: 0.011321717436993497\n",
      "reconstruction error: 0.0029064851109438083\n",
      "KL: 167.6689292087834\n",
      "\n",
      "loss: 0.010866839459663087\n",
      "reconstruction error: 0.0021271806231591096\n",
      "KL: 169.49561817150683\n",
      "\n",
      "loss: 0.01074363760388343\n",
      "reconstruction error: 0.002913363996177016\n",
      "KL: 166.4672249687168\n",
      "\n",
      "loss: 0.010755267722451934\n",
      "reconstruction error: 0.001734945619236662\n",
      "KL: 166.4994198062827\n",
      "\n",
      "loss: 0.011854754724302863\n",
      "reconstruction error: 0.0024690292066971097\n",
      "KL: 166.06518793446622\n",
      "\n",
      "loss: 0.01054527799142356\n",
      "reconstruction error: 0.001889313394345644\n",
      "KL: 166.08269619781902\n",
      "\n",
      "loss: 0.010382547642162888\n",
      "reconstruction error: 0.0026257075085049726\n",
      "KL: 167.846683952764\n",
      "\n",
      "loss: 0.010976573626646365\n",
      "reconstruction error: 0.002357367765371557\n",
      "KL: 167.34380711691173\n",
      "\n"
     ]
    }
   ],
   "source": [
    "# fit the model\n",
    "model.lambda = 0.00005\n",
    "model.verbfit = false\n",
    "while AnomalyDetection.rerr(model, x).data[1] > 0.002\n",
    "    AnomalyDetection.fit!(model, x)\n",
    "    AnomalyDetection.evalloss(model, x)\n",
    "end"
   ]
  },
  {
   "cell_type": "code",
   "execution_count": 7,
   "metadata": {},
   "outputs": [
    {
     "data": {
      "text/plain": [
       "Tracked 2×90 Array{Float64,2}:\n",
       " 0.797223  0.723345  0.798508  0.799982  …  0.0735508  0.0670258  0.131218\n",
       " 0.822205  0.753491  0.825012  0.828234     0.987119   0.987969   0.977635"
      ]
     },
     "execution_count": 7,
     "metadata": {},
     "output_type": "execute_result"
    }
   ],
   "source": [
    "model(x)"
   ]
  },
  {
   "cell_type": "code",
   "execution_count": 8,
   "metadata": {},
   "outputs": [
    {
     "data": {
      "text/plain": [
       "2×90 Array{Float64,2}:\n",
       " 0.803442  0.804605  0.807145  0.819485  …  0.0350314  0.0613807  0.0685027\n",
       " 0.821998  0.834235  0.826129  0.848182     0.973926   1.00745    0.973256 "
      ]
     },
     "execution_count": 8,
     "metadata": {},
     "output_type": "execute_result"
    }
   ],
   "source": [
    "x"
   ]
  },
  {
   "cell_type": "code",
   "execution_count": 9,
   "metadata": {},
   "outputs": [
    {
     "data": {
      "text/plain": [
       "Tracked 2×90 Array{Float64,2}:\n",
       " -0.045129   -0.086381    -0.0587673   …  -1.25886   -1.35253   -1.21258 \n",
       " -0.0034623  -0.00534564  -0.00394294      0.017102   0.010824   0.013546"
      ]
     },
     "execution_count": 9,
     "metadata": {},
     "output_type": "execute_result"
    }
   ],
   "source": [
    "AnomalyDetection.mu(model, x)"
   ]
  },
  {
   "cell_type": "code",
   "execution_count": 10,
   "metadata": {},
   "outputs": [
    {
     "data": {
      "text/plain": [
       "Tracked 2×90 Array{Float64,2}:\n",
       " 0.132221  0.129492  0.131023  0.125379  …  0.0987773  0.0931758  0.10018 \n",
       " 0.987751  0.987554  0.987798  0.987792     0.987609   0.987066   0.986882"
      ]
     },
     "execution_count": 10,
     "metadata": {},
     "output_type": "execute_result"
    }
   ],
   "source": [
    "AnomalyDetection.sigma(model,x)"
   ]
  },
  {
   "cell_type": "code",
   "execution_count": 11,
   "metadata": {},
   "outputs": [
    {
     "data": {
      "text/plain": [
       "Tracked 2×90 Array{Float64,2}:\n",
       " -0.0227726  -0.315064  -0.145396  …  -1.26313   -1.34327  -1.10037 \n",
       " -0.474097    1.54179    0.436791     -0.214716  -2.00857   0.337504"
      ]
     },
     "execution_count": 11,
     "metadata": {},
     "output_type": "execute_result"
    }
   ],
   "source": [
    "AnomalyDetection.sample_z(model, x)"
   ]
  },
  {
   "cell_type": "code",
   "execution_count": 12,
   "metadata": {},
   "outputs": [
    {
     "data": {
      "text/plain": [
       "103-element Array{Int64,1}:\n",
       " 0\n",
       " 0\n",
       " 0\n",
       " 0\n",
       " 0\n",
       " 0\n",
       " 0\n",
       " 0\n",
       " 0\n",
       " 0\n",
       " 0\n",
       " 0\n",
       " 0\n",
       " ⋮\n",
       " 1\n",
       " 1\n",
       " 1\n",
       " 1\n",
       " 1\n",
       " 1\n",
       " 1\n",
       " 1\n",
       " 1\n",
       " 1\n",
       " 1\n",
       " 0"
      ]
     },
     "execution_count": 12,
     "metadata": {},
     "output_type": "execute_result"
    }
   ],
   "source": [
    "# predict labels\n",
    "X = dataset.data\n",
    "y = dataset.labels\n",
    "model.contamination = size(y[y.==1],1)/size(y, 1)\n",
    "tryhat = AnomalyDetection.predict(model, X)"
   ]
  },
  {
   "cell_type": "code",
   "execution_count": 13,
   "metadata": {},
   "outputs": [
    {
     "name": "stdout",
     "output_type": "stream",
     "text": [
      "\n",
      " Training data performance: \n",
      "MLBase.ROCNums{Int64}\n",
      "  p = 13\n",
      "  n = 90\n",
      "  tp = 12\n",
      "  tn = 90\n",
      "  fp = 0\n",
      "  fn = 1\n",
      "precision: 1.0\n",
      "recall: 0.9230769230769231\n",
      "f1score: 0.96\n",
      "equal error rate: 0.038461538461538464\n",
      "\n",
      " Testing data performance: \n",
      "MLBase.ROCNums{Int64}\n",
      "  p = 13\n",
      "  n = 90\n",
      "  tp = 12\n",
      "  tn = 90\n",
      "  fp = 0\n",
      "  fn = 1\n",
      "precision: 1.0\n",
      "recall: 0.9230769230769231\n",
      "f1score: 0.96\n",
      "equal error rate: 0.038461538461538464\n"
     ]
    },
    {
     "data": {
      "text/plain": [
       "([0, 0, 0, 0, 0, 0, 0, 0, 0, 0  …  1, 1, 1, 1, 1, 1, 1, 1, 1, 0], [0, 0, 0, 0, 0, 0, 0, 0, 0, 0  …  1, 1, 1, 1, 1, 1, 1, 1, 1, 0])"
      ]
     },
     "execution_count": 13,
     "metadata": {},
     "output_type": "execute_result"
    }
   ],
   "source": [
    "model.verbfit = false\n",
    "tryhat, tsthat = AnomalyDetection.quickvalidate!(dataset, dataset, model)"
   ]
  },
  {
   "cell_type": "code",
   "execution_count": 14,
   "metadata": {
    "collapsed": true
   },
   "outputs": [],
   "source": [
    "using ScikitLearn.Utils: meshgrid"
   ]
  },
  {
   "cell_type": "code",
   "execution_count": 15,
   "metadata": {},
   "outputs": [
    {
     "ename": "LoadError",
     "evalue": "\u001b[91mtype Array has no field data\u001b[39m",
     "output_type": "error",
     "traceback": [
      "\u001b[91mtype Array has no field data\u001b[39m",
      "",
      "Stacktrace:",
      " [1] \u001b[1minclude_string\u001b[22m\u001b[22m\u001b[1m(\u001b[22m\u001b[22m::String, ::String\u001b[1m)\u001b[22m\u001b[22m at \u001b[1m./loading.jl:522\u001b[22m\u001b[22m"
     ]
    }
   ],
   "source": [
    "# plot heatmap of the fit\n",
    "figure()\n",
    "scatter(X[1, tryhat.==1], X[2, tryhat.==1], c = \"r\")\n",
    "ax = gca()\n",
    "ylim = ax[:get_ylim]()\n",
    "xlim = ax[:get_xlim]()\n",
    "xx, yy = meshgrid(linspace(xlim[1], xlim[2], 30), linspace(ylim[1], ylim[2], 30))\n",
    "zz = zeros(size(xx))\n",
    "for i in 1:size(xx, 1)\n",
    "    for j in 1:size(xx, 2)\n",
    "        zz[i,j] = AnomalyDetection.rerr(model, [xx[i,j], yy[i,j]]).data[1]\n",
    "    end\n",
    "end\n",
    "contourf(xx, yy, zz)\n",
    "scatter(X[1, tryhat.==1], X[2, tryhat.==1], c = \"r\")\n",
    "scatter(X[1, tryhat.==0], X[2, tryhat.==0], c = \"g\")\n",
    "b = AnomalyDetection.generate_sample(model).data\n",
    "scatter(b[1], b[2], c = \"y\", label = \"generated sample\")\n",
    "legend()\n",
    "show()"
   ]
  },
  {
   "cell_type": "code",
   "execution_count": 20,
   "metadata": {},
   "outputs": [
    {
     "data": {
      "text/plain": [
       "Tracked 2-element Array{Float64,1}:\n",
       " 0.195024\n",
       " 0.815235"
      ]
     },
     "execution_count": 20,
     "metadata": {},
     "output_type": "execute_result"
    }
   ],
   "source": [
    "AnomalyDetection.generate_sample(model)"
   ]
  },
  {
   "cell_type": "markdown",
   "metadata": {},
   "source": [
    "## what about the LODA data?"
   ]
  },
  {
   "cell_type": "code",
   "execution_count": 80,
   "metadata": {
    "collapsed": true
   },
   "outputs": [],
   "source": [
    "master_path = \"../../data/Loda/public/datasets/numerical\"\n",
    "folders = readdir(master_path);\n",
    "datasets = AnomalyDetection.loaddata(master_path);"
   ]
  },
  {
   "cell_type": "code",
   "execution_count": 82,
   "metadata": {},
   "outputs": [
    {
     "name": "stdout",
     "output_type": "stream",
     "text": [
      "breast-cancer-wisconsin: M = 30, Nn = 357, Ne = 188, Nm = 18, Nh = 5, Nvh = 0\n",
      "miniboone: M = 50, Nn = 93565, Ne = 17744, Nm = 6179, Nh = 5703, Nvh = 6873\n",
      "haberman: M = 3, Nn = 225, Ne = 4, Nm = 11, Nh = 19, Nvh = 47\n",
      "blood-transfusion: M = 4, Nn = 384, Ne = 7, Nm = 9, Nh = 49, Nvh = 84\n",
      "ecoli: M = 7, Nn = 205, Ne = 81, Nm = 27, Nh = 9, Nvh = 14\n",
      "madelon: M = 500, Nn = 1300, Ne = 0, Nm = 1300, Nh = 0, Nvh = 0\n",
      "statlog-satimage: M = 36, Nn = 3594, Ne = 2520, Nm = 111, Nh = 84, Nvh = 126\n",
      "parkinsons: M = 22, Nn = 147, Ne = 31, Nm = 13, Nh = 4, Nvh = 0\n",
      "abalone: M = 10, Nn = 2153, Ne = 7, Nm = 44, Nh = 955, Nvh = 1018\n",
      "iris: M = 4, Nn = 100, Ne = 44, Nm = 2, Nh = 2, Nvh = 2\n",
      "yeast: M = 8, Nn = 752, Ne = 177, Nm = 214, Nh = 211, Nvh = 130\n",
      "pendigits: M = 16, Nn = 5539, Ne = 5286, Nm = 99, Nh = 36, Nvh = 32\n",
      "synthetic-control-chart: M = 60, Nn = 400, Ne = 197, Nm = 3, Nh = 0, Nvh = 0\n",
      "vertebral-column: M = 6, Nn = 410, Ne = 0, Nm = 0, Nh = 68, Nvh = 142\n",
      "wine: M = 13, Nn = 107, Ne = 65, Nm = 6, Nh = 0, Nvh = 0\n",
      "statlog-segment: M = 18, Nn = 1320, Ne = 866, Nm = 73, Nh = 30, Nvh = 21\n",
      "gisette: M = 4971, Nn = 3500, Ne = 0, Nm = 1471, Nh = 2029, Nvh = 0\n",
      "musk-2: M = 166, Nn = 5581, Ne = 604, Nm = 212, Nh = 105, Nvh = 96\n",
      "pima-indians: M = 8, Nn = 500, Ne = 101, Nm = 76, Nh = 45, Nvh = 46\n",
      "ionosphere: M = 33, Nn = 225, Ne = 36, Nm = 86, Nh = 3, Nvh = 0\n",
      "persistant-connection: M = 10, Nn = 222455, Ne = 87, Nm = 150, Nh = 130, Nvh = 762\n",
      "waveform-2: M = 21, Nn = 3304, Ne = 1203, Nm = 269, Nh = 150, Nvh = 74\n",
      "magic-telescope: M = 10, Nn = 12332, Ne = 2808, Nm = 1074, Nh = 1079, Nvh = 1727\n",
      "url: M = 0, Nn = 0, Ne = 0, Nm = 0, Nh = 0, Nvh = 0\n",
      "breast-tissue: M = 9, Nn = 66, Ne = 17, Nm = 5, Nh = 3, Nvh = 15\n",
      "letter-recognition: M = 617, Nn = 4197, Ne = 35, Nm = 3565, Nh = 0, Nvh = 0\n",
      "page-blocks: M = 10, Nn = 4913, Ne = 315, Nm = 69, Nh = 77, Nvh = 99\n",
      "glass: M = 10, Nn = 114, Ne = 75, Nm = 20, Nh = 3, Nvh = 2\n",
      "libras: M = 90, Nn = 216, Ne = 115, Nm = 28, Nh = 0, Nvh = 0\n",
      "sonar: M = 60, Nn = 111, Ne = 55, Nm = 42, Nh = 0, Nvh = 0\n",
      "wall-following-robot: M = 24, Nn = 2923, Ne = 1841, Nm = 380, Nh = 170, Nvh = 142\n",
      "cardiotocography: M = 27, Nn = 1831, Ne = 143, Nm = 86, Nh = 48, Nvh = 18\n",
      "spect-heart: M = 44, Nn = 212, Ne = 7, Nm = 46, Nh = 2, Nvh = 0\n",
      "statlog-vehicle: M = 18, Nn = 629, Ne = 46, Nm = 86, Nh = 65, Nvh = 20\n",
      "multiple-features: M = 649, Nn = 1200, Ne = 63, Nm = 737, Nh = 0, Nvh = 0\n",
      "waveform-1: M = 21, Nn = 3304, Ne = 1204, Nm = 279, Nh = 147, Nvh = 66\n",
      "isolet: M = 617, Nn = 4497, Ne = 40, Nm = 3260, Nh = 0, Nvh = 0\n",
      "statlog-shuttle: M = 8, Nn = 57769, Ne = 10, Nm = 19, Nh = 26, Nvh = 176\n"
     ]
    }
   ],
   "source": [
    "for key in keys(datasets)\n",
    "    M, N = size(get(datasets, key, 0).normal)\n",
    "    print(\"$(key): M = $M, Nn = $N, \")\n",
    "    M, N = size(get(datasets, key, 0).easy)\n",
    "    print(\"Ne = $N, \")\n",
    "    M, N = size(get(datasets, key, 0).medium)\n",
    "    print(\"Nm = $N, \")\n",
    "    M, N = size(get(datasets, key, 0).hard)\n",
    "    print(\"Nh = $N, \")\n",
    "    M, N = size(get(datasets, key, 0).very_hard)\n",
    "    print(\"Nvh = $N\\n\")    \n",
    "end"
   ]
  },
  {
   "cell_type": "code",
   "execution_count": 83,
   "metadata": {},
   "outputs": [
    {
     "data": {
      "text/plain": [
       "AnomalyDetection.Basicset([71.0 72.0 … 213.0 214.0; 1.51574 1.51848 … 1.51651 1.51711; … ; 0.0 0.0 … 1.57 1.67; 0.12 0.32 … 0.0 0.0], [1.0 2.0 … 173.0 174.0; 1.52101 1.51761 … 1.51321 1.52043; … ; 0.0 0.0 … 0.0 0.0; 0.0 0.0 … 0.0 0.0], [45.0 56.0 … 175.0 176.0; 1.51786 1.51769 … 1.52058 1.52119; … ; 0.0 0.0 … 0.24 0.0; 0.3 0.24 … 0.51 0.28], [148.0 150.0 162.0; 1.5161 1.51643 1.51934; … ; 0.0 0.0 0.15; 0.0 0.0 0.24], [149.0 151.0; 1.5167 1.51665; … ; 0.0 0.0; 0.1 0.17])"
      ]
     },
     "execution_count": 83,
     "metadata": {},
     "output_type": "execute_result"
    }
   ],
   "source": [
    "data = datasets[\"glass\"]"
   ]
  },
  {
   "cell_type": "code",
   "execution_count": 85,
   "metadata": {},
   "outputs": [
    {
     "data": {
      "text/plain": [
       "\"low\""
      ]
     },
     "execution_count": 85,
     "metadata": {},
     "output_type": "execute_result"
    }
   ],
   "source": [
    "# sampling settings\n",
    "settings = Dict{Any, Any}()\n",
    "settings[\"alpha\"] = 0.8 # (# training)/(# all data)\n",
    "settings[\"difficulty\"] = \"easy\" # how far are the outliers\n",
    "settings[\"frequency\"] = 0.1 # (# normal)/(# anomalies)\n",
    "settings[\"variation\"] = \"low\" # how much are the outliers clustered\"]"
   ]
  },
  {
   "cell_type": "code",
   "execution_count": 86,
   "metadata": {},
   "outputs": [
    {
     "data": {
      "text/plain": [
       "AnomalyDetection.VAEmodel(AnomalyDetection.VAE{Flux.Chain,AnomalyDetection.#sample_z,Flux.Chain}(Chain(Chain(Chain(Dense(10, 7, NNlib.relu), Dense(7, 7, NNlib.relu)), Dense(7, 7, NNlib.relu)), Dense(7, 10)), AnomalyDetection.sample_z, Chain(Chain(Chain(Dense(5, 7, NNlib.relu), Dense(7, 7, NNlib.relu)), Dense(7, 7, NNlib.relu)), Dense(7, 10))), 0, 0.1, 1000, 1, true)"
      ]
     },
     "execution_count": 86,
     "metadata": {},
     "output_type": "execute_result"
    }
   ],
   "source": [
    "# VAE settings\n",
    "# VAE settings\n",
    "indim = size(data.normal,1)\n",
    "hiddendim = 7\n",
    "latentdim = 5\n",
    "nlayers = 3\n",
    "# (2, 2, 2) does not work\n",
    "# if this is (2,1,1), basically the output of the net is mean of the data\n",
    "\n",
    "# setup the VAE object\n",
    "# arguments: 4 problem dimensions, \n",
    "# predict threshold, contamination level, iterations, throttle, verbal fit\n",
    "model = VAEmodel(indim, hiddendim, latentdim, nlayers, 0, 0.1, 1000, 1, true)"
   ]
  },
  {
   "cell_type": "code",
   "execution_count": 91,
   "metadata": {},
   "outputs": [
    {
     "data": {
      "text/plain": [
       "(AnomalyDetection.Dataset([-0.332574 0.381704 … -1.4278 -0.570666; -0.633921 0.761918 … -0.306621 0.989744; … ; -0.365653 -0.365653 … -0.365653 -0.365653; -0.579904 1.38553 … 1.38553 1.38553], [0, 0, 0, 0, 0, 0, 0, 0, 0, 0  …  1, 1, 1, 1, 1, 1, 1, 1, 1, 1]), AnomalyDetection.Dataset([0.0325015 -0.221464 … -1.28494 -1.11034; 2.0262 -0.653174 … -0.345127 -0.290577; … ; -0.365653 -0.365653 … -0.365653 -0.365653; 3.35097 0.46062 … -0.579904 0.113779], [0, 0, 0, 0, 0, 0, 0, 0, 0, 0  …  0, 0, 0, 0, 0, 0, 0, 1, 1, 1]), 1.6798140852239485)"
      ]
     },
     "execution_count": 91,
     "metadata": {},
     "output_type": "execute_result"
    }
   ],
   "source": [
    "trData, tstData, c = AnomalyDetection.makeset(data, settings[\"alpha\"], settings[\"difficulty\"],\n",
    "                settings[\"frequency\"], settings[\"variation\"])"
   ]
  },
  {
   "cell_type": "code",
   "execution_count": 96,
   "metadata": {},
   "outputs": [
    {
     "name": "stdout",
     "output_type": "stream",
     "text": [
      "loss: 1.0492285394075214\n",
      "reconstruction error: 1.0420223291923438\n",
      "KL: 0.007528163020092515\n",
      "\n",
      "loss: 1.0418842830225932\n",
      "reconstruction error: 1.0418964019258041\n",
      "KL: 2.1719352982785267e-9\n",
      "\n",
      "\n",
      " Training data performance: \n",
      "MLBase.ROCNums{Int64}\n",
      "  p = 10\n",
      "  n = 91\n",
      "  tp = 0\n",
      "  tn = 81\n",
      "  fp = 10\n",
      "  fn = 10\n",
      "precision: 0.0\n",
      "recall: 0.0\n",
      "f1score: 0.0\n",
      "equal error rate: 0.554945054945055\n",
      "\n",
      " Testing data performance: \n",
      "MLBase.ROCNums{Int64}\n",
      "  p = 3\n",
      "  n = 23\n",
      "  tp = 0\n",
      "  tn = 21\n",
      "  fp = 2\n",
      "  fn = 3\n",
      "precision: 0.0\n",
      "recall: 0.0\n",
      "f1score: 0.0\n",
      "equal error rate: 0.5434782608695652\n"
     ]
    },
    {
     "data": {
      "text/plain": [
       "([0, 0, 0, 0, 0, 0, 1, 0, 1, 1  …  0, 0, 0, 0, 0, 0, 0, 0, 0, 0], [0, 0, 0, 0, 0, 0, 0, 0, 0, 0  …  0, 0, 0, 0, 0, 0, 0, 0, 0, 0])"
      ]
     },
     "execution_count": 96,
     "metadata": {},
     "output_type": "execute_result"
    }
   ],
   "source": [
    "AnomalyDetection.quickvalidate!(trData, tstData, model)"
   ]
  },
  {
   "cell_type": "code",
   "execution_count": 35,
   "metadata": {},
   "outputs": [
    {
     "ename": "LoadError",
     "evalue": "\u001b[91mUndefVarError: trData not defined\u001b[39m",
     "output_type": "error",
     "traceback": [
      "\u001b[91mUndefVarError: trData not defined\u001b[39m",
      "",
      "Stacktrace:",
      " [1] \u001b[1minclude_string\u001b[22m\u001b[22m\u001b[1m(\u001b[22m\u001b[22m::String, ::String\u001b[1m)\u001b[22m\u001b[22m at \u001b[1m./loading.jl:522\u001b[22m\u001b[22m"
     ]
    }
   ],
   "source": [
    "model(trData.data[:,trData.labels .== 0])"
   ]
  }
 ],
 "metadata": {
  "kernelspec": {
   "display_name": "Julia 0.6.1",
   "language": "julia",
   "name": "julia-0.6"
  },
  "language_info": {
   "file_extension": ".jl",
   "mimetype": "application/julia",
   "name": "julia",
   "version": "0.6.1"
  }
 },
 "nbformat": 4,
 "nbformat_minor": 2
}
