{
 "cells": [
  {
   "cell_type": "code",
   "execution_count": 1,
   "metadata": {
    "collapsed": true,
    "scrolled": true
   },
   "outputs": [],
   "source": [
    "using PyPlot\n",
    "using JLD\n",
    "using ScikitLearn: @sk_import, fit!, predict\n",
    "using ScikitLearn.Utils: meshgrid "
   ]
  },
  {
   "cell_type": "code",
   "execution_count": 2,
   "metadata": {
    "collapsed": true
   },
   "outputs": [],
   "source": [
    "code_path = \"../src/\"\n",
    "\n",
    "push!(LOAD_PATH, code_path)\n",
    "using AnomalyDetection"
   ]
  },
  {
   "cell_type": "code",
   "execution_count": 3,
   "metadata": {},
   "outputs": [
    {
     "data": {
      "text/plain": [
       "AnomalyDetection.Dataset([0.803442 0.804605 … 0.252366 -0.216809; 0.821998 0.834235 … 0.714171 1.09756], [0, 0, 0, 0, 0, 0, 0, 0, 0, 0  …  1, 1, 1, 1, 1, 1, 1, 1, 1, 1])"
      ]
     },
     "execution_count": 3,
     "metadata": {},
     "output_type": "execute_result"
    }
   ],
   "source": [
    "dataset = load(\"toy_data_3.jld\")[\"data\"]"
   ]
  },
  {
   "cell_type": "code",
   "execution_count": 4,
   "metadata": {},
   "outputs": [
    {
     "data": {
      "image/png": "[encoded data removed]",
      "text/plain": [
       "PyPlot.Figure(PyObject <matplotlib.figure.Figure object at 0x7f485698cf28>)"
      ]
     },
     "metadata": {},
     "output_type": "display_data"
    }
   ],
   "source": [
    "figure()\n",
    "X = dataset.data\n",
    "y = dataset.labels\n",
    "scatter(X[1, y.==1], X[2, y.==1])\n",
    "scatter(X[1, y.==0], X[2, y.==0])\n",
    "show()"
   ]
  },
  {
   "cell_type": "code",
   "execution_count": 43,
   "metadata": {},
   "outputs": [
    {
     "data": {
      "text/plain": [
       "AnomalyDetection.AEmodel(AnomalyDetection.AE{Flux.Chain,Flux.Chain}(Chain(Chain(Chain(Dense(2, 4, NNlib.relu), Dense(4, 4, NNlib.relu)), Dense(4, 4, NNlib.relu)), Dense(4, 2)), Chain(Chain(Chain(Dense(2, 4, NNlib.relu), Dense(4, 4, NNlib.relu)), Dense(4, 4, NNlib.relu)), Dense(4, 2))), 0, 0.14444444444444443, 100, 1, true)"
      ]
     },
     "execution_count": 43,
     "metadata": {},
     "output_type": "execute_result"
    }
   ],
   "source": [
    "# set problem dimensions\n",
    "indim = size(X,1)\n",
    "hiddendim = 4\n",
    "latentdim = 2\n",
    "nlayers = 3\n",
    "# hiddendim should be more then 3, then it works\n",
    "\n",
    "# other model settings\n",
    "contamination = size(y[y.==1],1)/size(y[y.==0],1) # to set the decision threshold\n",
    "activation = Flux.relu\n",
    "threshold = 0\n",
    "iterations = 100\n",
    "cbthrottle = 1\n",
    "verbfit = true\n",
    "\n",
    "#\n",
    "x = X[:,y .== 0]\n",
    "\n",
    "#\n",
    "model = AEmodel(indim, hiddendim, latentdim, nlayers, activation, threshold, contamination,\n",
    "    iterations, cbthrottle, verbfit)"
   ]
  },
  {
   "cell_type": "code",
   "execution_count": 44,
   "metadata": {},
   "outputs": [
    {
     "name": "stdout",
     "output_type": "stream",
     "text": [
      "loss: 0.4980706088927668\n",
      "\n",
      "loss: 0.1885357481398361\n",
      "\n",
      "loss: 0.028134024564913297\n",
      "\n",
      "loss: 0.00719556154934693\n",
      "\n",
      "loss: 0.0009961119195374762\n",
      "\n",
      "loss: 0.000102138767852459\n",
      "\n",
      "loss: 0.0003467452257882398\n",
      "\n",
      "loss: 0.00035528501485694423\n",
      "\n",
      "loss: 0.00038903888236229344\n",
      "\n",
      "loss: 0.0003538693869653098\n",
      "\n"
     ]
    }
   ],
   "source": [
    "# model might have to be restarted if loss is > 0.01\n",
    "model.verbfit = true\n",
    "for i in 1:10\n",
    "    AnomalyDetection.fit!(model, x)\n",
    "end"
   ]
  },
  {
   "cell_type": "code",
   "execution_count": 45,
   "metadata": {},
   "outputs": [
    {
     "data": {
      "text/plain": [
       "Tracked 2×90 Array{Float64,2}:\n",
       " 0.803537  0.80492   0.807251  0.81979   …  0.0357467  0.0611161  0.0695159\n",
       " 0.822065  0.834301  0.826196  0.848244     0.974015   1.00753    0.973343 "
      ]
     },
     "execution_count": 45,
     "metadata": {},
     "output_type": "execute_result"
    }
   ],
   "source": [
    "model(x)"
   ]
  },
  {
   "cell_type": "code",
   "execution_count": 46,
   "metadata": {},
   "outputs": [
    {
     "data": {
      "text/plain": [
       "2×90 Array{Float64,2}:\n",
       " 0.803442  0.804605  0.807145  0.819485  …  0.0350314  0.0613807  0.0685027\n",
       " 0.821998  0.834235  0.826129  0.848182     0.973926   1.00745    0.973256 "
      ]
     },
     "execution_count": 46,
     "metadata": {},
     "output_type": "execute_result"
    }
   ],
   "source": [
    "x"
   ]
  },
  {
   "cell_type": "code",
   "execution_count": 47,
   "metadata": {},
   "outputs": [
    {
     "data": {
      "text/plain": [
       "Tracked 2×103 Array{Float64,2}:\n",
       " 0.803537  0.80492   0.807251  0.81979   …  0.0649782  0.260949  0.0316044\n",
       " 0.822065  0.834301  0.826196  0.848244     1.47727    0.714291  0.792832 "
      ]
     },
     "execution_count": 47,
     "metadata": {},
     "output_type": "execute_result"
    }
   ],
   "source": [
    "model(X)"
   ]
  },
  {
   "cell_type": "code",
   "execution_count": 48,
   "metadata": {},
   "outputs": [
    {
     "data": {
      "text/plain": [
       "2×103 Array{Float64,2}:\n",
       " 0.803442  0.804605  0.807145  0.819485  …  -0.00703644  0.252366  -0.216809\n",
       " 0.821998  0.834235  0.826129  0.848182      1.6113      0.714171   1.09756 "
      ]
     },
     "execution_count": 48,
     "metadata": {},
     "output_type": "execute_result"
    }
   ],
   "source": [
    "X"
   ]
  },
  {
   "cell_type": "code",
   "execution_count": 49,
   "metadata": {},
   "outputs": [
    {
     "data": {
      "text/plain": [
       "103-element Array{Int64,1}:\n",
       " 0\n",
       " 0\n",
       " 0\n",
       " 0\n",
       " 0\n",
       " 0\n",
       " 0\n",
       " 0\n",
       " 0\n",
       " 0\n",
       " 0\n",
       " 0\n",
       " 0\n",
       " ⋮\n",
       " 1\n",
       " 1\n",
       " 1\n",
       " 1\n",
       " 1\n",
       " 1\n",
       " 1\n",
       " 1\n",
       " 1\n",
       " 1\n",
       " 1\n",
       " 1"
      ]
     },
     "execution_count": 49,
     "metadata": {},
     "output_type": "execute_result"
    }
   ],
   "source": [
    "# predict labels\n",
    "yhat = AnomalyDetection.predict(model, X)"
   ]
  },
  {
   "cell_type": "code",
   "execution_count": 50,
   "metadata": {},
   "outputs": [
    {
     "name": "stdout",
     "output_type": "stream",
     "text": [
      "\n",
      " Training data performance: \n",
      "MLBase.ROCNums{Int64}\n",
      "  p = 13\n",
      "  n = 90\n",
      "  tp = 13\n",
      "  tn = 89\n",
      "  fp = 1\n",
      "  fn = 0\n",
      "precision: 0.9285714285714286\n",
      "recall: 1.0\n",
      "f1score: 0.9629629629629629\n",
      "equal error rate: 0.005555555555555556\n",
      "\n",
      " Testing data performance: \n",
      "MLBase.ROCNums{Int64}\n",
      "  p = 13\n",
      "  n = 90\n",
      "  tp = 13\n",
      "  tn = 89\n",
      "  fp = 1\n",
      "  fn = 0\n",
      "precision: 0.9285714285714286\n",
      "recall: 1.0\n",
      "f1score: 0.9629629629629629\n",
      "equal error rate: 0.005555555555555556\n"
     ]
    },
    {
     "data": {
      "text/plain": [
       "([0, 0, 0, 0, 0, 0, 0, 0, 0, 0  …  1, 1, 1, 1, 1, 1, 1, 1, 1, 1], [0, 0, 0, 0, 0, 0, 0, 0, 0, 0  …  1, 1, 1, 1, 1, 1, 1, 1, 1, 1])"
      ]
     },
     "execution_count": 50,
     "metadata": {},
     "output_type": "execute_result"
    }
   ],
   "source": [
    "model.verbfit = false\n",
    "tryhat, tsthat = AnomalyDetection.quickvalidate!(dataset, dataset, model)"
   ]
  },
  {
   "cell_type": "code",
   "execution_count": 51,
   "metadata": {
    "collapsed": true
   },
   "outputs": [],
   "source": [
    "using ScikitLearn.Utils: meshgrid"
   ]
  },
  {
   "cell_type": "code",
   "execution_count": 52,
   "metadata": {},
   "outputs": [
    {
     "data": {
      "image/png": "[encoded data removed]",
      "text/plain": [
       "PyPlot.Figure(PyObject <matplotlib.figure.Figure object at 0x7f483eae9748>)"
      ]
     },
     "metadata": {},
     "output_type": "display_data"
    }
   ],
   "source": [
    "# plot heatmap of the fit\n",
    "figure()\n",
    "scatter(X[1, tryhat.==1], X[2, tryhat.==1], c = \"r\")\n",
    "ax = gca()\n",
    "ylim = ax[:get_ylim]()\n",
    "xlim = ax[:get_xlim]()\n",
    "xx, yy = meshgrid(linspace(xlim[1], xlim[2], 30), linspace(ylim[1], ylim[2], 30))\n",
    "zz = zeros(size(xx))\n",
    "for i in 1:size(xx, 1)\n",
    "    for j in 1:size(xx, 2)\n",
    "        zz[i,j] = AnomalyDetection.loss(model, [xx[i,j], yy[i,j]]).data[1]\n",
    "    end\n",
    "end\n",
    "contourf(xx, yy, zz)\n",
    "scatter(X[1, tryhat.==1], X[2, tryhat.==1], c = \"r\")\n",
    "scatter(X[1, tryhat.==0], X[2, tryhat.==0], c = \"g\")\n",
    "show()"
   ]
  },
  {
   "cell_type": "code",
   "execution_count": 54,
   "metadata": {},
   "outputs": [
    {
     "data": {
      "image/png": "[encoded data removed]",
      "text/plain": [
       "PyPlot.Figure(PyObject <matplotlib.figure.Figure object at 0x7f483eaee710>)"
      ]
     },
     "metadata": {},
     "output_type": "display_data"
    },
    {
     "data": {
      "text/plain": [
       "PyObject <matplotlib.legend.Legend object at 0x7f483e9a6b70>"
      ]
     },
     "execution_count": 54,
     "metadata": {},
     "output_type": "execute_result"
    }
   ],
   "source": [
    "# what are the codes?\n",
    "z1 = model.ae.encoder(X[:,1:30]).data\n",
    "z2 = model.ae.encoder(X[:,31:60]).data\n",
    "z3 = model.ae.encoder(X[:,61:90]).data\n",
    "za = model.ae.encoder(X[:,91:end]).data\n",
    "\n",
    "title(\"code distribution\")\n",
    "scatter(z1[1,:], z1[2,:], label = \"first cluster\")\n",
    "scatter(z2[1,:], z2[2,:], label = \"second cluster\")\n",
    "scatter(z3[1,:], z3[2,:], label = \"third cluster\")\n",
    "scatter(za[1,:], za[2,:], s = 10, label = \"anomalous data\")\n",
    "legend()"
   ]
  }
 ],
 "metadata": {
  "kernelspec": {
   "display_name": "Julia 0.6.1",
   "language": "julia",
   "name": "julia-0.6"
  },
  "language_info": {
   "file_extension": ".jl",
   "mimetype": "application/julia",
   "name": "julia",
   "version": "0.6.1"
  }
 },
 "nbformat": 4,
 "nbformat_minor": 2
}
