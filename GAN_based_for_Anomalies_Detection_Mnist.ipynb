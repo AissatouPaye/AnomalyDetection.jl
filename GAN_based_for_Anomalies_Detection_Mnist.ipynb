{
  "nbformat": 4,
  "nbformat_minor": 0,
  "metadata": {
    "colab": {
      "name": "GAN_based_for_Anomalies_Detection_Mnist.ipynb",
      "provenance": [],
      "collapsed_sections": [],
      "include_colab_link": true
    },
    "kernelspec": {
      "name": "python3",
      "display_name": "Python 3"
    },
    "accelerator": "GPU"
  },
  "cells": [
    {
      "cell_type": "markdown",
      "metadata": {
        "id": "view-in-github",
        "colab_type": "text"
      },
      "source": [
        "<a href=\"https://colab.research.google.com/github/AissatouPaye/AnomalyDetection.jl/blob/master/GAN_based_for_Anomalies_Detection_Mnist.ipynb\" target=\"_parent\"><img src=\"https://colab.research.google.com/assets/colab-badge.svg\" alt=\"Open In Colab\"/></a>"
      ]
    },
    {
      "cell_type": "markdown",
      "metadata": {
        "id": "iD1LeaxhbcKz",
        "colab_type": "text"
      },
      "source": [
        "#GAN Based Anomalies Detection\n",
        "\n",
        "\n",
        "Anomaly detection using GANs is the task of modeling the normal behavior using the adversarial training process and detecting the anomalies measuring an anomaly score (Schlegl et al., 2017)\n",
        "\n",
        "\n",
        "## AnoGAN\n",
        "## EGBAG : Efficient GAN Based Anomalies Detection\n",
        "## Fast-AnoGAN\n",
        "## Advanced GAN + AE\n",
        "\n",
        "\n",
        "\n",
        "## Dataset\n",
        "\n",
        "\n",
        "We use the MNIST Dataset to see how AnoGAN and F-AnoGAN works as Anomalies detector\n",
        "\n",
        "\n",
        "\n",
        "*   1 has normal image\n",
        "*   7 has anomalious image\n",
        "\n",
        "\n"
      ]
    },
    {
      "cell_type": "code",
      "metadata": {
        "id": "Win_CcWUZ4Ka",
        "colab_type": "code",
        "outputId": "ea370171-d368-4f2b-fb8d-f415fe275dd7",
        "colab": {
          "base_uri": "https://localhost:8080/",
          "height": 34
        }
      },
      "source": [
        "from google.colab import drive\n",
        "drive.mount('/content/drive')"
      ],
      "execution_count": 1,
      "outputs": [
        {
          "output_type": "stream",
          "text": [
            "Mounted at /content/drive\n"
          ],
          "name": "stdout"
        }
      ]
    },
    {
      "cell_type": "code",
      "metadata": {
        "id": "B_mP-6DqaLnI",
        "colab_type": "code",
        "outputId": "c690841c-31fe-441d-b513-190eea488005",
        "colab": {
          "base_uri": "https://localhost:8080/",
          "height": 34
        }
      },
      "source": [
        "import matplotlib\n",
        "import matplotlib.pyplot as plt\n",
        "import os\n",
        "import cv2\n",
        "import argparse\n",
        "\n",
        "\n",
        "### use MNIST dataset for the GAN models\n",
        "\n",
        "from keras .datasets import mnist \n",
        "\n",
        "from keras.models import Sequential,Model\n",
        "from keras.layers import Input, Reshape, Dense, Dropout, MaxPooling2D, Conv2D, Flatten\n",
        "from keras.layers import Conv2DTranspose\n",
        "from keras.layers import Lambda\n",
        "from keras.layers import Conv2DTranspose, LeakyReLU\n",
        "from keras.layers.core import Activation \n",
        "from keras.layers.normalization import BatchNormalization\n",
        "from keras.optimizers import Adam, RMSprop\n",
        "from keras import backend as K\n",
        "from keras import initializers\n",
        "import tensorflow as tf\n",
        "import numpy as np\n",
        "from tqdm import tqdm\n",
        "import math\n",
        "\n",
        "from keras.utils. generic_utils import Progbar\n",
        "from keras.utils.vis_utils import plot_model\n",
        "\n",
        "from typing import Tuple\n",
        "from keras.models import load_model\n",
        "from keras import backend as K\n",
        "from sklearn.manifold import TSNE\n",
        "from keras.layers import concatenate\n",
        "\n",
        "# Google Colab\n",
        "from google.colab import drive\n",
        "\n",
        "from sklearn.manifold import TSNE\n",
        "import copy\n",
        "from enum import Enum\n",
        "\n",
        "from keras.callbacks import TensorBoard\n",
        "import io\n",
        "from PIL import Image\n",
        "from keras.applications.inception_v3 import InceptionV3\n",
        "from keras.applications.inception_v3 import preprocess_input\n",
        "from math import floor\n",
        "from skimage.transform import resize\n",
        "from scipy.linalg import sqrtm"
      ],
      "execution_count": 2,
      "outputs": [
        {
          "output_type": "stream",
          "text": [
            "Using TensorFlow backend.\n"
          ],
          "name": "stderr"
        }
      ]
    },
    {
      "cell_type": "markdown",
      "metadata": {
        "id": "G5CfXcqLdkU2",
        "colab_type": "text"
      },
      "source": [
        "MNIST DATASET\n",
        "\n",
        "Download the data and create a traning and test loader\n"
      ]
    },
    {
      "cell_type": "code",
      "metadata": {
        "id": "18SYYc7Bb5sr",
        "colab_type": "code",
        "colab": {}
      },
      "source": [
        "#####Setting the general parameter that will be use to save the models results ###\n",
        "\n",
        "class DataParm(Enum):\n",
        "    image_size_127_5 = 127.5\n",
        "    # VAE Path to save  models, images, and Tensorboard logs\n",
        "    common_path_VAE = '/content/drive/My Drive/AnoDetect_implementation/VAE/'\n",
        "    ##### Path AnoGAN\n",
        "    common_path = '/content/drive/My Drive/AnoDetect_implementation/AnoGAN/'\n",
        "    # EfficentAnnoGAN: Path to store the model, images, and Tensorboard logs\n",
        "    common_path_f_AnoGAN = '/content/drive/My Drive/AnoDetect_implementation/f-AnoGAN/'\n",
        "    batch_size_64 = 64"
      ],
      "execution_count": 0,
      "outputs": []
    },
    {
      "cell_type": "code",
      "metadata": {
        "id": "fFIs7HM3ddzP",
        "colab_type": "code",
        "colab": {}
      },
      "source": [
        "\n",
        "# Train and test data\n",
        "\n",
        "(X_train,Y_train),(X_test,Y_test)=mnist.load_data()\n",
        "### Convert image scale to -1 to 1 ####\n",
        "\n",
        "\n",
        "image_size= X_train.shape[1]\n",
        "original_dim = image_size*image_size\n",
        "input_shape= (image_size,image_size,1)\n",
        "\n",
        "\n",
        "X_train=(X_train.astype(np.float32)- image_size)/image_size\n",
        "X_test=(X_test.astype(np.float32)- image_size)/image_size\n",
        "\n",
        "#### Convert to batch size, width, height, channel ####\n",
        "X_train=X_train[:,:,:,None]\n",
        "X_test=X_test[:,:,:,None]\n",
        "\n",
        "# Keep as original image\n",
        "X_test_original = X_test.copy()\n",
        "\n",
        "#Learn only image with labe 1 ( our positif sample that the generative model have to learn)\n",
        "\n",
        "X_train=X_train[Y_train==1]\n",
        "X_test=X_test[Y_test==1]"
      ],
      "execution_count": 0,
      "outputs": []
    },
    {
      "cell_type": "code",
      "metadata": {
        "id": "ECODumiMd7zJ",
        "colab_type": "code",
        "outputId": "3d173857-d14d-4152-ac08-88a1149c4387",
        "colab": {
          "base_uri": "https://localhost:8080/",
          "height": 34
        }
      },
      "source": [
        "\n",
        "X_train[0].shape\n",
        "\n",
        "\n",
        "### visualize one sample of the data : showing a 1 of the training set ####\n",
        "\n"
      ],
      "execution_count": 5,
      "outputs": [
        {
          "output_type": "execute_result",
          "data": {
            "text/plain": [
              "(28, 28, 1)"
            ]
          },
          "metadata": {
            "tags": []
          },
          "execution_count": 5
        }
      ]
    },
    {
      "cell_type": "markdown",
      "metadata": {
        "id": "QCRnKnd8w69O",
        "colab_type": "text"
      },
      "source": [
        "## AnoGAN\n",
        "\n",
        "\n",
        "<img src = \"/content/AnoGAN.jpg\">"
      ]
    },
    {
      "cell_type": "markdown",
      "metadata": {
        "id": "pPemi3wsyZ8U",
        "colab_type": "text"
      },
      "source": [
        "## Generator"
      ]
    },
    {
      "cell_type": "code",
      "metadata": {
        "id": "D_Xl0OprbliY",
        "colab_type": "code",
        "outputId": "b519f67b-9b30-45d5-ef7a-26ea276328c2",
        "colab": {
          "base_uri": "https://localhost:8080/",
          "height": 1000
        }
      },
      "source": [
        "class GeneratorParam(Enum):\n",
        "    units_128_7_7 = 128*7*7\n",
        "    leaky_relu_param_0_2 = 0.2\n",
        "    reshape_size_7_7_128 = (7, 7, 128)\n",
        "    \n",
        "    conv2d_transpose_filter_64 = 64\n",
        "    conv2d_transpose_kernel_2_2 = (2, 2)\n",
        "    conv2d_transpose_stride_2_2 = (2, 2)\n",
        "    \n",
        "    conv2d_filter_64 = 64\n",
        "    conv2d_kernel_3_3 = (3, 3)\n",
        "    conv2d_padding_same = 'same'\n",
        "    \n",
        "    activation_relu = 'relu'\n",
        "    \n",
        "    conv2d_out_filter_1 = 1\n",
        "    conv2d_out_kernel_5_5 = (5, 5)\n",
        "    out_activation_tanh = 'tanh'\n",
        "    \n",
        "\n",
        "def generator_model(in_shape: tuple=(10,)) -> Model:\n",
        "    \"\"\"\n",
        "    Parameters\n",
        "    ----------\n",
        "    in_shape : tuple\n",
        "        Dimension of noise space\n",
        "    \n",
        "    Returns\n",
        "    -------\n",
        "    model: Model\n",
        "    \"\"\"\n",
        "    inputs = Input(in_shape)\n",
        "    fc1 = Dense(input_dim=in_shape[0], units=GeneratorParam.units_128_7_7.value)(inputs)\n",
        "    # to stabilize the learning\n",
        "    fc1 = BatchNormalization()(fc1)\n",
        "    fc1 = LeakyReLU(GeneratorParam.leaky_relu_param_0_2.value)(fc1)\n",
        "    # Processing to convert to image  of size 7x7 \n",
        "    fc2 = Reshape(GeneratorParam.reshape_size_7_7_128.value, input_shape=(GeneratorParam.units_128_7_7.value,))(fc1)\n",
        "    # Convert to image of size 14x14\n",
        "    up1 = Conv2DTranspose(GeneratorParam.conv2d_transpose_filter_64.value, \n",
        "                          GeneratorParam.conv2d_transpose_kernel_2_2.value, \n",
        "                          strides=GeneratorParam.conv2d_transpose_stride_2_2.value, \n",
        "                          padding=GeneratorParam.conv2d_padding_same.value)(fc2)\n",
        "    conv1 = Conv2D(GeneratorParam.conv2d_filter_64.value, \n",
        "                   GeneratorParam.conv2d_kernel_3_3.value, \n",
        "                   padding=GeneratorParam.conv2d_padding_same.value)(up1)\n",
        "    # to stabilize the learning too\n",
        "    conv1 = BatchNormalization()(conv1)\n",
        "    conv1 = Activation(GeneratorParam.activation_relu.value)(conv1)\n",
        "    # convert to image f size 28x28\n",
        "    up2 = Conv2DTranspose(GeneratorParam.conv2d_transpose_filter_64.value, \n",
        "                          GeneratorParam.conv2d_transpose_kernel_2_2.value, \n",
        "                          strides=GeneratorParam.conv2d_transpose_stride_2_2.value, \n",
        "                          padding=GeneratorParam.conv2d_padding_same.value)(conv1)\n",
        "    # convert back to black an white image with 1 channel\n",
        "    conv2 = Conv2D(GeneratorParam.conv2d_out_filter_1.value, \n",
        "                   GeneratorParam.conv2d_out_kernel_5_5.value, \n",
        "                   padding=GeneratorParam.conv2d_padding_same.value)(up2)\n",
        "    outputs = Activation(GeneratorParam.out_activation_tanh.value)(conv2)\n",
        "    \n",
        "    model = Model(inputs=[inputs], outputs=[outputs])\n",
        "    return model\n",
        "  \n",
        "g_model = generator_model()\n",
        "g_model.summary()\n",
        "plot_model(g_model, to_file='g_model.png')"
      ],
      "execution_count": 6,
      "outputs": [
        {
          "output_type": "stream",
          "text": [
            "WARNING:tensorflow:From /usr/local/lib/python3.6/dist-packages/keras/backend/tensorflow_backend.py:66: The name tf.get_default_graph is deprecated. Please use tf.compat.v1.get_default_graph instead.\n",
            "\n",
            "WARNING:tensorflow:From /usr/local/lib/python3.6/dist-packages/keras/backend/tensorflow_backend.py:541: The name tf.placeholder is deprecated. Please use tf.compat.v1.placeholder instead.\n",
            "\n",
            "WARNING:tensorflow:From /usr/local/lib/python3.6/dist-packages/keras/backend/tensorflow_backend.py:4432: The name tf.random_uniform is deprecated. Please use tf.random.uniform instead.\n",
            "\n",
            "WARNING:tensorflow:From /usr/local/lib/python3.6/dist-packages/keras/backend/tensorflow_backend.py:148: The name tf.placeholder_with_default is deprecated. Please use tf.compat.v1.placeholder_with_default instead.\n",
            "\n",
            "WARNING:tensorflow:From /usr/local/lib/python3.6/dist-packages/keras/backend/tensorflow_backend.py:190: The name tf.get_default_session is deprecated. Please use tf.compat.v1.get_default_session instead.\n",
            "\n",
            "WARNING:tensorflow:From /usr/local/lib/python3.6/dist-packages/keras/backend/tensorflow_backend.py:197: The name tf.ConfigProto is deprecated. Please use tf.compat.v1.ConfigProto instead.\n",
            "\n",
            "WARNING:tensorflow:From /usr/local/lib/python3.6/dist-packages/keras/backend/tensorflow_backend.py:203: The name tf.Session is deprecated. Please use tf.compat.v1.Session instead.\n",
            "\n",
            "WARNING:tensorflow:From /usr/local/lib/python3.6/dist-packages/keras/backend/tensorflow_backend.py:207: The name tf.global_variables is deprecated. Please use tf.compat.v1.global_variables instead.\n",
            "\n",
            "WARNING:tensorflow:From /usr/local/lib/python3.6/dist-packages/keras/backend/tensorflow_backend.py:216: The name tf.is_variable_initialized is deprecated. Please use tf.compat.v1.is_variable_initialized instead.\n",
            "\n",
            "WARNING:tensorflow:From /usr/local/lib/python3.6/dist-packages/keras/backend/tensorflow_backend.py:223: The name tf.variables_initializer is deprecated. Please use tf.compat.v1.variables_initializer instead.\n",
            "\n",
            "WARNING:tensorflow:From /usr/local/lib/python3.6/dist-packages/keras/backend/tensorflow_backend.py:2041: The name tf.nn.fused_batch_norm is deprecated. Please use tf.compat.v1.nn.fused_batch_norm instead.\n",
            "\n",
            "Model: \"model_1\"\n",
            "_________________________________________________________________\n",
            "Layer (type)                 Output Shape              Param #   \n",
            "=================================================================\n",
            "input_1 (InputLayer)         (None, 10)                0         \n",
            "_________________________________________________________________\n",
            "dense_1 (Dense)              (None, 6272)              68992     \n",
            "_________________________________________________________________\n",
            "batch_normalization_1 (Batch (None, 6272)              25088     \n",
            "_________________________________________________________________\n",
            "leaky_re_lu_1 (LeakyReLU)    (None, 6272)              0         \n",
            "_________________________________________________________________\n",
            "reshape_1 (Reshape)          (None, 7, 7, 128)         0         \n",
            "_________________________________________________________________\n",
            "conv2d_transpose_1 (Conv2DTr (None, 14, 14, 64)        32832     \n",
            "_________________________________________________________________\n",
            "conv2d_1 (Conv2D)            (None, 14, 14, 64)        36928     \n",
            "_________________________________________________________________\n",
            "batch_normalization_2 (Batch (None, 14, 14, 64)        256       \n",
            "_________________________________________________________________\n",
            "activation_1 (Activation)    (None, 14, 14, 64)        0         \n",
            "_________________________________________________________________\n",
            "conv2d_transpose_2 (Conv2DTr (None, 28, 28, 64)        16448     \n",
            "_________________________________________________________________\n",
            "conv2d_2 (Conv2D)            (None, 28, 28, 1)         1601      \n",
            "_________________________________________________________________\n",
            "activation_2 (Activation)    (None, 28, 28, 1)         0         \n",
            "=================================================================\n",
            "Total params: 182,145\n",
            "Trainable params: 169,473\n",
            "Non-trainable params: 12,672\n",
            "_________________________________________________________________\n"
          ],
          "name": "stdout"
        },
        {
          "output_type": "execute_result",
          "data": {
            "image/png": "[encoded data removed]",
            "text/plain": [
              "<IPython.core.display.Image object>"
            ]
          },
          "metadata": {
            "tags": []
          },
          "execution_count": 6
        }
      ]
    },
    {
      "cell_type": "code",
      "metadata": {
        "id": "10oS6VsNw95Q",
        "colab_type": "code",
        "colab": {}
      },
      "source": [
        "# import keras\n",
        "# keras.__version__"
      ],
      "execution_count": 0,
      "outputs": []
    },
    {
      "cell_type": "markdown",
      "metadata": {
        "id": "15dxhqdzyj0A",
        "colab_type": "text"
      },
      "source": [
        "## Discriminator"
      ]
    },
    {
      "cell_type": "code",
      "metadata": {
        "id": "Ic41nkxOxDks",
        "colab_type": "code",
        "outputId": "ff9f90b5-b6f0-44d2-c289-5549fda339c3",
        "colab": {
          "base_uri": "https://localhost:8080/",
          "height": 1000
        }
      },
      "source": [
        "class DiscriminatorParam(Enum):\n",
        "    conv2d_filter_64 = 64\n",
        "    conv2d_kernel_5_5 = (5, 5)\n",
        "    conv2d_stride_2_2 = (2, 2)\n",
        "    conv2d_padding_same = 'same'\n",
        "    \n",
        "    leaky_reLU_param_0_2 = 0.2\n",
        "    \n",
        "    conv2d_second_filter_128 = 128\n",
        "    conv2d_second_kernel_5_5 = (5, 5)\n",
        "    conv2d_second_stride_2_2 = (2, 2)\n",
        "    conv2d_second_padding_same = 'same'\n",
        "    \n",
        "    dense_1 = 1\n",
        "    \n",
        "    out_activation_sigmoid = 'sigmoid'\n",
        "    \n",
        "    \n",
        "def discriminator_model(image_shape: tuple=(28, 28, 1)) -> Model:\n",
        "    \"\"\"\n",
        "    \n",
        "    Parameters\n",
        "    ----------\n",
        "    image_shape : tuple\n",
        "    \n",
        "    Returns\n",
        "    -------\n",
        "    model: Model\n",
        "    \"\"\"\n",
        "    inputs = Input(image_shape)\n",
        "    # Change image to 14x14x64 feature map\n",
        "    conv1 = Conv2D(DiscriminatorParam.conv2d_filter_64.value, \n",
        "                   DiscriminatorParam.conv2d_kernel_5_5.value, \n",
        "                   strides=DiscriminatorParam.conv2d_stride_2_2.value, \n",
        "                   padding=DiscriminatorParam.conv2d_padding_same.value)(inputs)\n",
        "    conv1 = LeakyReLU(DiscriminatorParam.leaky_reLU_param_0_2.value)(conv1)\n",
        "    # Change image to 7x7x18 feature map\n",
        "    conv2 = Conv2D(DiscriminatorParam.conv2d_second_filter_128.value, \n",
        "                   DiscriminatorParam.conv2d_second_kernel_5_5.value,\n",
        "                   strides=DiscriminatorParam.conv2d_second_stride_2_2.value, \n",
        "                   padding=DiscriminatorParam.conv2d_second_padding_same.value)(conv1)\n",
        "    conv2 = LeakyReLU(DiscriminatorParam.leaky_reLU_param_0_2.value)(conv2)\n",
        "    fc1 = Flatten()(conv2)\n",
        "    # 1 class output for fake and real classification\n",
        "    fc1 = Dense(DiscriminatorParam.dense_1.value)(fc1)\n",
        "    outputs = Activation(DiscriminatorParam.out_activation_sigmoid.value)(fc1)\n",
        "    \n",
        "    model = Model(inputs=[inputs], outputs=[outputs])\n",
        "    return model\n",
        "  \n",
        "d_model = discriminator_model()\n",
        "d_model.summary()\n",
        "plot_model(d_model, to_file='d_model.png')"
      ],
      "execution_count": 8,
      "outputs": [
        {
          "output_type": "stream",
          "text": [
            "Model: \"model_2\"\n",
            "_________________________________________________________________\n",
            "Layer (type)                 Output Shape              Param #   \n",
            "=================================================================\n",
            "input_2 (InputLayer)         (None, 28, 28, 1)         0         \n",
            "_________________________________________________________________\n",
            "conv2d_3 (Conv2D)            (None, 14, 14, 64)        1664      \n",
            "_________________________________________________________________\n",
            "leaky_re_lu_2 (LeakyReLU)    (None, 14, 14, 64)        0         \n",
            "_________________________________________________________________\n",
            "conv2d_4 (Conv2D)            (None, 7, 7, 128)         204928    \n",
            "_________________________________________________________________\n",
            "leaky_re_lu_3 (LeakyReLU)    (None, 7, 7, 128)         0         \n",
            "_________________________________________________________________\n",
            "flatten_1 (Flatten)          (None, 6272)              0         \n",
            "_________________________________________________________________\n",
            "dense_2 (Dense)              (None, 1)                 6273      \n",
            "_________________________________________________________________\n",
            "activation_3 (Activation)    (None, 1)                 0         \n",
            "=================================================================\n",
            "Total params: 212,865\n",
            "Trainable params: 212,865\n",
            "Non-trainable params: 0\n",
            "_________________________________________________________________\n"
          ],
          "name": "stdout"
        },
        {
          "output_type": "execute_result",
          "data": {
            "image/png": "[encoded data removed]",
            "text/plain": [
              "<IPython.core.display.Image object>"
            ]
          },
          "metadata": {
            "tags": []
          },
          "execution_count": 8
        }
      ]
    },
    {
      "cell_type": "markdown",
      "metadata": {
        "id": "t3ayCsIHzSjo",
        "colab_type": "text"
      },
      "source": [
        "## Genrator containing Discriminator"
      ]
    },
    {
      "cell_type": "code",
      "metadata": {
        "id": "DfWxUfZ9yEnn",
        "colab_type": "code",
        "outputId": "95c2a2e6-0a30-4081-dc54-f33a53e9648e",
        "colab": {
          "base_uri": "https://localhost:8080/",
          "height": 272
        }
      },
      "source": [
        "def generator_containint_discriminator(g: Model, d: Model, in_shape: tuple=(10,)) -> Model:\n",
        "    \"\"\"\n",
        "    DiscriminatorとGeneratorモデルの合成\n",
        "    \n",
        "    Parameters\n",
        "    ----------\n",
        "    g : Generator Model\n",
        "        \n",
        "    d : Discriminator Model\n",
        "     \n",
        "    \n",
        "    Returns\n",
        "    -------\n",
        "    gan : A mixed model for learning only a generated model without learning an identification Model\n",
        "        \n",
        "    \"\"\"\n",
        "    # Generator setting for learning\n",
        "    d.trainable = False\n",
        "    # setting for adding noise\n",
        "    ganInput = Input(shape=in_shape)\n",
        "    # input noise into the generator\n",
        "    x = g(ganInput)\n",
        "    # Enter the generated image into the discriminator\n",
        "    ganOutput = d(x)\n",
        "    gan = Model(inputs=ganInput, outputs=ganOutput)\n",
        "    return gan\n",
        "\n",
        "d_model = discriminator_model()\n",
        "g_model = generator_model()\n",
        "g_d_model = generator_containint_discriminator(g_model, d_model)\n",
        "plot_model(g_d_model, to_file='g_d_model.png')"
      ],
      "execution_count": 9,
      "outputs": [
        {
          "output_type": "execute_result",
          "data": {
            "image/png": "[encoded data removed]",
            "text/plain": [
              "<IPython.core.display.Image object>"
            ]
          },
          "metadata": {
            "tags": []
          },
          "execution_count": 9
        }
      ]
    },
    {
      "cell_type": "markdown",
      "metadata": {
        "id": "yxTnpKUe0LCR",
        "colab_type": "text"
      },
      "source": [
        "### Combining the images"
      ]
    },
    {
      "cell_type": "code",
      "metadata": {
        "id": "F1R54JV10BjG",
        "colab_type": "code",
        "colab": {}
      },
      "source": [
        "def combine_images(generated_images: np.ndarray) -> np.ndarray:\n",
        "    \"\"\"\n",
        "    Synthethize the generated image to check the learning progress\n",
        "    \n",
        "    Parameters\n",
        "    ----------\n",
        "    generated_images : np.ndarray , image generated for batch size\n",
        "    \n",
        "\n",
        "    Returns\n",
        "    -------\n",
        "    image: np.ndarray , Combine generated images and modify them into one large image\n",
        "        \n",
        "    \"\"\"\n",
        "    # number of generated images\n",
        "    num = generated_images.shape[0]\n",
        "    # generated image width\n",
        "    width = int(math.sqrt(num))\n",
        "    # generated image height\n",
        "    heigh = int(math.ceil(float(num) / width))\n",
        "    #Get the height, width and number of channels of the generated image\n",
        "    shape = generated_images.shape[1:4]\n",
        "    # Scale height and width\n",
        "    image = np.zeros((heigh * shape[0], width*shape[1], shape[2]), dtype=generated_images.dtype)\n",
        "    # Processing to embed each generated image data in one large image data\n",
        "    for index, img in enumerate(generated_images):\n",
        "        i = int(index / width)\n",
        "        j = index % width\n",
        "        image[i * shape[0]: (i+1) * shape[0], j * shape[1]:(j + 1) * shape[1], :] = img[:, :, :]\n",
        "    return image"
      ],
      "execution_count": 0,
      "outputs": []
    },
    {
      "cell_type": "markdown",
      "metadata": {
        "id": "10reNhtV1Gfg",
        "colab_type": "text"
      },
      "source": [
        "### Load the Model"
      ]
    },
    {
      "cell_type": "code",
      "metadata": {
        "id": "bTRVGVYo1CjE",
        "colab_type": "code",
        "colab": {}
      },
      "source": [
        "def load_models(common_path: str=DataParm.common_path.value) -> Tuple[Model, Model]:\n",
        "    \"\"\"\n",
        "    Load learned generation model and identification model (pretrained)\n",
        "    Parameters\n",
        "    ----------\n",
        "    common_path : str\n",
        "    Specify path to load model\n",
        "\n",
        "    Returns\n",
        "    -------\n",
        "    g: Generative Model\n",
        "        \n",
        "    d: discriminative Model\n",
        "      \n",
        "    \"\"\"\n",
        "    d = load_model(common_path + '/weights/discriminator.h5')\n",
        "    g = load_model(common_path + '/weights/generator.h5')\n",
        "    return g, d"
      ],
      "execution_count": 0,
      "outputs": []
    },
    {
      "cell_type": "markdown",
      "metadata": {
        "id": "2mCZS6Z-2QtH",
        "colab_type": "text"
      },
      "source": [
        "### Tensorboard\n",
        "\n",
        "Setting of log file that will be use to get performance"
      ]
    },
    {
      "cell_type": "code",
      "metadata": {
        "id": "pt2zLjRv2HuY",
        "colab_type": "code",
        "colab": {}
      },
      "source": [
        "def write_log(callback, names, logs, epoch):\n",
        "    \"\"\"\n",
        "    Tensorboard : save the loss to\n",
        "    \n",
        "    Parameters\n",
        "    ----------\n",
        "    callback: Set Tensorboard for Callback function\n",
        "        \n",
        "    names: str ,Set name of log to save\n",
        "        \n",
        "    logs:  Set the value to save\n",
        "        \n",
        "    epoch: set number\n",
        "\n",
        "    \"\"\"\n",
        "    for name, value in zip(names, logs):\n",
        "        summary = tf.Summary()\n",
        "        summary_value = summary.value.add()\n",
        "        summary_value.simple_value = value\n",
        "        summary_value.tag = name\n",
        "        callback.writer.add_summary(summary, epoch)\n",
        "        callback.writer.flush()\n",
        "        \n",
        "\n",
        "log_path = DataParm.common_path.value + '/logs'\n",
        "callback = TensorBoard(log_path)"
      ],
      "execution_count": 0,
      "outputs": []
    },
    {
      "cell_type": "markdown",
      "metadata": {
        "id": "1nhuqAW222rx",
        "colab_type": "text"
      },
      "source": [
        "## Metrics for Generated images Inception\n",
        "\n"
      ]
    },
    {
      "cell_type": "markdown",
      "metadata": {
        "id": "5Czj_ycAiOjQ",
        "colab_type": "text"
      },
      "source": [
        "### Calculate Inception Score\n",
        "\n",
        "Calculate image quality and diversity"
      ]
    },
    {
      "cell_type": "code",
      "metadata": {
        "id": "AAZ-zOGg2xKx",
        "colab_type": "code",
        "outputId": "5ff564fd-0207-42cb-edb3-63f136e22d1d",
        "colab": {
          "base_uri": "https://localhost:8080/",
          "height": 104
        }
      },
      "source": [
        "def scale_images(images: np.asarray, new_shape: tuple) -> np.asarray:\n",
        "    \"\"\"\n",
        "    \n",
        "    Parameters\n",
        "    \n",
        "    Change the size of the image (change to a size that can be inferred by Inception Model)\n",
        "    ----------\n",
        "    images: np.asarray ,Batch size image data\n",
        "        \n",
        "    new_shape: tuple ,The size of the image you want to change\n",
        "      \n",
        "    Returns\n",
        "    -------\n",
        "       List of resized images\n",
        "    \"\"\"\n",
        "    images_list = list()\n",
        "    for image in images:\n",
        "        # Change image size\n",
        "        new_image = resize(image, new_shape, 0)\n",
        "        # Keep resized images in list\n",
        "        images_list.append(new_image)\n",
        "    return np.array(images_list)\n",
        "\n",
        "\n",
        "def calculate_inception_score(images: np.asarray, model: Model=InceptionV3(), n_split: int=10, eps: float=1E-16) -> Tuple[np.asarray, np.asarray]:\n",
        "    \"\"\"\n",
        "  \n",
        "    Parameters\n",
        "    \n",
        "    Calculate mean and standard deviation of Inception Score\n",
        "    ----------\n",
        "    images: np.asarray ,Multiple image data\n",
        "        \n",
        "    model: Model to infer from\n",
        "      \n",
        "    n_split: int,Number of groups for dividing multiple image data into groups\n",
        "       \n",
        "    eps: float ,Add a value so that it does not become 0 when calculating logarithm\n",
        "        \n",
        "    Returns\n",
        "        is_avg: float ,Inception Score average\n",
        "           \n",
        "        is_std: float ,Inception Score standard deviation\n",
        "            \n",
        "    -------\n",
        "    \"\"\"\n",
        "    scores = list()\n",
        "    # Calculate number of groups\n",
        "    n_part = floor(images.shape[0] / n_split)\n",
        "    for i in range(n_split):\n",
        "        # Acquire images by group\n",
        "        # \n",
        "        ix_start, ix_end = i * n_part, (i+1) * n_part\n",
        "        subset = images[ix_start:ix_end]\n",
        "        # convert to float32\n",
        "        subset = subset.astype(\"float32\")\n",
        "        # Change to size that can be inferred with Inception Model\n",
        "        subset = scale_images(subset, (299, 299, 3))\n",
        "        # Preprocess to [-1,1]\n",
        "        subset = preprocess_input(subset)\n",
        "        # Infer p (y | x)\n",
        "        p_yx = model.predict(subset)\n",
        "        # Infer p (y) for each class\n",
        "        p_y = np.expand_dims(p_yx.mean(axis=0), 0)\n",
        "        # Logarithmic probability KL divergence calculation\n",
        "        kl_d = p_yx * (np.log(p_yx + eps) - np.log(p_y + eps))\n",
        "        # Sum of KL divergence for each class\n",
        "        sum_kl_d = kl_d.sum(axis=1)\n",
        "        # KL divergence average\n",
        "        avg_kl_d = np.mean(sum_kl_d)\n",
        "        # Return KL divergence from logarithmic domain\n",
        "        is_score = np.exp(avg_kl_d)\n",
        "        # save in list\n",
        "        scores.append(is_score)\n",
        "    # Calculate mean and standard deviation\n",
        "    is_avg, is_std = np.mean(scores), np.std(scores)\n",
        "    return is_avg, is_std"
      ],
      "execution_count": 13,
      "outputs": [
        {
          "output_type": "stream",
          "text": [
            "WARNING:tensorflow:From /usr/local/lib/python3.6/dist-packages/keras/backend/tensorflow_backend.py:4267: The name tf.nn.max_pool is deprecated. Please use tf.nn.max_pool2d instead.\n",
            "\n",
            "WARNING:tensorflow:From /usr/local/lib/python3.6/dist-packages/keras/backend/tensorflow_backend.py:4271: The name tf.nn.avg_pool is deprecated. Please use tf.nn.avg_pool2d instead.\n",
            "\n"
          ],
          "name": "stdout"
        }
      ]
    },
    {
      "cell_type": "markdown",
      "metadata": {
        "id": "i_zaNdWK5sZC",
        "colab_type": "text"
      },
      "source": [
        "### FID calculation\n",
        "\n",
        "FID is a measure of similarity between two datasets of images. It was shown to correlate well with human judgement of visual quality and is most often used to evaluate the quality of samples of Generative Adversarial Networks.\n",
        "\n",
        "We then calculate distance to actual image by using a pretrained image recognition model Inception (pre-trained Inception-v3 model achieves state-of-the-art accuracy for recognizing general objects with 1000 classes)"
      ]
    },
    {
      "cell_type": "code",
      "metadata": {
        "id": "_gmBzwpD4xrR",
        "colab_type": "code",
        "colab": {}
      },
      "source": [
        "def calculate_fid(real_images: np.asarray, generate_images: np.asarray, model: Model=InceptionV3(include_top=False, pooling=\"avg\", input_shape=(299, 299, 3))) -> float:\n",
        "    \"\"\"\n",
        "    Parameters:  Calculate FID\n",
        " \n",
        "    ----------\n",
        "    real_images: np.asarray\n",
        "        Set multiple real images\n",
        "    generate_images: np.asarray\n",
        "        Set multiple generated images\n",
        "    model: Model\n",
        "        Set feature extraction model\n",
        "    Returns\n",
        "        fid: float\n",
        "        Calculate FID\n",
        "    -------\n",
        "    \"\"\"\n",
        "    # Change to inferable float32\n",
        "    real_images = real_images.astype(\"float32\")\n",
        "    generate_images = generate_images.astype(\"float32\")\n",
        "    # Change image size\n",
        "    real_images = scale_images(real_images, (299, 299, 3))\n",
        "    generate_images = scale_images(generate_images, (299, 299, 3))\n",
        "    # Image preprocessing\n",
        "    real_images = preprocess_input(real_images)\n",
        "    generate_images = preprocess_input(generate_images)\n",
        "    # Feature extraction\n",
        "    act1 = model.predict(real_images)\n",
        "    act2 = model.predict(generate_images)\n",
        "    # Calculate mean vector and covariance matrix\n",
        "    mu1, sigma1 = act1.mean(axis=0), np.cov(act1, rowvar=False)\n",
        "    mu2, sigma2 = act2.mean(axis=0), np.cov(act2, rowvar=False)\n",
        "    # Calculate the sum of the square of the difference between the average vector of the real image and the generated image\n",
        "    ssdiff = np.sum((mu1 - mu2)**2.0)\n",
        "    # Calculate product root of covariance matrix\n",
        "    covmean = sqrtm(sigma1.dot(sigma2))\n",
        "    # Get real part only if complex number\n",
        "    if np.iscomplexobj(covmean):\n",
        "        covmean = covmean.real\n",
        "    # Calculate FID\n",
        "    fid = ssdiff + np.trace(sigma1 + sigma2 - 2.0 * covmean)\n",
        "    return fid"
      ],
      "execution_count": 0,
      "outputs": []
    },
    {
      "cell_type": "markdown",
      "metadata": {
        "id": "MtM7bvZq-FuV",
        "colab_type": "text"
      },
      "source": [
        "## Training"
      ]
    },
    {
      "cell_type": "code",
      "metadata": {
        "id": "WcrdgdLx6BDy",
        "colab_type": "code",
        "colab": {}
      },
      "source": [
        "class TrainParam(Enum):\n",
        "    discriminator_lr_0_0004 = 0.0004\n",
        "    generator_lr_0_0002 = 0.0002\n",
        "    \n",
        "    discriminator_loss_mse = \"mse\"\n",
        "    generator_loss_mse = \"mse\"\n",
        "\n",
        "\n",
        "\n",
        "def train(batch_size: int, X_train: np.ndarray, epoch: int=10, common_path: str=DataParm.common_path.value) -> Tuple[Model, Model]:\n",
        "    \"\"\"\n",
        "   Learn discrimination and generation models\n",
        "    \n",
        "     Parameters\n",
        "     ----------\n",
        "     batch_size: int\n",
        "         Batch size\n",
        "     X_train: np.ndarray\n",
        "         Image data for learning\n",
        "     epoch: int\n",
        "         Specify number of epochs for learning\n",
        "     common_path: str\n",
        "         Specify model and path to save generated image\n",
        "\n",
        "     Returns\n",
        "     -------\n",
        "     d: Model\n",
        "         Identification model\n",
        "     g: Model\n",
        "         Generation model\n",
        "\n",
        "    \"\"\"\n",
        "    d = discriminator_model()\n",
        "    g = generator_model()\n",
        "    # Mixed model for learning Generator model\n",
        "    d_on_g = generator_containint_discriminator(g, d)\n",
        "    # Optimizer setting\n",
        "    d_optim = RMSprop(lr=TrainParam.discriminator_lr_0_0004.value)\n",
        "    g_optim = RMSprop(lr=TrainParam.generator_lr_0_0002.value)\n",
        "    g.compile(loss=TrainParam.generator_loss_mse.value, optimizer=g_optim)\n",
        "    d_on_g.compile(loss=TrainParam.discriminator_loss_mse.value, optimizer=g_optim)\n",
        "    d.trainable= True\n",
        "    d.compile(loss=TrainParam.discriminator_loss_mse.value, optimizer=d_optim)\n",
        "    # Inception score  model \n",
        "    is_model = InceptionV3(include_top=True, input_shape=(299, 299, 3))\n",
        "    #Feature extractor model\n",
        "    fid_model = InceptionV3(include_top=False, pooling=\"avg\", input_shape=(299, 299, 3))\n",
        "    \n",
        "    for e in range(epoch):\n",
        "        print('Epoch is ', e)\n",
        "        # Data size / Batch size = Calculate how many times batch processing is possible with data size\n",
        "        n_iter = int(X_train.shape[0] / batch_size)\n",
        "        # Process to make learning progress easy to understand\n",
        "        progress_bar = Progbar(target=n_iter)\n",
        "        \n",
        "        \n",
        "        for index in range(n_iter):\n",
        "            # Get 10-dimensional noise for batch size\n",
        "            noise = np.random.uniform(0, 1, size=(batch_size, 10))\n",
        "            # Get images for batch size\n",
        "            image_batch = X_train[index * batch_size:(index + 1) * batch_size]\n",
        "            # Generate image from noise\n",
        "            generated_images = g.predict(noise, verbose=0)\n",
        "            \n",
        "            # Save the generated image for later review\n",
        "            if index % 20 == 0:\n",
        "                # -1 to 1 scale so convert to 255 scale\n",
        "                image = combine_images(generated_images)\n",
        "                # -1 to 1 scale so convert to 255 scale\n",
        "                image = image * DataParm.image_size_127_5.value + DataParm.image_size_127_5.value\n",
        "\n",
        "                if not os.path.exists(common_path + '/result/'):\n",
        "                    os.makedirs(common_path + '/result/')\n",
        "                cv2.imwrite(common_path + '/result/' + str(e) + '_' + str(index) + '.png', image)\n",
        "\n",
        "            # Combine real image and generated image into one\n",
        "            x = np.concatenate((image_batch, generated_images))\n",
        "            # Real image label, generated image label\n",
        "            y = np.array([1] * batch_size + [0] * batch_size)\n",
        "            \n",
        "            # Learning Discriminator\n",
        "            d_loss = d.train_on_batch(x, y)\n",
        "\n",
        "            # Do not Discriminator\n",
        "            d.trainable = False\n",
        "\n",
        "            # Learning Generator\n",
        "            g_loss = d_on_g.train_on_batch(noise, np.array([1] * batch_size))\n",
        "            d.trainable = True\n",
        "            \n",
        "            # Display progress bar to keep track of learning progress\n",
        "            progress_bar.update(index, values=[('g', g_loss), ('d', d_loss)])\n",
        "        \n",
        "        #Write Tensorboard\n",
        "        callback.set_model(d)\n",
        "        write_log(callback, ['d_loss'], [d_loss], e)\n",
        "            \n",
        "        callback.set_model(d_on_g)\n",
        "        # Inception Score calculation\n",
        "        is_avg, is_std = calculate_inception_score(generated_images, is_model)\n",
        "        #Calculate FID\n",
        "        fid = calculate_fid(image_batch, generated_images, fid_model)\n",
        "\n",
        "        write_log(callback, ['g_loss', 'inception_score_average', 'inception_score_std', 'fid'], [g_loss, is_avg, is_std, fid], e)\n",
        "        \n",
        "        print('')\n",
        "        # Save learned generation model and identification model\n",
        "        if not os.path.exists(common_path + '/weights/'):\n",
        "            os.makedirs(common_path + '/weights/')\n",
        "        g.save(common_path + '/weights/generator.h5')\n",
        "        d.save(common_path + '/weights/discriminator.h5')\n",
        "    return d, g"
      ],
      "execution_count": 0,
      "outputs": []
    },
    {
      "cell_type": "markdown",
      "metadata": {
        "id": "F0ccaxMRBSLi",
        "colab_type": "text"
      },
      "source": [
        " Genrator\n",
        "\n",
        "Generate images using pretrained weight"
      ]
    },
    {
      "cell_type": "code",
      "metadata": {
        "id": "wpuS2GBi-JD9",
        "colab_type": "code",
        "colab": {}
      },
      "source": [
        "def generate(batch_size: int, common_path: str=DataParm.common_path.value, noize_size: int=10) -> np.ndarray:\n",
        "    \"\"\"\n",
        "     Generate an image using a generation model\n",
        "    \n",
        "     Parameters\n",
        "     ----------\n",
        "     batch_size: int\n",
        "         Batch size\n",
        "     common_path: str\n",
        "         Specify path to load model\n",
        "     noize_size: int\n",
        "         Noise dimension\n",
        "\n",
        "     Returns\n",
        "     -------\n",
        "     generated_images: np.ndarray\n",
        "         Pass the generated image in numpy format\n",
        "\n",
        "    \"\"\"\n",
        "    g = load_model(common_path + '/weights/generator.h5')\n",
        "    noise = np.random.uniform(0, 1, (batch_size, noize_size))\n",
        "    generated_images = g.predict(noise)\n",
        "    return generated_images"
      ],
      "execution_count": 0,
      "outputs": []
    },
    {
      "cell_type": "markdown",
      "metadata": {
        "id": "qAVTMOr7BWbp",
        "colab_type": "text"
      },
      "source": [
        "### Residual Loss\n",
        "\n",
        "Function to calculate the degree of abnormality of the generation model and identification model"
      ]
    },
    {
      "cell_type": "code",
      "metadata": {
        "id": "prN6VSdPBVFp",
        "colab_type": "code",
        "colab": {}
      },
      "source": [
        "def sum_of_residual(y_true: np.array, y_pred: np.array):\n",
        "    \"\"\"\n",
        "     Function to calculate the degree of abnormality of the generation model and identification model\n",
        "    \n",
        "     Parameters\n",
        "     ----------\n",
        "     y_true: np.array\n",
        "         Target data\n",
        "     y_pred: np.array\n",
        "         Predicted value of the model\n",
        "\n",
        "     Returns\n",
        "     -------\n",
        "         Calculate Residual Loss\n",
        "\n",
        "    \"\"\"\n",
        "    return K.sum(K.abs(y_true - y_pred))"
      ],
      "execution_count": 0,
      "outputs": []
    },
    {
      "cell_type": "markdown",
      "metadata": {
        "id": "4gcFPSZcBczd",
        "colab_type": "text"
      },
      "source": [
        "### Feature Extractor\n",
        "\n",
        "   Get feature extraction model from discriminator model"
      ]
    },
    {
      "cell_type": "code",
      "metadata": {
        "id": "zM5j3kbFBat9",
        "colab_type": "code",
        "outputId": "5cebdfd0-8587-4fa1-c90b-3dcfdf40ba96",
        "colab": {
          "base_uri": "https://localhost:8080/",
          "height": 514
        }
      },
      "source": [
        "class FeatureExtractorParam(Enum):\n",
        "    loss_binary_crossentropy = \"binary_crossentropy\"\n",
        "    optimizer_rmsprop = \"rmsprop\"\n",
        "    feature_extract_layer_first_conv = -7\n",
        "    \n",
        "def feature_extractor(d: Model=None, common_path: str=DataParm.common_path.value) -> Model:\n",
        "    \"\"\" \n",
        "     Parameters\n",
        "     ----------\n",
        "     d: Model\n",
        "         disdrimination model\n",
        "     common_path: str\n",
        "         Set the path to load the model\n",
        "\n",
        "     Returns\n",
        "     -------\n",
        "     intermidiate_model: Model\n",
        "         Feature extraction model\n",
        "    \"\"\"\n",
        "    if d is None:\n",
        "        d = load_model(common_path + '/weights/discriminator.h5')\n",
        "        d.summary()\n",
        "    # Set feature extractor for Discriminator\n",
        "    intermidiate_model = Model(inputs=d.layers[0].input, outputs=d.layers[FeatureExtractorParam.feature_extract_layer_first_conv.value].output)\n",
        "    intermidiate_model.compile(loss=FeatureExtractorParam.loss_binary_crossentropy.value, optimizer=FeatureExtractorParam.optimizer_rmsprop.value)\n",
        "    return intermidiate_model\n",
        "  \n",
        "d_model = discriminator_model()\n",
        "f_model = feature_extractor(d_model)\n",
        "f_model.summary()\n",
        "plot_model(f_model, to_file='f_model.png')"
      ],
      "execution_count": 18,
      "outputs": [
        {
          "output_type": "stream",
          "text": [
            "WARNING:tensorflow:From /usr/local/lib/python3.6/dist-packages/keras/optimizers.py:793: The name tf.train.Optimizer is deprecated. Please use tf.compat.v1.train.Optimizer instead.\n",
            "\n",
            "WARNING:tensorflow:From /usr/local/lib/python3.6/dist-packages/keras/backend/tensorflow_backend.py:3657: The name tf.log is deprecated. Please use tf.math.log instead.\n",
            "\n",
            "WARNING:tensorflow:From /usr/local/lib/python3.6/dist-packages/tensorflow_core/python/ops/nn_impl.py:183: where (from tensorflow.python.ops.array_ops) is deprecated and will be removed in a future version.\n",
            "Instructions for updating:\n",
            "Use tf.where in 2.0, which has the same broadcast rule as np.where\n",
            "Model: \"model_7\"\n",
            "_________________________________________________________________\n",
            "Layer (type)                 Output Shape              Param #   \n",
            "=================================================================\n",
            "input_8 (InputLayer)         (None, 28, 28, 1)         0         \n",
            "_________________________________________________________________\n",
            "conv2d_197 (Conv2D)          (None, 14, 14, 64)        1664      \n",
            "=================================================================\n",
            "Total params: 1,664\n",
            "Trainable params: 1,664\n",
            "Non-trainable params: 0\n",
            "_________________________________________________________________\n"
          ],
          "name": "stdout"
        },
        {
          "output_type": "execute_result",
          "data": {
            "image/png": "[encoded data removed]",
            "text/plain": [
              "<IPython.core.display.Image object>"
            ]
          },
          "metadata": {
            "tags": []
          },
          "execution_count": 18
        }
      ]
    },
    {
      "cell_type": "markdown",
      "metadata": {
        "id": "B5BHsY2EBk0c",
        "colab_type": "text"
      },
      "source": [
        "### Anomaly detector\n",
        "\n",
        "\n",
        "Create a model that generates anomaly scores and images by adjusting the layers that generate noise"
      ]
    },
    {
      "cell_type": "code",
      "metadata": {
        "id": "9z7uyAoCBf6D",
        "colab_type": "code",
        "outputId": "b476e214-e194-452b-a287-1568b924633b",
        "colab": {
          "base_uri": "https://localhost:8080/",
          "height": 835
        }
      },
      "source": [
        "class AnomalyDetectorParam(Enum):\n",
        "    activation_sigmoid = \"sigmoid\"\n",
        "    optimizer_rmsprop = 'rmsprop'\n",
        "def anomaly_detector(g: Model, d: Model, in_shape: tuple=(10,), loss_weights: list=[0.9, 0.1]) -> Model:\n",
        "    \"\"\"\n",
        "    \n",
        "    \n",
        "     Parameters\n",
        "     ----------\n",
        "     g: Model\n",
        "         Generation model\n",
        "     d: Model\n",
        "         Identification model\n",
        "     in_shape: tuple\n",
        "         Noise input size\n",
        "     loss_weights: list\n",
        "         Set importance of loss\n",
        "\n",
        "     Returns\n",
        "     -------\n",
        "     model: Model\n",
        "         Model that generates anomaly scores and images\n",
        "\n",
        "    \"\"\"\n",
        "    # Create feature extraction model from Discriminator\n",
        "    intermidiate_model = feature_extractor(d)\n",
        "    # Do not learn feature extraction model\n",
        "    feature_extractor.trainable = False\n",
        "    # Create Generator\n",
        "    g = Model(inputs=g.layers[1].input, outputs=g.layers[-1].output)\n",
        "    # Generator does not learn \n",
        "    g.trainable = False\n",
        "    # layers for learning  Noize\n",
        "    aInput = Input(shape=in_shape)\n",
        "    gInput = Dense(in_shape[0], trainable=True)(aInput)\n",
        "    gInput = Activation(AnomalyDetectorParam.activation_sigmoid.value)(gInput)\n",
        "    \n",
        "    # Generate image with noise input\n",
        "    G_out = g(gInput)\n",
        "    # Extract feature from image\n",
        "    D_out = intermidiate_model(G_out)\n",
        "    # Create a model that outputs images and features\n",
        "    model = Model(inputs=aInput, outputs=[G_out, D_out])\n",
        "    model.compile(loss=sum_of_residual, loss_weights=loss_weights, optimizer=AnomalyDetectorParam.optimizer_rmsprop.value)\n",
        "    \n",
        "    # Fix BatchNorm to avoid learning\n",
        "    K.set_learning_phase(0)\n",
        "    \n",
        "    return model\n",
        "  \n",
        "g_model = generator_model()\n",
        "d_model = discriminator_model()\n",
        "a_model = anomaly_detector(g_model, d_model)\n",
        "a_model.summary()\n",
        "plot_model(a_model, to_file=\"anomaly_plot.png\", show_shapes=True, show_layer_names=True)"
      ],
      "execution_count": 19,
      "outputs": [
        {
          "output_type": "stream",
          "text": [
            "Model: \"model_12\"\n",
            "_________________________________________________________________\n",
            "Layer (type)                 Output Shape              Param #   \n",
            "=================================================================\n",
            "input_11 (InputLayer)        (None, 10)                0         \n",
            "_________________________________________________________________\n",
            "dense_8 (Dense)              (None, 10)                110       \n",
            "_________________________________________________________________\n",
            "activation_199 (Activation)  (None, 10)                0         \n",
            "_________________________________________________________________\n",
            "model_11 (Model)             (None, 28, 28, 1)         182145    \n",
            "_________________________________________________________________\n",
            "model_10 (Model)             (None, 14, 14, 64)        1664      \n",
            "=================================================================\n",
            "Total params: 183,919\n",
            "Trainable params: 1,774\n",
            "Non-trainable params: 182,145\n",
            "_________________________________________________________________\n"
          ],
          "name": "stdout"
        },
        {
          "output_type": "execute_result",
          "data": {
            "image/png": "[encoded data removed]",
            "text/plain": [
              "<IPython.core.display.Image object>"
            ]
          },
          "metadata": {
            "tags": []
          },
          "execution_count": 19
        }
      ]
    },
    {
      "cell_type": "markdown",
      "metadata": {
        "id": "aF3LuW1qBvFL",
        "colab_type": "text"
      },
      "source": [
        "### Anomaly score Computation"
      ]
    },
    {
      "cell_type": "code",
      "metadata": {
        "id": "QuHItBqcBpdG",
        "colab_type": "code",
        "colab": {}
      },
      "source": [
        "def compute_anomaly_score(model: Model, x: np.array, iterations: int=500, d: Model=None, noize_shape: tuple=(1, 10)) -> Tuple[np.asarray, np.asarray,]:\n",
        "    \"\"\"\n",
        "     Function to calculate anomaly score\n",
        "    \n",
        "     Parameters\n",
        "     ----------\n",
        "     g: Model\n",
        "         Model for calculating anomaly scores\n",
        "     x: np.array\n",
        "         Image for verification\n",
        "     iterations: int\n",
        "         Set iteration\n",
        "     d: Model\n",
        "         discriminator model\n",
        "\n",
        "     Returns\n",
        "     -------\n",
        "     loss: np.asarray\n",
        "         Abnormal score\n",
        "     similar_data: np.asarray\n",
        "         Generate noise by inputting noise into a model with adjusted noise\n",
        "    \"\"\"\n",
        "    # Create noise\n",
        "    z = np.random.uniform(0, 1, size=noize_shape)\n",
        "    # create feature extractor model\n",
        "    intermidiate_model = feature_extractor(d)\n",
        "    # Extract features of real image\n",
        "    d_x = intermidiate_model.predict(x)\n",
        "    # Using noise as an input, learn noise using real images and feature values of real images as targets\n",
        "    loss = model.fit(z, [x, d_x], batch_size=1, epochs=iterations, verbose=0)\n",
        "    # Create image from noise\n",
        "    similar_data, _ = model.predict(z)\n",
        "    # derive anomalies score\n",
        "    loss = loss.history['loss'][-1]\n",
        "    \n",
        "    return loss, similar_data"
      ],
      "execution_count": 0,
      "outputs": []
    },
    {
      "cell_type": "markdown",
      "metadata": {
        "id": "RD5SwnfoCCNw",
        "colab_type": "text"
      },
      "source": [
        "-Get learning and test data\n",
        "\n",
        "-Data scales from -1 to 1\n",
        "\n",
        "-Use learning data of label 1 for GAN learning.\n",
        "\n",
        "-Use test data of label 1 and test data of other labels for verification"
      ]
    },
    {
      "cell_type": "code",
      "metadata": {
        "id": "TYPG_xZsB7vi",
        "colab_type": "code",
        "outputId": "d66e11cb-6e74-4664-bbd2-ca6aeae2031e",
        "colab": {
          "base_uri": "https://localhost:8080/",
          "height": 541
        }
      },
      "source": [
        "%%time\n",
        "batch_size = DataParm.batch_size_64.value\n",
        "Model_d, Model_g = train(batch_size, X_train)"
      ],
      "execution_count": 21,
      "outputs": [
        {
          "output_type": "stream",
          "text": [
            "Epoch is  0\n",
            "WARNING:tensorflow:From /usr/local/lib/python3.6/dist-packages/keras/backend/tensorflow_backend.py:1033: The name tf.assign_add is deprecated. Please use tf.compat.v1.assign_add instead.\n",
            "\n",
            "WARNING:tensorflow:From /usr/local/lib/python3.6/dist-packages/keras/backend/tensorflow_backend.py:1020: The name tf.assign is deprecated. Please use tf.compat.v1.assign instead.\n",
            "\n",
            "103/105 [============================>.] - ETA: 0s - g: 0.6787 - d: 0.0507WARNING:tensorflow:From /usr/local/lib/python3.6/dist-packages/keras/callbacks.py:1122: The name tf.summary.merge_all is deprecated. Please use tf.compat.v1.summary.merge_all instead.\n",
            "\n",
            "WARNING:tensorflow:From /usr/local/lib/python3.6/dist-packages/keras/callbacks.py:1125: The name tf.summary.FileWriter is deprecated. Please use tf.compat.v1.summary.FileWriter instead.\n",
            "\n",
            "\n",
            "Epoch is  1\n",
            "103/105 [============================>.] - ETA: 0s - g: 0.9247 - d: 0.0043\n",
            "Epoch is  2\n",
            "104/105 [============================>.] - ETA: 0s - g: 0.9617 - d: 0.0024\n",
            "Epoch is  3\n",
            "104/105 [============================>.] - ETA: 0s - g: 0.9817 - d: 5.5959e-04\n",
            "Epoch is  4\n",
            "104/105 [============================>.] - ETA: 0s - g: 0.9908 - d: 3.4161e-04\n",
            "Epoch is  5\n",
            "103/105 [============================>.] - ETA: 0s - g: 0.9946 - d: 8.5090e-04\n",
            "Epoch is  6\n",
            "103/105 [============================>.] - ETA: 0s - g: 0.9921 - d: 2.4608e-04\n",
            "Epoch is  7\n",
            "103/105 [============================>.] - ETA: 0s - g: 0.9956 - d: 2.1820e-04\n",
            "Epoch is  8\n",
            "103/105 [============================>.] - ETA: 0s - g: 0.9966 - d: 5.6845e-04\n",
            "Epoch is  9\n",
            "104/105 [============================>.] - ETA: 0s - g: 0.9996 - d: 9.8725e-07\n",
            "CPU times: user 8min 26s, sys: 57.2 s, total: 9min 23s\n",
            "Wall time: 7min 24s\n"
          ],
          "name": "stdout"
        }
      ]
    },
    {
      "cell_type": "markdown",
      "metadata": {
        "id": "yr0Et5hFDTo-",
        "colab_type": "text"
      },
      "source": [
        "Tensorboard for checking te logs"
      ]
    },
    {
      "cell_type": "code",
      "metadata": {
        "id": "SCX_k7ldCJKp",
        "colab_type": "code",
        "colab": {}
      },
      "source": [
        "%load_ext tensorboard "
      ],
      "execution_count": 0,
      "outputs": []
    },
    {
      "cell_type": "code",
      "metadata": {
        "id": "jPFeUNg4DXjx",
        "colab_type": "code",
        "outputId": "5aac1e8c-c984-47fd-dfce-8db7fe452d43",
        "colab": {
          "base_uri": "https://localhost:8080/",
          "height": 34
        }
      },
      "source": [
        "%tensorboard --logdir DataParm.common_path.value"
      ],
      "execution_count": 23,
      "outputs": [
        {
          "output_type": "display_data",
          "data": {
            "text/plain": [
              "Reusing TensorBoard on port 6006 (pid 733), started 3:32:07 ago. (Use '!kill 733' to kill it.)"
            ]
          },
          "metadata": {
            "tags": []
          }
        },
        {
          "output_type": "display_data",
          "data": {
            "text/html": [
              "\n",
              "    <div id=\"root\"></div>\n",
              "    <script>\n",
              "      (function() {\n",
              "        window.TENSORBOARD_ENV = window.TENSORBOARD_ENV || {};\n",
              "        window.TENSORBOARD_ENV[\"IN_COLAB\"] = true;\n",
              "        document.querySelector(\"base\").href = \"https://localhost:6006\";\n",
              "        function fixUpTensorboard(root) {\n",
              "          const tftb = root.querySelector(\"tf-tensorboard\");\n",
              "          // Disable the fragment manipulation behavior in Colab. Not\n",
              "          // only is the behavior not useful (as the iframe's location\n",
              "          // is not visible to the user), it causes TensorBoard's usage\n",
              "          // of `window.replace` to navigate away from the page and to\n",
              "          // the `localhost:<port>` URL specified by the base URI, which\n",
              "          // in turn causes the frame to (likely) crash.\n",
              "          tftb.removeAttribute(\"use-hash\");\n",
              "        }\n",
              "        function executeAllScripts(root) {\n",
              "          // When `script` elements are inserted into the DOM by\n",
              "          // assigning to an element's `innerHTML`, the scripts are not\n",
              "          // executed. Thus, we manually re-insert these scripts so that\n",
              "          // TensorBoard can initialize itself.\n",
              "          for (const script of root.querySelectorAll(\"script\")) {\n",
              "            const newScript = document.createElement(\"script\");\n",
              "            newScript.type = script.type;\n",
              "            newScript.textContent = script.textContent;\n",
              "            root.appendChild(newScript);\n",
              "            script.remove();\n",
              "          }\n",
              "        }\n",
              "        function setHeight(root, height) {\n",
              "          // We set the height dynamically after the TensorBoard UI has\n",
              "          // been initialized. This avoids an intermediate state in\n",
              "          // which the container plus the UI become taller than the\n",
              "          // final width and cause the Colab output frame to be\n",
              "          // permanently resized, eventually leading to an empty\n",
              "          // vertical gap below the TensorBoard UI. It's not clear\n",
              "          // exactly what causes this problematic intermediate state,\n",
              "          // but setting the height late seems to fix it.\n",
              "          root.style.height = `${height}px`;\n",
              "        }\n",
              "        const root = document.getElementById(\"root\");\n",
              "        fetch(\".\")\n",
              "          .then((x) => x.text())\n",
              "          .then((html) => void (root.innerHTML = html))\n",
              "          .then(() => fixUpTensorboard(root))\n",
              "          .then(() => executeAllScripts(root))\n",
              "          .then(() => setHeight(root, 800));\n",
              "      })();\n",
              "    </script>\n",
              "  "
            ],
            "text/plain": [
              "<IPython.core.display.HTML object>"
            ]
          },
          "metadata": {
            "tags": []
          }
        }
      ]
    },
    {
      "cell_type": "code",
      "metadata": {
        "id": "sQpdnaaKD3oG",
        "colab_type": "code",
        "colab": {}
      },
      "source": [
        "def anomaly_detection(test_img: np.asarray, g: Model, d: Model, iteration: int=200) -> Tuple[np.asarray, np.asarray, np.asarray, np.asarray,]:\n",
        "    \"\"\"\n",
        "     Function to calculate anomaly score\n",
        "    \n",
        "     Parameters\n",
        "     ----------\n",
        "     test_img: np.asarray\n",
        "         Image for verification\n",
        "     g: Model\n",
        "         Model for calculating anomaly scores\n",
        "     d: Model\n",
        "         Identification model\n",
        "     iterations: int\n",
        "         Set iteration\n",
        "\n",
        "     Returns\n",
        "     -------\n",
        "     ano_score: np.asarray\n",
        "         Abnormal score\n",
        "     original_x: np.asarray\n",
        "        Verification image adjusted to 0-255 pixel area\n",
        "     similiar_x: np.asarray\n",
        "        An image generated from a model that calculates the anomaly score\n",
        "     show:\n",
        "        Difference between verification image and generated image\n",
        "    \"\"\"\n",
        "    # Model to calculate anmalies score\n",
        "    model = anomaly_detector(g=g, d=d)\n",
        "    # image shape\n",
        "    test_img_shape = test_img.shape\n",
        "    #  Estimate abnormal scores and similar images from test images\n",
        "    ano_score, similar_img = compute_anomaly_score(model, test_img.reshape(1, test_img_shape[0], test_img_shape[1], test_img_shape[2]), iterations=iteration, d=d)\n",
        "    \n",
        "    # Derivation of difference between real image and similar image\n",
        "    np_residual = test_img.reshape(test_img_shape[0], test_img_shape[1], test_img_shape[2]) - similar_img.reshape(test_img_shape[0], test_img_shape[1], test_img_shape[2])\n",
        "    np_residual = (np_residual + 2) / 4 ###\n",
        "    \n",
        "    # Convert to uint8 and multiply by 255. Set to 0-255 pixel area\n",
        "    np_residual = (255 * np_residual).astype(np.uint8)\n",
        "    # Set the original image and similar image to 0-255 pixel area as well\n",
        "    original_x = (test_img.reshape(test_img_shape[0], test_img_shape[1], test_img_shape[2]) * DataParm.image_size_127_5.value + DataParm.image_size_127_5.value).astype(np.uint8)\n",
        "    similiar_x = (similar_img.reshape(test_img_shape[0], test_img_shape[1], test_img_shape[2]) * DataParm.image_size_127_5.value + DataParm.image_size_127_5.value).astype(np.uint8)\n",
        "    \n",
        "    # Convert to GRAY color image\n",
        "    original_x_color = cv2.cvtColor(original_x, cv2.COLOR_GRAY2BGR)\n",
        "    residual_color = cv2.applyColorMap(np_residual, cv2.COLORMAP_JET)\n",
        "    show = cv2.addWeighted(original_x_color, 0.3, residual_color, 0.7, 0.)\n",
        "    \n",
        "    return ano_score, original_x, similiar_x, show"
      ],
      "execution_count": 0,
      "outputs": []
    },
    {
      "cell_type": "markdown",
      "metadata": {
        "id": "GYBPsBPhEoHF",
        "colab_type": "text"
      },
      "source": [
        "Prepare 7 images as abnormal images"
      ]
    },
    {
      "cell_type": "code",
      "metadata": {
        "id": "KVkjY4ubEpBx",
        "colab_type": "code",
        "colab": {
          "base_uri": "https://localhost:8080/",
          "height": 34
        },
        "outputId": "55ad4625-ee37-497e-966f-584857580366"
      },
      "source": [
        "img_index = 14\n",
        "label_index = 7\n",
        "test_image = X_test_original[Y_test==label_index][img_index]\n",
        "print(len(test_image))"
      ],
      "execution_count": 25,
      "outputs": [
        {
          "output_type": "stream",
          "text": [
            "28\n"
          ],
          "name": "stdout"
        }
      ]
    },
    {
      "cell_type": "markdown",
      "metadata": {
        "id": "eK3KhHa4E6p_",
        "colab_type": "text"
      },
      "source": [
        "Get trained generation and identification models"
      ]
    },
    {
      "cell_type": "code",
      "metadata": {
        "id": "OX3lIsgtE-dk",
        "colab_type": "code",
        "colab": {}
      },
      "source": [
        "g, d  = load_models(common_path=DataParm.common_path.value)"
      ],
      "execution_count": 0,
      "outputs": []
    },
    {
      "cell_type": "markdown",
      "metadata": {
        "id": "N9yFdM0LFE1v",
        "colab_type": "text"
      },
      "source": [
        "Derivation of abnormal scores, verification images, prediction images, and difference images"
      ]
    },
    {
      "cell_type": "code",
      "metadata": {
        "id": "2PnGaExyFFXy",
        "colab_type": "code",
        "outputId": "f4f36aa1-65e9-4ddc-8feb-fdcc4eb555fe",
        "colab": {
          "base_uri": "https://localhost:8080/",
          "height": 50
        }
      },
      "source": [
        "%%time\n",
        "start = cv2.getTickCount()\n",
        "score_ano, query, pred, diff = anomaly_detection(test_image, g=g, d=d, iteration=200)\n",
        "time = (cv2.getTickCount() - start) / cv2.getTickFrequency() * 100\n",
        "#print ('%d label, %d : done'%(label_index, img_index), '%.2f' %score, '%.2fms' %time)"
      ],
      "execution_count": 27,
      "outputs": [
        {
          "output_type": "stream",
          "text": [
            "CPU times: user 17.8 s, sys: 331 ms, total: 18.1 s\n",
            "Wall time: 17.9 s\n"
          ],
          "name": "stdout"
        }
      ]
    },
    {
      "cell_type": "markdown",
      "metadata": {
        "id": "v5DYGRhqFMOl",
        "colab_type": "text"
      },
      "source": [
        "Since the image of 7 is not learned, the difference between the generated 1 and the image is displayed"
      ]
    },
    {
      "cell_type": "code",
      "metadata": {
        "id": "NhjiXeniFM3a",
        "colab_type": "code",
        "outputId": "ef7e44c0-61c8-4ae4-bacf-96bfda0586d8",
        "colab": {
          "base_uri": "https://localhost:8080/",
          "height": 664
        }
      },
      "source": [
        "plt.figure(1, figsize=(3, 3))\n",
        "plt.title('query image')\n",
        "plt.imshow(query.reshape(28,28), cmap=plt.cm.gray)\n",
        "\n",
        "print(\"anomaly score : \", score_ano)\n",
        "plt.figure(2, figsize=(3, 3))\n",
        "plt.title('generated similar image')\n",
        "plt.imshow(pred.reshape(28,28), cmap=plt.cm.gray)\n",
        "\n",
        "plt.figure(3, figsize=(3, 3))\n",
        "plt.title('anomaly detection')\n",
        "plt.imshow(cv2.cvtColor(diff,cv2.COLOR_BGR2RGB))\n",
        "plt.show()"
      ],
      "execution_count": 28,
      "outputs": [
        {
          "output_type": "stream",
          "text": [
            "anomaly score :  1308.154296875\n"
          ],
          "name": "stdout"
        },
        {
          "output_type": "display_data",
          "data": {
            "image/png": "[encoded data removed]",
            "text/plain": [
              "<Figure size 216x216 with 1 Axes>"
            ]
          },
          "metadata": {
            "tags": []
          }
        },
        {
          "output_type": "display_data",
          "data": {
            "image/png": "[encoded data removed]",
            "text/plain": [
              "<Figure size 216x216 with 1 Axes>"
            ]
          },
          "metadata": {
            "tags": []
          }
        },
        {
          "output_type": "display_data",
          "data": {
            "image/png": "[encoded data removed]",
            "text/plain": [
              "<Figure size 216x216 with 1 Axes>"
            ]
          },
          "metadata": {
            "tags": []
          }
        }
      ]
    },
    {
      "cell_type": "markdown",
      "metadata": {
        "id": "x_VhLAvQFUHo",
        "colab_type": "text"
      },
      "source": [
        "Try to observe the feature space of the noise image, image 1 and other images"
      ]
    },
    {
      "cell_type": "code",
      "metadata": {
        "id": "0xVgSoltFU0Z",
        "colab_type": "code",
        "outputId": "452eaa8c-44f4-49dd-8749-5893a3345321",
        "colab": {
          "base_uri": "https://localhost:8080/",
          "height": 206
        }
      },
      "source": [
        "# Create 100 28x28x1 images\n",
        "random_image = np.random.uniform(0, 1, (100, 28, 28, 1))\n",
        "print(\"random noise image\")\n",
        "plt.figure(4, figsize=(2, 2))\n",
        "plt.title('random noise image')\n",
        "plt.imshow(random_image[0].reshape(28,28), cmap=plt.cm.gray)"
      ],
      "execution_count": 29,
      "outputs": [
        {
          "output_type": "stream",
          "text": [
            "random noise image\n"
          ],
          "name": "stdout"
        },
        {
          "output_type": "execute_result",
          "data": {
            "text/plain": [
              "<matplotlib.image.AxesImage at 0x7fecdb99e7b8>"
            ]
          },
          "metadata": {
            "tags": []
          },
          "execution_count": 29
        },
        {
          "output_type": "display_data",
          "data": {
            "image/png": "[encoded data removed]",
            "text/plain": [
              "<Figure size 144x144 with 1 Axes>"
            ]
          },
          "metadata": {
            "tags": []
          }
        }
      ]
    },
    {
      "cell_type": "markdown",
      "metadata": {
        "id": "A7xN7cKgFite",
        "colab_type": "text"
      },
      "source": [
        "Extract features to visualize and check the image."
      ]
    },
    {
      "cell_type": "code",
      "metadata": {
        "id": "X8K37JorFjVv",
        "colab_type": "code",
        "outputId": "3c0240dd-798d-446c-86c9-5c4ac03b0a97",
        "colab": {
          "base_uri": "https://localhost:8080/",
          "height": 470
        }
      },
      "source": [
        "model = feature_extractor()\n",
        "# Feature extraction from random images\n",
        "feature_map_of_random = model.predict(random_image, verbose=1)\n",
        "# Extract features of images whose labels are not 1\n",
        "feature_map_mnist = model.predict(X_test_original[Y_test != 1][:300], verbose=1)\n",
        "# Extract features of image with label 1\n",
        "feature_map_mnist_1 = model.predict(X_test[:100], verbose=1)"
      ],
      "execution_count": 30,
      "outputs": [
        {
          "output_type": "stream",
          "text": [
            "Model: \"model_13\"\n",
            "_________________________________________________________________\n",
            "Layer (type)                 Output Shape              Param #   \n",
            "=================================================================\n",
            "input_12 (InputLayer)        (None, 28, 28, 1)         0         \n",
            "_________________________________________________________________\n",
            "conv2d_203 (Conv2D)          (None, 14, 14, 64)        1664      \n",
            "_________________________________________________________________\n",
            "leaky_re_lu_12 (LeakyReLU)   (None, 14, 14, 64)        0         \n",
            "_________________________________________________________________\n",
            "conv2d_204 (Conv2D)          (None, 7, 7, 128)         204928    \n",
            "_________________________________________________________________\n",
            "leaky_re_lu_13 (LeakyReLU)   (None, 7, 7, 128)         0         \n",
            "_________________________________________________________________\n",
            "flatten_5 (Flatten)          (None, 6272)              0         \n",
            "_________________________________________________________________\n",
            "dense_9 (Dense)              (None, 1)                 6273      \n",
            "_________________________________________________________________\n",
            "activation_200 (Activation)  (None, 1)                 0         \n",
            "=================================================================\n",
            "Total params: 212,865\n",
            "Trainable params: 212,865\n",
            "Non-trainable params: 0\n",
            "_________________________________________________________________\n",
            "100/100 [==============================] - 7s 67ms/step\n",
            "300/300 [==============================] - 0s 164us/step\n",
            "100/100 [==============================] - 0s 183us/step\n"
          ],
          "name": "stdout"
        }
      ]
    },
    {
      "cell_type": "markdown",
      "metadata": {
        "id": "Uwap3sNAF5V6",
        "colab_type": "text"
      },
      "source": [
        "Aggregate features into one piece of data."
      ]
    },
    {
      "cell_type": "code",
      "metadata": {
        "id": "nt65ChkqF25s",
        "colab_type": "code",
        "colab": {}
      },
      "source": [
        "# Combine each feature space output earlier\n",
        "output = np.concatenate((feature_map_of_random, feature_map_mnist, feature_map_mnist_1))\n",
        "# Keep only the first dimension, the other dimensions are synthesized\n",
        "output = output.reshape(output.shape[0], -1)"
      ],
      "execution_count": 0,
      "outputs": []
    },
    {
      "cell_type": "markdown",
      "metadata": {
        "id": "2z4OtgvxGU1a",
        "colab_type": "text"
      },
      "source": [
        "Visualize features in a two-dimensional space"
      ]
    },
    {
      "cell_type": "code",
      "metadata": {
        "id": "6YwY_GSOGVYb",
        "colab_type": "code",
        "outputId": "f14fddf1-3ed2-495a-913f-99b206e645d5",
        "colab": {
          "base_uri": "https://localhost:8080/",
          "height": 281
        }
      },
      "source": [
        "# Compressed in 2 dimensions so that feature space can be visualized\n",
        "X_embedded = TSNE(n_components = 2).fit_transform(output)\n",
        "plt.figure(5)\n",
        "plt.title(\"T-SNE embedding on the feature representation\")\n",
        "plt.scatter(X_embedded[:100, 0], X_embedded[:100, 1], label='random noise(anomaly)')\n",
        "plt.scatter(X_embedded[100:400, 0], X_embedded[100:400, 1], label='mnist(anomaly)')\n",
        "plt.scatter(X_embedded[400:, 0], X_embedded[400:, 1], label='mnist(normal)')\n",
        "plt.legend()\n",
        "plt.show()"
      ],
      "execution_count": 32,
      "outputs": [
        {
          "output_type": "display_data",
          "data": {
            "image/png": "[encoded data removed]",
            "text/plain": [
              "<Figure size 432x288 with 1 Axes>"
            ]
          },
          "metadata": {
            "tags": []
          }
        }
      ]
    },
    {
      "cell_type": "markdown",
      "metadata": {
        "id": "vQYKJSNRN9nj",
        "colab_type": "text"
      },
      "source": [
        "# Change anomaly score calculation\n",
        "\n",
        "Generate noise by inputting noise into a model with adjusted noise\n",
        "\n",
        "-Change noise generation to multiple\n",
        "-Learn Generator"
      ]
    },
    {
      "cell_type": "code",
      "metadata": {
        "id": "x9LcdVreNQ3Y",
        "colab_type": "code",
        "outputId": "80a0be64-1a88-4f50-e95a-7d62f338339c",
        "colab": {
          "base_uri": "https://localhost:8080/",
          "height": 67
        }
      },
      "source": [
        "%%time\n",
        "def anomaly_detector_second(g: Model, d: Model, in_shape: tuple=(10,), loss_weights: list=[0.9, 0.1]) -> Model:\n",
        "    \"\"\"\n",
        "     Create a model that generates anomaly scores and images by adjusting the noise generation layer and the generation model\n",
        "    \n",
        "     Parameters\n",
        "     ----------\n",
        "     g: Model\n",
        "         Generation model\n",
        "     d: Model\n",
        "         Identification model\n",
        "     in_shape: tuple\n",
        "         Noise input size\n",
        "     loss_weights: list\n",
        "         Set importance of loss\n",
        "\n",
        "     Returns\n",
        "     -------\n",
        "     model: Model\n",
        "         Model that generates anomaly scores and images\n",
        "    \"\"\"\n",
        "    # Create feature extraction model from Discriminator\n",
        "    intermidiate_model = feature_extractor(d)\n",
        "    # Do not learn feature extraction model\n",
        "    feature_extractor.trainable = False\n",
        "    # Create Generator\n",
        "    g = Model(inputs=g.layers[1].input, outputs=g.layers[-1].output)\n",
        "    # Generator learns\n",
        "    g.trainable = True\n",
        "    # Layer for learning Noize\n",
        "    aInput = Input(shape=in_shape)\n",
        "    gInput = Dense(in_shape[0], trainable=True)(aInput)\n",
        "    gInput = Activation(AnomalyDetectorParam.activation_sigmoid.value)(gInput)\n",
        "    \n",
        "    # Generate image with noise input\n",
        "    G_out = g(gInput)\n",
        "    # Extract feature from image\n",
        "    D_out = intermidiate_model(G_out)\n",
        "    # Create a model that outputs images and features\n",
        "    model = Model(inputs=aInput, outputs=[G_out, D_out])\n",
        "    model.compile(loss=sum_of_residual, loss_weights=loss_weights, optimizer=AnomalyDetectorParam.optimizer_rmsprop.value)\n",
        "    \n",
        "    # Fix BatchNorm to avoid learning\n",
        "    K.set_learning_phase(0)\n",
        "    \n",
        "    return model\n",
        "\n",
        "  \n",
        "def compute_anomaly_score_second(model: Model, x: np.array, iterations: int=5, z_num: int=5, d: Model=None, g: Model=None, noize_shape: tuple=(1, 10)) -> Tuple[np.asarray, np.asarray,]:\n",
        "    \"\"\"\n",
        "     Function to calculate anomaly score\n",
        "    \n",
        "    Parameters\n",
        "    ----------\n",
        "    model: Model\n",
        "        Model for calculating anomaly scores\n",
        "    x: np.array\n",
        "        Image for verification\n",
        "    iterations: int\n",
        "        Set iteration\n",
        "    z_num: int\n",
        "        Set the number of times to generate noise\n",
        "    d: Model\n",
        "        Identification model\n",
        "    g: Model\n",
        "        Generation model\n",
        "    noize_shape: tuple\n",
        "        Set noise dimension\n",
        "\n",
        "    Returns\n",
        "    -------\n",
        "    loss: np.asarray\n",
        "        Abnormal score\n",
        "    similar_data: np.asarray\n",
        "        Generate noise by inputting noise into a model with adjusted noise\n",
        "    \"\"\"\n",
        "    loss_list = []\n",
        "    similar_data_list = []\n",
        "    # Keep Generator as an untrained initial state\n",
        "    initial_g = copy.deepcopy(g)\n",
        "    \n",
        "    # Generate multiple noises and average\n",
        "    for i in range(z_num):\n",
        "        z = np.random.uniform(0, 1, size=noize_shape)\n",
        "        # Create feature extraction model\n",
        "        intermidiate_model = feature_extractor(d)\n",
        "        # Extract features of real image\n",
        "        d_x = intermidiate_model.predict(x)\n",
        "        # Using noise as an input, learn noise using real images and feature values ​​of real images as targets\n",
        "        loss = model.fit(z, [x, d_x], batch_size=1, epochs=iterations, verbose=0)\n",
        "        # Create image from noise\n",
        "        similar_data, _ = model.predict(z)\n",
        "        # Derive anomaly score\n",
        "        loss = loss.history['loss'][-1]\n",
        "        loss_list.append(loss)\n",
        "        similar_data_list.append(similar_data)\n",
        "        # Re-set Generator to something you haven't learned\n",
        "        model = anomaly_detector_second(g=initial_g, d=d)\n",
        "      \n",
        "    average_loss = np.average(loss_list)\n",
        "    average_similar_data = np.average(similar_data_list, axis=0)\n",
        "    \n",
        "    return average_loss, average_similar_data\n",
        "  \n",
        "  \n",
        "def anomaly_detection_second(test_img, g=None, d=None, iterations: int=5) -> Tuple[np.asarray, np.asarray, np.asarray, np.asarray,]:\n",
        "    \"\"\"\n",
        "   Function to calculate anomaly score (Adjusting the Gnerator, adjusting the part that generates noise multiple times)\n",
        "    \n",
        "    Parameters\n",
        "    ----------\n",
        "    test_img: np.asarray\n",
        "        Image for verification\n",
        "    g: Model\n",
        "        Model for calculating anomaly scores\n",
        "    d: Model\n",
        "        Identification model\n",
        "    iterations: int\n",
        "        Set iteration\n",
        "\n",
        "    Returns\n",
        "    -------\n",
        "    ano_score: np.asarray\n",
        "        Abnormal score\n",
        "    original_x: np.asarray\n",
        "       Verification image adjusted to 0-255 pixel area\n",
        "    similiar_x: np.asarray\n",
        "       An image generated from a model that calculates the anomaly score\n",
        "    show:\n",
        "       Difference between verification image and generated image\n",
        "    \"\"\"\n",
        "    # Model to calculate anomaly score\n",
        "    model = anomaly_detector_second(g=g, d=d)\n",
        "    # Estimate abnormal scores and similar \n",
        "    test_img_shape = test_img.shape\n",
        "    # Derivation of difference between real image and similar image\n",
        "    ano_score, similar_img = compute_anomaly_score_second(model, test_img.reshape(1, test_img_shape[0], test_img_shape[1], test_img_shape[2]), iterations=iterations, d=d, g=g)\n",
        "    \n",
        "    # Derivation of difference between real image and similar image\n",
        "    np_residual = test_img.reshape(test_img_shape[0], test_img_shape[1], test_img_shape[2]) - similar_img.reshape(test_img_shape[0], test_img_shape[1], test_img_shape[2])\n",
        "    np_residual = (np_residual + 2) / 4\n",
        "    \n",
        "    # Convert to uint8 and multiply by 255. Set to 0-255 pixel area\n",
        "    np_residual = (255 * np_residual).astype(np.uint8)\n",
        "    # et the original image and similar image to 0-255 pixel area as well\n",
        "    original_x = (test_img.reshape(test_img_shape[0], test_img_shape[1], test_img_shape[2]) * DataParm.image_size_127_5.value + DataParm.image_size_127_5.value).astype(np.uint8)\n",
        "    similiar_x = (similar_img.reshape(test_img_shape[0], test_img_shape[1], test_img_shape[2]) * DataParm.image_size_127_5.value + DataParm.image_size_127_5.value).astype(np.uint8)\n",
        "    \n",
        "    # convert to GRAY color image\n",
        "    original_x_color = cv2.cvtColor(original_x, cv2.COLOR_GRAY2BGR)\n",
        "    residual_color = cv2.applyColorMap(np_residual, cv2.COLORMAP_JET)\n",
        "    show = cv2.addWeighted(original_x_color, 0.3, residual_color, 0.7, 0.)\n",
        "    \n",
        "    return ano_score, original_x, similiar_x, show\n",
        "  \n",
        "  \n",
        "g, d  = load_models()\n",
        "start = cv2.getTickCount()\n",
        "score, query, pred, diff = anomaly_detection_second(test_image, g=g, d=d, iterations=4,)\n",
        "time = (cv2.getTickCount() - start) / cv2.getTickFrequency() * 100\n",
        "print ('%d label, %d : done'%(label_index, img_index), '%.2f' %score, '%.2fms' %time)"
      ],
      "execution_count": 33,
      "outputs": [
        {
          "output_type": "stream",
          "text": [
            "7 label, 14 : done 1167.55 13502.53ms\n",
            "CPU times: user 2min 47s, sys: 2.11 s, total: 2min 49s\n",
            "Wall time: 2min 49s\n"
          ],
          "name": "stdout"
        }
      ]
    },
    {
      "cell_type": "code",
      "metadata": {
        "id": "dxDabfDZN_om",
        "colab_type": "code",
        "outputId": "be6ab212-946b-419e-cc3c-74d08a32030c",
        "colab": {
          "base_uri": "https://localhost:8080/",
          "height": 664
        }
      },
      "source": [
        "plt.figure(1, figsize=(3, 3))\n",
        "plt.title('query image')\n",
        "plt.imshow(query.reshape(28,28), cmap=plt.cm.gray)\n",
        "\n",
        "print(\"anomaly score : \", score)\n",
        "plt.figure(2, figsize=(3, 3))\n",
        "plt.title('generated similar image')\n",
        "plt.imshow(pred.reshape(28,28), cmap=plt.cm.gray)\n",
        "\n",
        "plt.figure(3, figsize=(3, 3))\n",
        "plt.title('anomaly detection')\n",
        "plt.imshow(cv2.cvtColor(diff,cv2.COLOR_BGR2RGB))\n",
        "plt.show()"
      ],
      "execution_count": 34,
      "outputs": [
        {
          "output_type": "stream",
          "text": [
            "anomaly score :  1167.549755859375\n"
          ],
          "name": "stdout"
        },
        {
          "output_type": "display_data",
          "data": {
            "image/png": "[encoded data removed]",
            "text/plain": [
              "<Figure size 216x216 with 1 Axes>"
            ]
          },
          "metadata": {
            "tags": []
          }
        },
        {
          "output_type": "display_data",
          "data": {
            "image/png": "[encoded data removed]",
            "text/plain": [
              "<Figure size 216x216 with 1 Axes>"
            ]
          },
          "metadata": {
            "tags": []
          }
        },
        {
          "output_type": "display_data",
          "data": {
            "image/png": "[encoded data removed]",
            "text/plain": [
              "<Figure size 216x216 with 1 Axes>"
            ]
          },
          "metadata": {
            "tags": []
          }
        }
      ]
    },
    {
      "cell_type": "code",
      "metadata": {
        "id": "L6h69fYnYodc",
        "colab_type": "code",
        "colab": {
          "base_uri": "https://localhost:8080/",
          "height": 408
        },
        "outputId": "93357583-36d4-46da-e7fc-fce6cf14b45c"
      },
      "source": [
        "## ROC \n",
        "\n",
        "%%time\n",
        "from sklearn.metrics import roc_curve, auc\n",
        "\n",
        "label_index = 1\n",
        "test_image_set = X_test_original[Y_test==label_index]\n",
        "test_other_image_set = X_test_original[Y_test !=label_index]\n",
        "\n",
        "noise = np.random.normal(0, 1, size=(1, 10))\n",
        "anomaly_score_list = []\n",
        "y_true_list = []\n",
        "\n",
        "# Calculate anomaly scores for all datasets with label 1 and list\n",
        "for each_test_image in test_image_set:\n",
        "    score, query, pred, diff = anomaly_detection(each_test_image,g=g, d=d)\n",
        "    anomaly_score_list.append(score)\n",
        "    y_true_list.append(0)\n",
        "\n",
        "# Calculate anomaly scores for all datasets other than label 1 and list\n",
        "for each_test_image in test_other_image_set:\n",
        "    score, query, pred, diff = anomaly_detection(each_test_image, g=g, d=d)\n",
        "    anomaly_score_list.append(score)\n",
        "    y_true_list.append(1)\n",
        "    \n",
        "# # Derivation of False Positive Rate and True Positive Rate\n",
        "fpr, tpr, threshold = roc_curve(y_true_list, anomaly_score_list)\n",
        "# Calculate AUC value\n",
        "roc_auc = auc(fpr, tpr)"
      ],
      "execution_count": 35,
      "outputs": [
        {
          "output_type": "error",
          "ename": "KeyboardInterrupt",
          "evalue": "ignored",
          "traceback": [
            "\u001b[0;31m---------------------------------------------------------------------------\u001b[0m",
            "\u001b[0;31mKeyboardInterrupt\u001b[0m                         Traceback (most recent call last)",
            "\u001b[0;32m<ipython-input-35-021ec75e364b>\u001b[0m in \u001b[0;36m<module>\u001b[0;34m()\u001b[0m\n\u001b[1;32m      1\u001b[0m \u001b[0;34m\u001b[0m\u001b[0m\n\u001b[0;32m----> 2\u001b[0;31m \u001b[0mget_ipython\u001b[0m\u001b[0;34m(\u001b[0m\u001b[0;34m)\u001b[0m\u001b[0;34m.\u001b[0m\u001b[0mrun_cell_magic\u001b[0m\u001b[0;34m(\u001b[0m\u001b[0;34m'time'\u001b[0m\u001b[0;34m,\u001b[0m \u001b[0;34m''\u001b[0m\u001b[0;34m,\u001b[0m \u001b[0;34m'from sklearn.metrics import roc_curve, auc\\n\\nlabel_index = 1\\ntest_image_set = X_test_original[Y_test==label_index]\\ntest_other_image_set = X_test_original[Y_test !=label_index]\\n\\nnoise = np.random.normal(0, 1, size=(1, 10))\\nanomaly_score_list = []\\ny_true_list = []\\n\\n# Calculate anomaly scores for all datasets with label 1 and list\\nfor each_test_image in test_image_set:\\n    score, query, pred, diff = anomaly_detection(each_test_image,g=g, d=d)\\n    anomaly_score_list.append(score)\\n    y_true_list.append(0)\\n\\n# Calculate anomaly scores for all datasets other than label 1 and list\\nfor each_test_image in test_other_image_set:\\n    score, query, pred, diff = anomaly_detection(each_test_image, g=g, d=d)\\n    anomaly_score_list.append(score)\\n    y_true_list.append(1)\\n    \\n# # Derivation of False Positive Rate and True Positive Rate\\nfpr, tpr, threshold = roc_curve(y_true_list, anomaly_score_list)\\n# Calculate AUC value\\nroc_auc = auc(fpr, tpr)'\u001b[0m\u001b[0;34m)\u001b[0m\u001b[0;34m\u001b[0m\u001b[0;34m\u001b[0m\u001b[0m\n\u001b[0m",
            "\u001b[0;32m/usr/local/lib/python3.6/dist-packages/IPython/core/interactiveshell.py\u001b[0m in \u001b[0;36mrun_cell_magic\u001b[0;34m(self, magic_name, line, cell)\u001b[0m\n\u001b[1;32m   2115\u001b[0m             \u001b[0mmagic_arg_s\u001b[0m \u001b[0;34m=\u001b[0m \u001b[0mself\u001b[0m\u001b[0;34m.\u001b[0m\u001b[0mvar_expand\u001b[0m\u001b[0;34m(\u001b[0m\u001b[0mline\u001b[0m\u001b[0;34m,\u001b[0m \u001b[0mstack_depth\u001b[0m\u001b[0;34m)\u001b[0m\u001b[0;34m\u001b[0m\u001b[0;34m\u001b[0m\u001b[0m\n\u001b[1;32m   2116\u001b[0m             \u001b[0;32mwith\u001b[0m \u001b[0mself\u001b[0m\u001b[0;34m.\u001b[0m\u001b[0mbuiltin_trap\u001b[0m\u001b[0;34m:\u001b[0m\u001b[0;34m\u001b[0m\u001b[0;34m\u001b[0m\u001b[0m\n\u001b[0;32m-> 2117\u001b[0;31m                 \u001b[0mresult\u001b[0m \u001b[0;34m=\u001b[0m \u001b[0mfn\u001b[0m\u001b[0;34m(\u001b[0m\u001b[0mmagic_arg_s\u001b[0m\u001b[0;34m,\u001b[0m \u001b[0mcell\u001b[0m\u001b[0;34m)\u001b[0m\u001b[0;34m\u001b[0m\u001b[0;34m\u001b[0m\u001b[0m\n\u001b[0m\u001b[1;32m   2118\u001b[0m             \u001b[0;32mreturn\u001b[0m \u001b[0mresult\u001b[0m\u001b[0;34m\u001b[0m\u001b[0;34m\u001b[0m\u001b[0m\n\u001b[1;32m   2119\u001b[0m \u001b[0;34m\u001b[0m\u001b[0m\n",
            "\u001b[0;32m</usr/local/lib/python3.6/dist-packages/decorator.py:decorator-gen-60>\u001b[0m in \u001b[0;36mtime\u001b[0;34m(self, line, cell, local_ns)\u001b[0m\n",
            "\u001b[0;32m/usr/local/lib/python3.6/dist-packages/IPython/core/magic.py\u001b[0m in \u001b[0;36m<lambda>\u001b[0;34m(f, *a, **k)\u001b[0m\n\u001b[1;32m    186\u001b[0m     \u001b[0;31m# but it's overkill for just that one bit of state.\u001b[0m\u001b[0;34m\u001b[0m\u001b[0;34m\u001b[0m\u001b[0;34m\u001b[0m\u001b[0m\n\u001b[1;32m    187\u001b[0m     \u001b[0;32mdef\u001b[0m \u001b[0mmagic_deco\u001b[0m\u001b[0;34m(\u001b[0m\u001b[0marg\u001b[0m\u001b[0;34m)\u001b[0m\u001b[0;34m:\u001b[0m\u001b[0;34m\u001b[0m\u001b[0;34m\u001b[0m\u001b[0m\n\u001b[0;32m--> 188\u001b[0;31m         \u001b[0mcall\u001b[0m \u001b[0;34m=\u001b[0m \u001b[0;32mlambda\u001b[0m \u001b[0mf\u001b[0m\u001b[0;34m,\u001b[0m \u001b[0;34m*\u001b[0m\u001b[0ma\u001b[0m\u001b[0;34m,\u001b[0m \u001b[0;34m**\u001b[0m\u001b[0mk\u001b[0m\u001b[0;34m:\u001b[0m \u001b[0mf\u001b[0m\u001b[0;34m(\u001b[0m\u001b[0;34m*\u001b[0m\u001b[0ma\u001b[0m\u001b[0;34m,\u001b[0m \u001b[0;34m**\u001b[0m\u001b[0mk\u001b[0m\u001b[0;34m)\u001b[0m\u001b[0;34m\u001b[0m\u001b[0;34m\u001b[0m\u001b[0m\n\u001b[0m\u001b[1;32m    189\u001b[0m \u001b[0;34m\u001b[0m\u001b[0m\n\u001b[1;32m    190\u001b[0m         \u001b[0;32mif\u001b[0m \u001b[0mcallable\u001b[0m\u001b[0;34m(\u001b[0m\u001b[0marg\u001b[0m\u001b[0;34m)\u001b[0m\u001b[0;34m:\u001b[0m\u001b[0;34m\u001b[0m\u001b[0;34m\u001b[0m\u001b[0m\n",
            "\u001b[0;32m/usr/local/lib/python3.6/dist-packages/IPython/core/magics/execution.py\u001b[0m in \u001b[0;36mtime\u001b[0;34m(self, line, cell, local_ns)\u001b[0m\n\u001b[1;32m   1191\u001b[0m         \u001b[0;32melse\u001b[0m\u001b[0;34m:\u001b[0m\u001b[0;34m\u001b[0m\u001b[0;34m\u001b[0m\u001b[0m\n\u001b[1;32m   1192\u001b[0m             \u001b[0mst\u001b[0m \u001b[0;34m=\u001b[0m \u001b[0mclock2\u001b[0m\u001b[0;34m(\u001b[0m\u001b[0;34m)\u001b[0m\u001b[0;34m\u001b[0m\u001b[0;34m\u001b[0m\u001b[0m\n\u001b[0;32m-> 1193\u001b[0;31m             \u001b[0mexec\u001b[0m\u001b[0;34m(\u001b[0m\u001b[0mcode\u001b[0m\u001b[0;34m,\u001b[0m \u001b[0mglob\u001b[0m\u001b[0;34m,\u001b[0m \u001b[0mlocal_ns\u001b[0m\u001b[0;34m)\u001b[0m\u001b[0;34m\u001b[0m\u001b[0;34m\u001b[0m\u001b[0m\n\u001b[0m\u001b[1;32m   1194\u001b[0m             \u001b[0mend\u001b[0m \u001b[0;34m=\u001b[0m \u001b[0mclock2\u001b[0m\u001b[0;34m(\u001b[0m\u001b[0;34m)\u001b[0m\u001b[0;34m\u001b[0m\u001b[0;34m\u001b[0m\u001b[0m\n\u001b[1;32m   1195\u001b[0m             \u001b[0mout\u001b[0m \u001b[0;34m=\u001b[0m \u001b[0;32mNone\u001b[0m\u001b[0;34m\u001b[0m\u001b[0;34m\u001b[0m\u001b[0m\n",
            "\u001b[0;32m<timed exec>\u001b[0m in \u001b[0;36m<module>\u001b[0;34m()\u001b[0m\n",
            "\u001b[0;32m<ipython-input-24-6a7970eef8d7>\u001b[0m in \u001b[0;36manomaly_detection\u001b[0;34m(test_img, g, d, iteration)\u001b[0m\n\u001b[1;32m     30\u001b[0m     \u001b[0mtest_img_shape\u001b[0m \u001b[0;34m=\u001b[0m \u001b[0mtest_img\u001b[0m\u001b[0;34m.\u001b[0m\u001b[0mshape\u001b[0m\u001b[0;34m\u001b[0m\u001b[0;34m\u001b[0m\u001b[0m\n\u001b[1;32m     31\u001b[0m     \u001b[0;31m#  Estimate abnormal scores and similar images from test images\u001b[0m\u001b[0;34m\u001b[0m\u001b[0;34m\u001b[0m\u001b[0;34m\u001b[0m\u001b[0m\n\u001b[0;32m---> 32\u001b[0;31m     \u001b[0mano_score\u001b[0m\u001b[0;34m,\u001b[0m \u001b[0msimilar_img\u001b[0m \u001b[0;34m=\u001b[0m \u001b[0mcompute_anomaly_score\u001b[0m\u001b[0;34m(\u001b[0m\u001b[0mmodel\u001b[0m\u001b[0;34m,\u001b[0m \u001b[0mtest_img\u001b[0m\u001b[0;34m.\u001b[0m\u001b[0mreshape\u001b[0m\u001b[0;34m(\u001b[0m\u001b[0;36m1\u001b[0m\u001b[0;34m,\u001b[0m \u001b[0mtest_img_shape\u001b[0m\u001b[0;34m[\u001b[0m\u001b[0;36m0\u001b[0m\u001b[0;34m]\u001b[0m\u001b[0;34m,\u001b[0m \u001b[0mtest_img_shape\u001b[0m\u001b[0;34m[\u001b[0m\u001b[0;36m1\u001b[0m\u001b[0;34m]\u001b[0m\u001b[0;34m,\u001b[0m \u001b[0mtest_img_shape\u001b[0m\u001b[0;34m[\u001b[0m\u001b[0;36m2\u001b[0m\u001b[0;34m]\u001b[0m\u001b[0;34m)\u001b[0m\u001b[0;34m,\u001b[0m \u001b[0miterations\u001b[0m\u001b[0;34m=\u001b[0m\u001b[0miteration\u001b[0m\u001b[0;34m,\u001b[0m \u001b[0md\u001b[0m\u001b[0;34m=\u001b[0m\u001b[0md\u001b[0m\u001b[0;34m)\u001b[0m\u001b[0;34m\u001b[0m\u001b[0;34m\u001b[0m\u001b[0m\n\u001b[0m\u001b[1;32m     33\u001b[0m \u001b[0;34m\u001b[0m\u001b[0m\n\u001b[1;32m     34\u001b[0m     \u001b[0;31m# Derivation of difference between real image and similar image\u001b[0m\u001b[0;34m\u001b[0m\u001b[0;34m\u001b[0m\u001b[0;34m\u001b[0m\u001b[0m\n",
            "\u001b[0;32m<ipython-input-20-29d73b757594>\u001b[0m in \u001b[0;36mcompute_anomaly_score\u001b[0;34m(model, x, iterations, d, noize_shape)\u001b[0m\n\u001b[1;32m     26\u001b[0m     \u001b[0mintermidiate_model\u001b[0m \u001b[0;34m=\u001b[0m \u001b[0mfeature_extractor\u001b[0m\u001b[0;34m(\u001b[0m\u001b[0md\u001b[0m\u001b[0;34m)\u001b[0m\u001b[0;34m\u001b[0m\u001b[0;34m\u001b[0m\u001b[0m\n\u001b[1;32m     27\u001b[0m     \u001b[0;31m# Extract features of real image\u001b[0m\u001b[0;34m\u001b[0m\u001b[0;34m\u001b[0m\u001b[0;34m\u001b[0m\u001b[0m\n\u001b[0;32m---> 28\u001b[0;31m     \u001b[0md_x\u001b[0m \u001b[0;34m=\u001b[0m \u001b[0mintermidiate_model\u001b[0m\u001b[0;34m.\u001b[0m\u001b[0mpredict\u001b[0m\u001b[0;34m(\u001b[0m\u001b[0mx\u001b[0m\u001b[0;34m)\u001b[0m\u001b[0;34m\u001b[0m\u001b[0;34m\u001b[0m\u001b[0m\n\u001b[0m\u001b[1;32m     29\u001b[0m     \u001b[0;31m# Using noise as an input, learn noise using real images and feature values of real images as targets\u001b[0m\u001b[0;34m\u001b[0m\u001b[0;34m\u001b[0m\u001b[0;34m\u001b[0m\u001b[0m\n\u001b[1;32m     30\u001b[0m     \u001b[0mloss\u001b[0m \u001b[0;34m=\u001b[0m \u001b[0mmodel\u001b[0m\u001b[0;34m.\u001b[0m\u001b[0mfit\u001b[0m\u001b[0;34m(\u001b[0m\u001b[0mz\u001b[0m\u001b[0;34m,\u001b[0m \u001b[0;34m[\u001b[0m\u001b[0mx\u001b[0m\u001b[0;34m,\u001b[0m \u001b[0md_x\u001b[0m\u001b[0;34m]\u001b[0m\u001b[0;34m,\u001b[0m \u001b[0mbatch_size\u001b[0m\u001b[0;34m=\u001b[0m\u001b[0;36m1\u001b[0m\u001b[0;34m,\u001b[0m \u001b[0mepochs\u001b[0m\u001b[0;34m=\u001b[0m\u001b[0miterations\u001b[0m\u001b[0;34m,\u001b[0m \u001b[0mverbose\u001b[0m\u001b[0;34m=\u001b[0m\u001b[0;36m0\u001b[0m\u001b[0;34m)\u001b[0m\u001b[0;34m\u001b[0m\u001b[0;34m\u001b[0m\u001b[0m\n",
            "\u001b[0;32m/usr/local/lib/python3.6/dist-packages/keras/engine/training.py\u001b[0m in \u001b[0;36mpredict\u001b[0;34m(self, x, batch_size, verbose, steps, callbacks, max_queue_size, workers, use_multiprocessing)\u001b[0m\n\u001b[1;32m   1399\u001b[0m                                             \u001b[0mverbose\u001b[0m\u001b[0;34m=\u001b[0m\u001b[0mverbose\u001b[0m\u001b[0;34m,\u001b[0m\u001b[0;34m\u001b[0m\u001b[0;34m\u001b[0m\u001b[0m\n\u001b[1;32m   1400\u001b[0m                                             \u001b[0msteps\u001b[0m\u001b[0;34m=\u001b[0m\u001b[0msteps\u001b[0m\u001b[0;34m,\u001b[0m\u001b[0;34m\u001b[0m\u001b[0;34m\u001b[0m\u001b[0m\n\u001b[0;32m-> 1401\u001b[0;31m                                             callbacks=callbacks)\n\u001b[0m\u001b[1;32m   1402\u001b[0m \u001b[0;34m\u001b[0m\u001b[0m\n\u001b[1;32m   1403\u001b[0m     def train_on_batch(self, x, y,\n",
            "\u001b[0;32m/usr/local/lib/python3.6/dist-packages/keras/engine/training_arrays.py\u001b[0m in \u001b[0;36mpredict_loop\u001b[0;34m(model, f, ins, batch_size, verbose, steps, callbacks)\u001b[0m\n\u001b[1;32m    330\u001b[0m             \u001b[0mbatch_logs\u001b[0m \u001b[0;34m=\u001b[0m \u001b[0;34m{\u001b[0m\u001b[0;34m'batch'\u001b[0m\u001b[0;34m:\u001b[0m \u001b[0mbatch_index\u001b[0m\u001b[0;34m,\u001b[0m \u001b[0;34m'size'\u001b[0m\u001b[0;34m:\u001b[0m \u001b[0mlen\u001b[0m\u001b[0;34m(\u001b[0m\u001b[0mbatch_ids\u001b[0m\u001b[0;34m)\u001b[0m\u001b[0;34m}\u001b[0m\u001b[0;34m\u001b[0m\u001b[0;34m\u001b[0m\u001b[0m\n\u001b[1;32m    331\u001b[0m             \u001b[0mcallbacks\u001b[0m\u001b[0;34m.\u001b[0m\u001b[0m_call_batch_hook\u001b[0m\u001b[0;34m(\u001b[0m\u001b[0;34m'predict'\u001b[0m\u001b[0;34m,\u001b[0m \u001b[0;34m'begin'\u001b[0m\u001b[0;34m,\u001b[0m \u001b[0mbatch_index\u001b[0m\u001b[0;34m,\u001b[0m \u001b[0mbatch_logs\u001b[0m\u001b[0;34m)\u001b[0m\u001b[0;34m\u001b[0m\u001b[0;34m\u001b[0m\u001b[0m\n\u001b[0;32m--> 332\u001b[0;31m             \u001b[0mbatch_outs\u001b[0m \u001b[0;34m=\u001b[0m \u001b[0mf\u001b[0m\u001b[0;34m(\u001b[0m\u001b[0mins_batch\u001b[0m\u001b[0;34m)\u001b[0m\u001b[0;34m\u001b[0m\u001b[0;34m\u001b[0m\u001b[0m\n\u001b[0m\u001b[1;32m    333\u001b[0m             \u001b[0mbatch_outs\u001b[0m \u001b[0;34m=\u001b[0m \u001b[0mto_list\u001b[0m\u001b[0;34m(\u001b[0m\u001b[0mbatch_outs\u001b[0m\u001b[0;34m)\u001b[0m\u001b[0;34m\u001b[0m\u001b[0;34m\u001b[0m\u001b[0m\n\u001b[1;32m    334\u001b[0m             \u001b[0;32mif\u001b[0m \u001b[0mbatch_index\u001b[0m \u001b[0;34m==\u001b[0m \u001b[0;36m0\u001b[0m\u001b[0;34m:\u001b[0m\u001b[0;34m\u001b[0m\u001b[0;34m\u001b[0m\u001b[0m\n",
            "\u001b[0;32m/usr/local/lib/python3.6/dist-packages/keras/backend/tensorflow_backend.py\u001b[0m in \u001b[0;36m__call__\u001b[0;34m(self, inputs)\u001b[0m\n\u001b[1;32m   2957\u001b[0m \u001b[0;34m\u001b[0m\u001b[0m\n\u001b[1;32m   2958\u001b[0m     \u001b[0;32mdef\u001b[0m \u001b[0m__call__\u001b[0m\u001b[0;34m(\u001b[0m\u001b[0mself\u001b[0m\u001b[0;34m,\u001b[0m \u001b[0minputs\u001b[0m\u001b[0;34m)\u001b[0m\u001b[0;34m:\u001b[0m\u001b[0;34m\u001b[0m\u001b[0;34m\u001b[0m\u001b[0m\n\u001b[0;32m-> 2959\u001b[0;31m         \u001b[0;32mif\u001b[0m \u001b[0mhasattr\u001b[0m\u001b[0;34m(\u001b[0m\u001b[0mget_session\u001b[0m\u001b[0;34m(\u001b[0m\u001b[0;34m)\u001b[0m\u001b[0;34m,\u001b[0m \u001b[0;34m'_make_callable_from_options'\u001b[0m\u001b[0;34m)\u001b[0m\u001b[0;34m:\u001b[0m\u001b[0;34m\u001b[0m\u001b[0;34m\u001b[0m\u001b[0m\n\u001b[0m\u001b[1;32m   2960\u001b[0m             \u001b[0;32mif\u001b[0m \u001b[0mpy_any\u001b[0m\u001b[0;34m(\u001b[0m\u001b[0mis_sparse\u001b[0m\u001b[0;34m(\u001b[0m\u001b[0mx\u001b[0m\u001b[0;34m)\u001b[0m \u001b[0;32mfor\u001b[0m \u001b[0mx\u001b[0m \u001b[0;32min\u001b[0m \u001b[0mself\u001b[0m\u001b[0;34m.\u001b[0m\u001b[0minputs\u001b[0m\u001b[0;34m)\u001b[0m\u001b[0;34m:\u001b[0m\u001b[0;34m\u001b[0m\u001b[0;34m\u001b[0m\u001b[0m\n\u001b[1;32m   2961\u001b[0m                 \u001b[0;32mif\u001b[0m \u001b[0mpy_any\u001b[0m\u001b[0;34m(\u001b[0m\u001b[0mis_tensor\u001b[0m\u001b[0;34m(\u001b[0m\u001b[0mx\u001b[0m\u001b[0;34m)\u001b[0m \u001b[0;32mfor\u001b[0m \u001b[0mx\u001b[0m \u001b[0;32min\u001b[0m \u001b[0minputs\u001b[0m\u001b[0;34m)\u001b[0m\u001b[0;34m:\u001b[0m\u001b[0;34m\u001b[0m\u001b[0;34m\u001b[0m\u001b[0m\n",
            "\u001b[0;32m/usr/local/lib/python3.6/dist-packages/keras/backend/tensorflow_backend.py\u001b[0m in \u001b[0;36mget_session\u001b[0;34m()\u001b[0m\n\u001b[1;32m    214\u001b[0m                 \u001b[0;31m# not already marked as initialized.\u001b[0m\u001b[0;34m\u001b[0m\u001b[0;34m\u001b[0m\u001b[0;34m\u001b[0m\u001b[0m\n\u001b[1;32m    215\u001b[0m                 is_initialized = session.run(\n\u001b[0;32m--> 216\u001b[0;31m                     [tf.is_variable_initialized(v) for v in candidate_vars])\n\u001b[0m\u001b[1;32m    217\u001b[0m                 \u001b[0muninitialized_vars\u001b[0m \u001b[0;34m=\u001b[0m \u001b[0;34m[\u001b[0m\u001b[0;34m]\u001b[0m\u001b[0;34m\u001b[0m\u001b[0;34m\u001b[0m\u001b[0m\n\u001b[1;32m    218\u001b[0m                 \u001b[0;32mfor\u001b[0m \u001b[0mflag\u001b[0m\u001b[0;34m,\u001b[0m \u001b[0mv\u001b[0m \u001b[0;32min\u001b[0m \u001b[0mzip\u001b[0m\u001b[0;34m(\u001b[0m\u001b[0mis_initialized\u001b[0m\u001b[0;34m,\u001b[0m \u001b[0mcandidate_vars\u001b[0m\u001b[0;34m)\u001b[0m\u001b[0;34m:\u001b[0m\u001b[0;34m\u001b[0m\u001b[0;34m\u001b[0m\u001b[0m\n",
            "\u001b[0;32m/usr/local/lib/python3.6/dist-packages/tensorflow_core/python/client/session.py\u001b[0m in \u001b[0;36mrun\u001b[0;34m(self, fetches, feed_dict, options, run_metadata)\u001b[0m\n\u001b[1;32m    954\u001b[0m     \u001b[0;32mtry\u001b[0m\u001b[0;34m:\u001b[0m\u001b[0;34m\u001b[0m\u001b[0;34m\u001b[0m\u001b[0m\n\u001b[1;32m    955\u001b[0m       result = self._run(None, fetches, feed_dict, options_ptr,\n\u001b[0;32m--> 956\u001b[0;31m                          run_metadata_ptr)\n\u001b[0m\u001b[1;32m    957\u001b[0m       \u001b[0;32mif\u001b[0m \u001b[0mrun_metadata\u001b[0m\u001b[0;34m:\u001b[0m\u001b[0;34m\u001b[0m\u001b[0;34m\u001b[0m\u001b[0m\n\u001b[1;32m    958\u001b[0m         \u001b[0mproto_data\u001b[0m \u001b[0;34m=\u001b[0m \u001b[0mtf_session\u001b[0m\u001b[0;34m.\u001b[0m\u001b[0mTF_GetBuffer\u001b[0m\u001b[0;34m(\u001b[0m\u001b[0mrun_metadata_ptr\u001b[0m\u001b[0;34m)\u001b[0m\u001b[0;34m\u001b[0m\u001b[0;34m\u001b[0m\u001b[0m\n",
            "\u001b[0;32m/usr/local/lib/python3.6/dist-packages/tensorflow_core/python/client/session.py\u001b[0m in \u001b[0;36m_run\u001b[0;34m(self, handle, fetches, feed_dict, options, run_metadata)\u001b[0m\n\u001b[1;32m   1178\u001b[0m     \u001b[0;32mif\u001b[0m \u001b[0mfinal_fetches\u001b[0m \u001b[0;32mor\u001b[0m \u001b[0mfinal_targets\u001b[0m \u001b[0;32mor\u001b[0m \u001b[0;34m(\u001b[0m\u001b[0mhandle\u001b[0m \u001b[0;32mand\u001b[0m \u001b[0mfeed_dict_tensor\u001b[0m\u001b[0;34m)\u001b[0m\u001b[0;34m:\u001b[0m\u001b[0;34m\u001b[0m\u001b[0;34m\u001b[0m\u001b[0m\n\u001b[1;32m   1179\u001b[0m       results = self._do_run(handle, final_targets, final_fetches,\n\u001b[0;32m-> 1180\u001b[0;31m                              feed_dict_tensor, options, run_metadata)\n\u001b[0m\u001b[1;32m   1181\u001b[0m     \u001b[0;32melse\u001b[0m\u001b[0;34m:\u001b[0m\u001b[0;34m\u001b[0m\u001b[0;34m\u001b[0m\u001b[0m\n\u001b[1;32m   1182\u001b[0m       \u001b[0mresults\u001b[0m \u001b[0;34m=\u001b[0m \u001b[0;34m[\u001b[0m\u001b[0;34m]\u001b[0m\u001b[0;34m\u001b[0m\u001b[0;34m\u001b[0m\u001b[0m\n",
            "\u001b[0;32m/usr/local/lib/python3.6/dist-packages/tensorflow_core/python/client/session.py\u001b[0m in \u001b[0;36m_do_run\u001b[0;34m(self, handle, target_list, fetch_list, feed_dict, options, run_metadata)\u001b[0m\n\u001b[1;32m   1357\u001b[0m     \u001b[0;32mif\u001b[0m \u001b[0mhandle\u001b[0m \u001b[0;32mis\u001b[0m \u001b[0;32mNone\u001b[0m\u001b[0;34m:\u001b[0m\u001b[0;34m\u001b[0m\u001b[0;34m\u001b[0m\u001b[0m\n\u001b[1;32m   1358\u001b[0m       return self._do_call(_run_fn, feeds, fetches, targets, options,\n\u001b[0;32m-> 1359\u001b[0;31m                            run_metadata)\n\u001b[0m\u001b[1;32m   1360\u001b[0m     \u001b[0;32melse\u001b[0m\u001b[0;34m:\u001b[0m\u001b[0;34m\u001b[0m\u001b[0;34m\u001b[0m\u001b[0m\n\u001b[1;32m   1361\u001b[0m       \u001b[0;32mreturn\u001b[0m \u001b[0mself\u001b[0m\u001b[0;34m.\u001b[0m\u001b[0m_do_call\u001b[0m\u001b[0;34m(\u001b[0m\u001b[0m_prun_fn\u001b[0m\u001b[0;34m,\u001b[0m \u001b[0mhandle\u001b[0m\u001b[0;34m,\u001b[0m \u001b[0mfeeds\u001b[0m\u001b[0;34m,\u001b[0m \u001b[0mfetches\u001b[0m\u001b[0;34m)\u001b[0m\u001b[0;34m\u001b[0m\u001b[0;34m\u001b[0m\u001b[0m\n",
            "\u001b[0;32m/usr/local/lib/python3.6/dist-packages/tensorflow_core/python/client/session.py\u001b[0m in \u001b[0;36m_do_call\u001b[0;34m(self, fn, *args)\u001b[0m\n\u001b[1;32m   1363\u001b[0m   \u001b[0;32mdef\u001b[0m \u001b[0m_do_call\u001b[0m\u001b[0;34m(\u001b[0m\u001b[0mself\u001b[0m\u001b[0;34m,\u001b[0m \u001b[0mfn\u001b[0m\u001b[0;34m,\u001b[0m \u001b[0;34m*\u001b[0m\u001b[0margs\u001b[0m\u001b[0;34m)\u001b[0m\u001b[0;34m:\u001b[0m\u001b[0;34m\u001b[0m\u001b[0;34m\u001b[0m\u001b[0m\n\u001b[1;32m   1364\u001b[0m     \u001b[0;32mtry\u001b[0m\u001b[0;34m:\u001b[0m\u001b[0;34m\u001b[0m\u001b[0;34m\u001b[0m\u001b[0m\n\u001b[0;32m-> 1365\u001b[0;31m       \u001b[0;32mreturn\u001b[0m \u001b[0mfn\u001b[0m\u001b[0;34m(\u001b[0m\u001b[0;34m*\u001b[0m\u001b[0margs\u001b[0m\u001b[0;34m)\u001b[0m\u001b[0;34m\u001b[0m\u001b[0;34m\u001b[0m\u001b[0m\n\u001b[0m\u001b[1;32m   1366\u001b[0m     \u001b[0;32mexcept\u001b[0m \u001b[0merrors\u001b[0m\u001b[0;34m.\u001b[0m\u001b[0mOpError\u001b[0m \u001b[0;32mas\u001b[0m \u001b[0me\u001b[0m\u001b[0;34m:\u001b[0m\u001b[0;34m\u001b[0m\u001b[0;34m\u001b[0m\u001b[0m\n\u001b[1;32m   1367\u001b[0m       \u001b[0mmessage\u001b[0m \u001b[0;34m=\u001b[0m \u001b[0mcompat\u001b[0m\u001b[0;34m.\u001b[0m\u001b[0mas_text\u001b[0m\u001b[0;34m(\u001b[0m\u001b[0me\u001b[0m\u001b[0;34m.\u001b[0m\u001b[0mmessage\u001b[0m\u001b[0;34m)\u001b[0m\u001b[0;34m\u001b[0m\u001b[0;34m\u001b[0m\u001b[0m\n",
            "\u001b[0;32m/usr/local/lib/python3.6/dist-packages/tensorflow_core/python/client/session.py\u001b[0m in \u001b[0;36m_run_fn\u001b[0;34m(feed_dict, fetch_list, target_list, options, run_metadata)\u001b[0m\n\u001b[1;32m   1346\u001b[0m     \u001b[0;32mdef\u001b[0m \u001b[0m_run_fn\u001b[0m\u001b[0;34m(\u001b[0m\u001b[0mfeed_dict\u001b[0m\u001b[0;34m,\u001b[0m \u001b[0mfetch_list\u001b[0m\u001b[0;34m,\u001b[0m \u001b[0mtarget_list\u001b[0m\u001b[0;34m,\u001b[0m \u001b[0moptions\u001b[0m\u001b[0;34m,\u001b[0m \u001b[0mrun_metadata\u001b[0m\u001b[0;34m)\u001b[0m\u001b[0;34m:\u001b[0m\u001b[0;34m\u001b[0m\u001b[0;34m\u001b[0m\u001b[0m\n\u001b[1;32m   1347\u001b[0m       \u001b[0;31m# Ensure any changes to the graph are reflected in the runtime.\u001b[0m\u001b[0;34m\u001b[0m\u001b[0;34m\u001b[0m\u001b[0;34m\u001b[0m\u001b[0m\n\u001b[0;32m-> 1348\u001b[0;31m       \u001b[0mself\u001b[0m\u001b[0;34m.\u001b[0m\u001b[0m_extend_graph\u001b[0m\u001b[0;34m(\u001b[0m\u001b[0;34m)\u001b[0m\u001b[0;34m\u001b[0m\u001b[0;34m\u001b[0m\u001b[0m\n\u001b[0m\u001b[1;32m   1349\u001b[0m       return self._call_tf_sessionrun(options, feed_dict, fetch_list,\n\u001b[1;32m   1350\u001b[0m                                       target_list, run_metadata)\n",
            "\u001b[0;32m/usr/local/lib/python3.6/dist-packages/tensorflow_core/python/client/session.py\u001b[0m in \u001b[0;36m_extend_graph\u001b[0;34m(self)\u001b[0m\n\u001b[1;32m   1386\u001b[0m   \u001b[0;32mdef\u001b[0m \u001b[0m_extend_graph\u001b[0m\u001b[0;34m(\u001b[0m\u001b[0mself\u001b[0m\u001b[0;34m)\u001b[0m\u001b[0;34m:\u001b[0m\u001b[0;34m\u001b[0m\u001b[0;34m\u001b[0m\u001b[0m\n\u001b[1;32m   1387\u001b[0m     \u001b[0;32mwith\u001b[0m \u001b[0mself\u001b[0m\u001b[0;34m.\u001b[0m\u001b[0m_graph\u001b[0m\u001b[0;34m.\u001b[0m\u001b[0m_session_run_lock\u001b[0m\u001b[0;34m(\u001b[0m\u001b[0;34m)\u001b[0m\u001b[0;34m:\u001b[0m  \u001b[0;31m# pylint: disable=protected-access\u001b[0m\u001b[0;34m\u001b[0m\u001b[0;34m\u001b[0m\u001b[0m\n\u001b[0;32m-> 1388\u001b[0;31m       \u001b[0mtf_session\u001b[0m\u001b[0;34m.\u001b[0m\u001b[0mExtendSession\u001b[0m\u001b[0;34m(\u001b[0m\u001b[0mself\u001b[0m\u001b[0;34m.\u001b[0m\u001b[0m_session\u001b[0m\u001b[0;34m)\u001b[0m\u001b[0;34m\u001b[0m\u001b[0;34m\u001b[0m\u001b[0m\n\u001b[0m\u001b[1;32m   1389\u001b[0m \u001b[0;34m\u001b[0m\u001b[0m\n\u001b[1;32m   1390\u001b[0m   \u001b[0;31m# The threshold to run garbage collection to delete dead tensors.\u001b[0m\u001b[0;34m\u001b[0m\u001b[0;34m\u001b[0m\u001b[0;34m\u001b[0m\u001b[0m\n",
            "\u001b[0;31mKeyboardInterrupt\u001b[0m: "
          ]
        }
      ]
    },
    {
      "cell_type": "code",
      "metadata": {
        "id": "gOXzU5pVZGvM",
        "colab_type": "code",
        "colab": {}
      },
      "source": [
        "## AUPRC : precision, recall, thresholds = precision_recall_curve (y_true, y_scores)\n",
        "# calculate precision-recall AUC :auc = auc(recall, precision)\n",
        "\n",
        "import sklearn.metrics.precision_recall_curve as AUPRC"
      ],
      "execution_count": 0,
      "outputs": []
    },
    {
      "cell_type": "markdown",
      "metadata": {
        "id": "cUcV_QdPP55N",
        "colab_type": "text"
      },
      "source": [
        "## EfficentGAN-BasedAnomalyDetection (F-AnoGAN)\n",
        "\n",
        "<img src='/content/drive/My Drive/AnoDetect_implementation/f-AnoGAN.jpg'/>\n",
        "\n",
        "fast AnoGAN (f-AnoGAN )is a generative adversarial network  based unsupervised learning approach capable of identifying anomalous images and image segments, that can serve as imaging biomarker candidates for medical diagnostic.\n",
        "f-AnoGAN allows for anomaly detection on the image level and localization of anomalies on the pixel level.\n",
        "it's a high-speed anomaly detection GAN\n",
        "\n",
        "\n",
        "\n",
        "\n",
        "\n",
        "\n",
        "\n"
      ]
    },
    {
      "cell_type": "markdown",
      "metadata": {
        "id": "DM2Dcqt7tsJN",
        "colab_type": "text"
      },
      "source": [
        "\n",
        "\n",
        "1.   General Structure\n",
        "\n",
        "Use improved WGAN architecture instead of DCGAN . It's composed by:\n",
        "\n",
        "*  Discriminator \n",
        "*  Generator \n",
        "*  Encoder\n",
        "\n",
        "The Encoder help to speed up the the training.\n",
        "\n",
        "In the original paper, they propose the use of WDCGAN but any pretrained GAN can be used.\n",
        "\n",
        "\n"
      ]
    },
    {
      "cell_type": "markdown",
      "metadata": {
        "id": "3sb-p9RjjwO0",
        "colab_type": "text"
      },
      "source": [
        "### Discriminator\n",
        "\n"
      ]
    },
    {
      "cell_type": "code",
      "metadata": {
        "id": "1dUnlz-3Po6g",
        "colab_type": "code",
        "colab": {}
      },
      "source": [
        "class DiscriminatorEncoderParam(Enum):\n",
        "    conv2d_filter_64 = 64\n",
        "    conv2d_kernel_4_4 = (4, 4)\n",
        "    conv2d_stride_2_2 = (2, 2)\n",
        "    conv2d_padding_same = 'same'\n",
        "    \n",
        "    leaky_relu_param_0_2 = 0.2\n",
        "    drop_out_0_4 = 0.4\n",
        "    \n",
        "    noize_size_5_5_64 = 5 * 5 * 64\n",
        "    \n",
        "    leaky_relu_param_0_1 = 0.1\n",
        "    \n",
        "    dense_1024 = 1024\n",
        "    \n",
        "    out_dense_1 = 1\n",
        "    out_activation_sigmoid = 'sigmoid'\n",
        "    adam_lr_0_0002 = 0.0002\n",
        "    beta_1_0_5 = 0.5\n",
        "    loss_binary_crossentropy = \"binary_crossentropy\"\n",
        "    metrics_accuracy = 'accuracy'\n",
        "    \n",
        "\n",
        "def define_discriminator(in_shape=(28,28,1), in_z=(10,)) -> Model:\n",
        "    \"\"\"\n",
        "     Creating an identification model\n",
        "    \n",
        "    Parameters\n",
        "    ----------\n",
        "    in_shape: tuple\n",
        "        Image dimensions\n",
        "    in_z: tuple\n",
        "        Noise dimension\n",
        "    \n",
        "    Returns\n",
        "    -------\n",
        "    model: Model\n",
        "        Created identification model (with noise and image as input)\n",
        "    \"\"\"\n",
        "    \n",
        "    input_x = Input(shape=in_shape)\n",
        "    x = Conv2D(DiscriminatorEncoderParam.conv2d_filter_64.value, \n",
        "               DiscriminatorEncoderParam.conv2d_kernel_4_4.value, \n",
        "               strides=DiscriminatorEncoderParam.conv2d_stride_2_2.value, \n",
        "               padding=DiscriminatorEncoderParam.conv2d_padding_same.value, \n",
        "               input_shape=in_shape)(input_x)\n",
        "\n",
        "    x = LeakyReLU(alpha=DiscriminatorEncoderParam.leaky_relu_param_0_2.value)(x)\n",
        "    x = Dropout(DiscriminatorEncoderParam.drop_out_0_4.value)(x)\n",
        "    x = Conv2D(DiscriminatorEncoderParam.conv2d_filter_64.value, \n",
        "               DiscriminatorEncoderParam.conv2d_kernel_4_4.value, \n",
        "               strides=DiscriminatorEncoderParam.conv2d_stride_2_2.value, \n",
        "               padding=DiscriminatorEncoderParam.conv2d_padding_same.value, \n",
        "               input_shape=in_shape)(x)\n",
        "\n",
        "    x = BatchNormalization()(x)\n",
        "    x = LeakyReLU(alpha=DiscriminatorEncoderParam.leaky_relu_param_0_2.value)(x)\n",
        "    x = Dropout(DiscriminatorEncoderParam.drop_out_0_4.value)(x)\n",
        "    # Get layer size\n",
        "    shape_x = K.int_shape(x)\n",
        "    # Change to 1 dimension so that it can be concated with noise, 0 dimension is not used because it is batch size\n",
        "    x = Reshape((shape_x[1] * shape_x[2] * shape_x[3],))(x)\n",
        "    \n",
        "    # Noise input layer\n",
        "    input_z = Input(shape=in_z)\n",
        "    z = Dense(DiscriminatorEncoderParam.noize_size_5_5_64.value)(input_z)\n",
        "    z = LeakyReLU(alpha=DiscriminatorEncoderParam.leaky_relu_param_0_1.value)(z)\n",
        "    z = Dropout(DiscriminatorEncoderParam.drop_out_0_4.value)(z)\n",
        "    \n",
        "    # Concatenate noise and image extraction part\n",
        "    concat_x = concatenate([x, z], axis=1)\n",
        "    x = Dense(DiscriminatorEncoderParam.dense_1024.value)(concat_x)\n",
        "    x = LeakyReLU(alpha=DiscriminatorEncoderParam.leaky_relu_param_0_1.value)(x)\n",
        "    x = Dropout(DiscriminatorEncoderParam.drop_out_0_4.value)(x)\n",
        "    x = Dense(DiscriminatorEncoderParam.out_dense_1.value, activation=DiscriminatorEncoderParam.out_activation_sigmoid.value)(x)\n",
        "    \n",
        "    # Identify using noise and image information\n",
        "    model = Model(inputs=[input_x, input_z], outputs=x)\n",
        "    opt = Adam(lr=DiscriminatorEncoderParam.adam_lr_0_0002.value, beta_1=DiscriminatorEncoderParam.beta_1_0_5.value)\n",
        "    model.compile(loss=DiscriminatorEncoderParam.loss_binary_crossentropy.value, optimizer=opt, metrics=[DiscriminatorEncoderParam.metrics_accuracy.value])\n",
        "    return model\n",
        "  \n",
        "d_model = define_discriminator()\n",
        "d_model.summary()\n",
        "plot_model(d_model, to_file=\"d_plot.png\", show_shapes=True, show_layer_names=True)"
      ],
      "execution_count": 0,
      "outputs": []
    },
    {
      "cell_type": "markdown",
      "metadata": {
        "id": "1f7fLgOalnpc",
        "colab_type": "text"
      },
      "source": [
        "## Encode"
      ]
    },
    {
      "cell_type": "code",
      "metadata": {
        "id": "OfIeiVqSlP8r",
        "colab_type": "code",
        "colab": {}
      },
      "source": [
        "class EncoderParam(Enum):\n",
        "    con2d_filter_32 = 32\n",
        "    con2d_kernel_3_3 = (3, 3)\n",
        "    con2d_strides_2_2 = (2, 2)\n",
        "    conv2d_padding_same = 'same'\n",
        "    \n",
        "    con2d_filter_64 = 64\n",
        "    \n",
        "    leaky_relu_param_0_2 = 0.2\n",
        "    \n",
        "    adam_lr_0_0002 = 0.0002\n",
        "    beta_1_0_5 = 0.5\n",
        "    loss_binary_crossentropy = \"binary_crossentropy\"\n",
        "    metrics_accuracy = 'accuracy'\n",
        "    \n",
        "def define_encoder(in_shape: tuple=(28, 28, 1), out_z: tuple=(10,)) -> Model:\n",
        "    \"\"\"\n",
        "     Creating an Encoder model\n",
        "    \n",
        "    Parameters\n",
        "    ----------\n",
        "    in_shape: tuple\n",
        "        Image dimensions\n",
        "    out_z: tuple\n",
        "        Output noise dimensions\n",
        "    \n",
        "    Returns\n",
        "    -------\n",
        "    model: Model\n",
        "        Created Encoder model\n",
        "    \"\"\"\n",
        "    input_x = Input(shape=in_shape)\n",
        "    x = Conv2D(EncoderParam.con2d_filter_32.value, \n",
        "               EncoderParam.con2d_kernel_3_3.value, \n",
        "               strides=EncoderParam.con2d_strides_2_2.value, \n",
        "               padding=EncoderParam.conv2d_padding_same.value)(input_x)\n",
        "    x = Conv2D(EncoderParam.con2d_filter_32.value, \n",
        "               EncoderParam.con2d_kernel_3_3.value, \n",
        "               strides=EncoderParam.con2d_strides_2_2.value, \n",
        "               padding=EncoderParam.conv2d_padding_same.value)(x)\n",
        "    x = BatchNormalization()(x)\n",
        "    x = LeakyReLU(alpha=EncoderParam.leaky_relu_param_0_2.value)(x)\n",
        "    x = Conv2D(EncoderParam.con2d_filter_64.value, \n",
        "               EncoderParam.con2d_kernel_3_3.value, \n",
        "               strides=EncoderParam.con2d_strides_2_2.value, \n",
        "               padding=EncoderParam.conv2d_padding_same.value)(x)\n",
        "    x = BatchNormalization()(x)\n",
        "    x = LeakyReLU(alpha=EncoderParam.leaky_relu_param_0_2.value)(x)\n",
        "    x = Flatten()(x)\n",
        "    x = Dense(out_z[0])(x)\n",
        "    model = Model(inputs=input_x, outputs=x)\n",
        "    opt = Adam(lr=DiscriminatorEncoderParam.adam_lr_0_0002.value, beta_1=DiscriminatorEncoderParam.beta_1_0_5.value)\n",
        "    model.compile(loss=DiscriminatorEncoderParam.loss_binary_crossentropy.value, optimizer=opt, metrics=[DiscriminatorEncoderParam.metrics_accuracy.value])\n",
        "    return model\n",
        "  \n",
        "encoder_model = define_encoder()\n",
        "encoder_model.summary()\n",
        "plot_model(encoder_model, to_file=\"encoder_model_plot.png\", show_shapes=True, show_layer_names=True)"
      ],
      "execution_count": 0,
      "outputs": []
    },
    {
      "cell_type": "markdown",
      "metadata": {
        "id": "uw74EK-dmDLv",
        "colab_type": "text"
      },
      "source": [
        "## Generator"
      ]
    },
    {
      "cell_type": "code",
      "metadata": {
        "id": "O3wZn6N7l8mu",
        "colab_type": "code",
        "colab": {}
      },
      "source": [
        "def generator_containint_discriminator(g_model: Model, d_model: Model, in_z: tuple=(10,)) -> Model:\n",
        "    \"\"\"\n",
        "      Creating a mixed model with Discriminator to learn Generator\n",
        "    \n",
        "     Parameters\n",
        "     ----------\n",
        "     g_model: Model\n",
        "         Generation model\n",
        "     d_model: Model\n",
        "         Identification model\n",
        "     in_z: tuple\n",
        "         Dimension of input noise\n",
        "    \n",
        "     Returns\n",
        "     -------\n",
        "     model: Model\n",
        "         Mixed model with Discriminator for learning Generator\n",
        "    \"\"\"\n",
        "    d_model.trainable = False\n",
        "    input_z = Input(shape=in_z)\n",
        "    x = g_model(input_z)\n",
        "    \n",
        "    # Input image and noise\n",
        "    x = d_model([x, input_z])\n",
        "    \n",
        "    gan = Model(inputs=input_z, outputs=x)\n",
        "    return gan\n",
        "\n",
        "d_model = define_discriminator()\n",
        "g_model = generator_model()\n",
        "g_d_model = generator_containint_discriminator(g_model, d_model)\n",
        "plot_model(g_d_model, to_file='g_d_model.png')"
      ],
      "execution_count": 0,
      "outputs": []
    },
    {
      "cell_type": "markdown",
      "metadata": {
        "id": "KSZdEQ1cmXhc",
        "colab_type": "text"
      },
      "source": [
        "## Generate noise from Encoder and identify with Discriminator"
      ]
    },
    {
      "cell_type": "code",
      "metadata": {
        "id": "QMwnHUSRmZ0e",
        "colab_type": "code",
        "colab": {}
      },
      "source": [
        "def define_encoder_gan(e_model, d_model, in_shape=(28,28,1)) -> Model:\n",
        "    \"\"\"\n",
        "      Creating a mixed model with Discriminator for learning Encoder\n",
        "    \n",
        "     Parameters\n",
        "     ----------\n",
        "     e_model: Model\n",
        "         Encoder model\n",
        "     d_model: Model\n",
        "         Identification model\n",
        "     in_shape: tuple\n",
        "         Image dimensions\n",
        "    \n",
        "     Returns\n",
        "     -------\n",
        "     model: Model\n",
        "         Mixed model with Discriminator for learning Encoder\n",
        "    \"\"\"\n",
        "    d_model.trainable = False\n",
        "    input_x = Input(shape=in_shape)\n",
        "    #  Encoder makes image noise\n",
        "    x = e_model(input_x)\n",
        "    \n",
        "    x = d_model([input_x, x])\n",
        "    \n",
        "    model = Model(inputs=input_x, outputs=x)\n",
        "    return model\n",
        "  \n",
        "d_model = define_discriminator()\n",
        "e_model = define_encoder()\n",
        "gan_encoder_model = define_encoder_gan(e_model, d_model)\n",
        "gan_encoder_model.summary()\n",
        "plot_model(gan_encoder_model, to_file='gan_encoder_model.png')"
      ],
      "execution_count": 0,
      "outputs": []
    },
    {
      "cell_type": "markdown",
      "metadata": {
        "id": "rZRL_2qSmqFb",
        "colab_type": "text"
      },
      "source": [
        "### Learning EfficientAnnoGAN \n",
        "In rare cases, the Discriminator may become too strong due to the initial value. In that case, re-learning is necessary\n",
        "\n",
        "Saving learning logs using Tensorboard is time consuming"
      ]
    },
    {
      "cell_type": "code",
      "metadata": {
        "id": "nB2Jp6pnmw2F",
        "colab_type": "code",
        "colab": {}
      },
      "source": [
        "class TrainEncoderParam(Enum):\n",
        "    discriminator_lr = 0.0002\n",
        "    generator_lr = 0.0002\n",
        "    encoder_lr = 0.0002\n",
        "    \n",
        "    generator_loss = \"mse\"\n",
        "    discriminator_generator_loss = \"mse\"\n",
        "    discriminator_encoder_loss = \"mse\"\n",
        "    discriminator_loss = 'mse'\n",
        "    \n",
        "def train_encoder_gan(batch_size: int, X_train: np.ndarray, epoch: int=10, common_path: str=DataParm.common_path_f_AnoGAN.value) -> Tuple[Model, Model]:\n",
        "    \"\"\"\n",
        "     Learn discrimination and generation models\n",
        "    \n",
        "    Parameters\n",
        "    ----------\n",
        "    batch_size: int\n",
        "        Batch size\n",
        "    X_train: np.ndarray\n",
        "        Image data for learning\n",
        "    epoch: int\n",
        "        Specify number of epochs for learning\n",
        "    common_path: str\n",
        "        Specify model and path to save generated image\n",
        "\n",
        "    Returns\n",
        "    -------\n",
        "    d: Model\n",
        "        Identification model\n",
        "    g: Model\n",
        "        Generation model\n",
        "\n",
        "    \"\"\"\n",
        "    d = define_discriminator()\n",
        "    g = generator_model()\n",
        "    encoder = define_encoder()\n",
        "    \n",
        "    # Mixed model for learning Generator model\n",
        "    d_on_g = generator_containint_discriminator(g, d)\n",
        "    \n",
        "    #  Mixed model for learning Encoder model\n",
        "    d_on_e = define_encoder_gan(encoder, d)\n",
        "\n",
        "    # Change to Adam\n",
        "    d_optim = Adam(lr=TrainEncoderParam.discriminator_lr.value)\n",
        "    g_optim = Adam(lr=TrainEncoderParam.generator_lr.value)\n",
        "    e_optim = Adam(lr=TrainEncoderParam.encoder_lr.value)\n",
        "    \n",
        "    g.compile(loss=TrainEncoderParam.generator_loss.value, optimizer=g_optim)\n",
        "    d_on_g.compile(loss=TrainEncoderParam.discriminator_generator_loss.value, optimizer=g_optim)\n",
        "    d_on_e.compile(loss=TrainEncoderParam.discriminator_encoder_loss.value, optimizer=e_optim)\n",
        "    \n",
        "    d.trainable= True\n",
        "    d.compile(loss=TrainEncoderParam.discriminator_loss.value, optimizer=d_optim)\n",
        "    \n",
        "    for e in range(epoch):\n",
        "        print('Eposh is ', e)\n",
        "        #  Data size / Batch size = Calculate how many times batch processing is possible with data size\n",
        "        n_iter = int(X_train.shape[0] / batch_size)\n",
        "        #Process to make learning progress easy to understand\n",
        "        progress_bar = Progbar(target=n_iter)\n",
        "        \n",
        "        for index in range(n_iter):\n",
        "            # Get 10-dimensional noise for batch size, change to normal distribution for better performance\n",
        "            noise = np.random.normal(0, 1, size=(batch_size, 10))\n",
        "            # Get images for batch size\n",
        "            image_batch = X_train[index * batch_size:(index + 1) * batch_size]\n",
        "            # Generate image from noise\n",
        "            generated_images = g.predict(noise, verbose=0)\n",
        "            # Generate noise from image\n",
        "            generated_noise = encoder.predict(image_batch, verbose=0)\n",
        "            \n",
        "            # Save the generated image for later review\n",
        "            if index % 20 == 0:\n",
        "                # Batch size images can be created and converted to a single image\n",
        "                image = combine_images(generated_images)\n",
        "                # -1 to 1 scale so convert to 255 scale\n",
        "                image = image * DataParm.image_size_127_5.value + DataParm.image_size_127_5.value\n",
        "                if not os.path.exists(common_path + '/result/'):\n",
        "                    os.makedirs(common_path + '/result/')\n",
        "                cv2.imwrite(common_path + '/result/' + str(e) + '_' + str(index) + '.png', image)  \n",
        "            # Learning Discriminator\n",
        "            y = np.array([1] * batch_size)\n",
        "            d_loss = d.train_on_batch([image_batch, generated_noise], y)\n",
        "            \n",
        "            y = np.array([0] * batch_size)\n",
        "            d_loss = d.train_on_batch([generated_images, noise], y)\n",
        "            \n",
        "            # Don't learn Discriminator\n",
        "            d.trainable = False\n",
        "\n",
        "            # Learning Generator\n",
        "            g_loss = d_on_g.train_on_batch(noise, np.array([1] * batch_size))\n",
        "            d.trainable = False\n",
        "            # Learning Encoder\n",
        "            e_loss = d_on_e.train_on_batch(image_batch, np.array([0] * batch_size))\n",
        "            \n",
        "            d.trainable = True\n",
        "            \n",
        "            progress_bar.update(index, values=[('g', g_loss), ('d', d_loss), ('e', e_loss)])\n",
        "        print('')\n",
        "        # Create a directory to store the model\n",
        "        if not os.path.exists(common_path + '/weights/'):\n",
        "            os.makedirs(common_path + '/weights/')\n",
        "        # Save model\n",
        "        g.save(common_path + '/weights/generator.h5')\n",
        "        d.save(common_path + '/weights/discriminator.h5')\n",
        "        encoder.save(common_path + '/weights/encoder.h5')\n",
        "    return d, g, encoder\n",
        "\n",
        "# Fixed random seed for reproducibility\n",
        "np.random.seed(seed=30)\n",
        "batch_size = 64\n",
        "Model_d, Model_g, Model_e = train_encoder_gan(batch_size, X_train)"
      ],
      "execution_count": 0,
      "outputs": []
    },
    {
      "cell_type": "markdown",
      "metadata": {
        "id": "khDuS6ydnIqD",
        "colab_type": "text"
      },
      "source": [
        "Because the model includes Encode, change the feature extraction function, abnormal score model creation function, abnormal score derivation function, etc."
      ]
    },
    {
      "cell_type": "code",
      "metadata": {
        "id": "dkg6_kW_nJ7L",
        "colab_type": "code",
        "colab": {}
      },
      "source": [
        "class FeatureExtractorEncodeParam(Enum):\n",
        "    feature_extractor_loss = 'binary_crossentropy'\n",
        "    optimizer = 'adam'\n",
        "    \n",
        "class AnomalyDetectorEncodeParam(Enum):\n",
        "    adam = 'adam'\n",
        "    \n",
        "def feature_extractor_encode(d: Model=None, common_path: str=DataParm.common_path_f_AnoGAN.value) -> Model:\n",
        "    \"\"\"\n",
        "    Get feature extraction model from identification model\n",
        "    \n",
        "    Parameters\n",
        "    ----------\n",
        "    d: Model\n",
        "        Identification model\n",
        "    common_path: str\n",
        "        Set the path to load the model\n",
        "\n",
        "    Returns\n",
        "    -------\n",
        "    intermidiate_model: Model\n",
        "        Feature extraction model\n",
        "\n",
        "\n",
        "    \"\"\"\n",
        "    if d is None:\n",
        "        d = load_model(common_path + '/weights/discriminator.h5')\n",
        "        d.summary()\n",
        "    input_layer = []\n",
        "    # Secure multiple feature layers due to multiple input feature layers\n",
        "    for index, each_d in enumerate(d.layers):\n",
        "        if 'input' in each_d.name:\n",
        "            input_layer.append(each_d.input)\n",
        "    # Set Discriminator feature extractor\n",
        "    intermidiate_model = Model(inputs=input_layer, outputs=d.layers[-4].output)\n",
        "    intermidiate_model.compile(loss=FeatureExtractorEncodeParam.feature_extractor_loss.value, optimizer=FeatureExtractorEncodeParam.optimizer.value)\n",
        "    return intermidiate_model\n",
        "\n",
        "feature_extractor_model = feature_extractor_encode()\n",
        "feature_extractor_model.summary()\n",
        "plot_model(feature_extractor_model, to_file=\"feature_extractor_model_plot.png\", show_shapes=True, show_layer_names=True)"
      ],
      "execution_count": 0,
      "outputs": []
    },
    {
      "cell_type": "markdown",
      "metadata": {
        "id": "d8lewJ71o84v",
        "colab_type": "text"
      },
      "source": [
        "### Derivation of anomaly score by model including Encoder"
      ]
    },
    {
      "cell_type": "code",
      "metadata": {
        "id": "u575Hbeso-cL",
        "colab_type": "code",
        "colab": {}
      },
      "source": [
        "def anomaly_detector_encode(g: Model, d: Model, e: Model, img_shape: tuple=(28, 28, 1), loss_weights: list=[0.9, 0.1]) -> Model:\n",
        "    \"\"\"\n",
        "      Create a model that generates anomaly scores and images\n",
        "    \n",
        "     Parameters\n",
        "     ----------\n",
        "     g: Model\n",
        "         Generation model\n",
        "     d: Model\n",
        "         Identification model\n",
        "     e: Model\n",
        "         Encoder model\n",
        "     img_shape: tuple\n",
        "         Image input size\n",
        "     loss_weights: list\n",
        "         Set importance of loss\n",
        "\n",
        "     Returns\n",
        "     -------\n",
        "     model: Model\n",
        "         Model that generates anomaly scores and images\n",
        "\n",
        "    \"\"\"\n",
        "    # Create feature extraction model from Discriminator\n",
        "    intermidiate_model = feature_extractor_encode(d)\n",
        "    # Do not learn feature extraction models\n",
        "    intermidiate_model.trainable = False\n",
        "    # Create Generator\n",
        "    g = Model(inputs=g.layers[1].input, outputs=g.layers[-1].output)\n",
        "    # Generator does not learn\n",
        "    g.trainable = False\n",
        "    # Encoder does not learn\n",
        "    e.trainable = False\n",
        "    # Layer for outputting Noize\n",
        "    e = Model(inputs=e.layers[1].input, outputs=e.layers[-1].output)\n",
        "    # Enter image\n",
        "    aInput = Input(shape=img_shape)\n",
        "\n",
        "    # Generate noise\n",
        "    E_out = e(aInput)\n",
        "    # Generate image with noise input\n",
        "    G_out = g(E_out)\n",
        "    # Feature extraction from images\n",
        "    D_out = intermidiate_model([G_out, E_out])\n",
        "    # Create models that output images and features\n",
        "    model = Model(inputs=aInput, outputs=[G_out, D_out])\n",
        "    model.compile(loss=sum_of_residual, loss_weights=loss_weights, optimizer=AnomalyDetectorEncodeParam.adam.value)\n",
        "    \n",
        "    # Fix BatchNorm to avoid learning\n",
        "    K.set_learning_phase(0)\n",
        "    \n",
        "    return model\n",
        "\n",
        "def compute_anomaly_score_encode(model: Model, intermidiate_model: Model, x: np.array, noise: np.array, d: Model=None, e: Model=None, g: Model=None) -> Tuple[np.asarray, np.asarray,]:\n",
        "    \"\"\"\n",
        "    Parameters\n",
        "     ----------\n",
        "     model: Model\n",
        "         Model for calculating anomaly scores\n",
        "     intermidiate_model: Model\n",
        "         A model for extracting features\n",
        "     x: np.array\n",
        "         Image for verification\n",
        "     noise: np.array\n",
        "         noise\n",
        "     d: Model\n",
        "         Identification model\n",
        "     e: Model\n",
        "         Encoder model\n",
        "     g: Model\n",
        "         Generation model\n",
        "    \n",
        "     Returns\n",
        "     -------\n",
        "     loss: np.asarray\n",
        "         Abnormal score\n",
        "     similar_data: np.asarray\n",
        "         Generate noise by inputting noise into a model with adjusted noise\n",
        "    \n",
        "    \"\"\"\n",
        "    # Generate noise\n",
        "    generate_noise = e.predict(x)\n",
        "\n",
        "    # Generate image\n",
        "    generate_image = g.predict(generate_noise)\n",
        "\n",
        "    # Feature extraction of real images\n",
        "    target_d_x = intermidiate_model.predict([x, generate_noise])\n",
        "\n",
        "    # Feature extraction of generated images\n",
        "    d_x = intermidiate_model.predict([generate_image, noise])\n",
        "\n",
        "    # Using the generated image as input, evaluate the feature quantity of the actual image, actual image + generated noise\n",
        "    # loss = model.evaluate(generate_image, [x, target_d_x], batch_size=1, verbose=0)\n",
        "    # Create image from noise\n",
        "    similar_data, _ = model.predict(generate_image)\n",
        "    # Deriving actual image loss using generated image as input\n",
        "    loss_image = [np.abs(each_x - g_x) for each_x, g_x in zip(x, generate_image)]\n",
        "    sum_loss_image = np.sum(loss_image)\n",
        "    # Deriving loss of feature value using feature value as input\n",
        "    loss_feature = [np.abs(each_d_x - each_g_d_x) for each_d_x, each_g_d_x in zip(target_d_x, d_x)]\n",
        "    sum_loss_feature = np.sum(loss_feature)\n",
        "\n",
        "    # Derived abnormal score\n",
        "    loss = 0.9 * sum_loss_image + 0.1 * sum_loss_feature\n",
        "    # loss = loss.history['loss'][-1]\n",
        "    \n",
        "    return loss, similar_data\n",
        "\n",
        "def anomaly_detection_encode(test_img, noise, g=None, d=None, e=None, model=None, intermidiate_model=None) -> Tuple[np.asarray, np.asarray, np.asarray, np.asarray,]:\n",
        "    \"\"\"\n",
        "   Function to calculate anomaly score (Adjusting the Gnerator, adjusting the part that generates noise multiple times)\n",
        "    \n",
        "    Parameters\n",
        "    ----------\n",
        "    test_img: np.asarray\n",
        "        Image for verification\n",
        "    g: Model\n",
        "        Generation model\n",
        "    d: Model\n",
        "        Identification model\n",
        "    e: Model\n",
        "        Encoder model\n",
        "    model: Model\n",
        "        Model for calculating anomaly scores\n",
        "    intermidiate_model: Model\n",
        "        A model for extracting features\n",
        "\n",
        "    Returns\n",
        "    -------\n",
        "    ano_score: np.asarray\n",
        "        Abnormal score\n",
        "    original_x: np.asarray\n",
        "       Verification image adjusted to 0-255 pixel area\n",
        "    similiar_x: np.asarray\n",
        "       An image generated from a model that calculates the anomaly score\n",
        "    show:\n",
        "       Difference between verification image and generated image\n",
        "    \"\"\"\n",
        "        \n",
        "    # Get image shape\n",
        "    test_img_shape = test_img.shape\n",
        "\n",
        "    # Estimate abnormal scores and similar images from test images\n",
        "    ano_score, similar_img = compute_anomaly_score_encode(model, intermidiate_model, test_img.reshape(1, test_img_shape[0], test_img_shape[1], test_img_shape[2]), noise, d=d, e=e, g=g)\n",
        "\n",
        "    # Derivation of difference between real image and similar image\n",
        "    np_residual = test_img.reshape(test_img_shape[0], test_img_shape[1], test_img_shape[2]) - similar_img.reshape(test_img_shape[0], test_img_shape[1], test_img_shape[2])\n",
        "    np_residual = (np_residual + 2) / 4\n",
        "    \n",
        "    # Convert to uint8 and multiply by 255. Set to 0-255 pixel area\n",
        "    np_residual = (255 * np_residual).astype(np.uint8)\n",
        "    # Similarly, the original image and similar images should be in the 0-255 pixel area.\n",
        "    original_x = (test_img.reshape(test_img_shape[0], test_img_shape[1], test_img_shape[2]) * DataParm.image_size_127_5.value + DataParm.image_size_127_5.value).astype(np.uint8)\n",
        "    similiar_x = (similar_img.reshape(test_img_shape[0], test_img_shape[1], test_img_shape[2]) * DataParm.image_size_127_5.value + DataParm.image_size_127_5.value).astype(np.uint8)\n",
        "    \n",
        "    # Convert to GRAY color image\n",
        "    original_x_color = cv2.cvtColor(original_x, cv2.COLOR_GRAY2BGR)\n",
        "    residual_color = cv2.applyColorMap(np_residual, cv2.COLORMAP_JET)\n",
        "    show = cv2.addWeighted(original_x_color, 0.3, residual_color, 0.7, 0.)\n",
        "    \n",
        "    return ano_score, original_x, similiar_x, show"
      ],
      "execution_count": 0,
      "outputs": []
    },
    {
      "cell_type": "markdown",
      "metadata": {
        "id": "dF8VptwJpFVb",
        "colab_type": "text"
      },
      "source": [
        "### Get trained model of Generator, Discriminator, Encoder"
      ]
    },
    {
      "cell_type": "code",
      "metadata": {
        "id": "BRof39lypHWo",
        "colab_type": "code",
        "colab": {}
      },
      "source": [
        "def load_models_encoder(common_path: str=DataParm.common_path_f_AnoGAN.value) -> Tuple[Model, Model]:\n",
        "    \"\"\"\n",
        "     Load learned generation model, identification model, and Encoder model\n",
        "    \n",
        "     Parameters\n",
        "     ----------\n",
        "     common_path: str\n",
        "         Specify path to load model\n",
        "\n",
        "     Returns\n",
        "     -------\n",
        "     g: Model\n",
        "         Generation model\n",
        "     d: Model\n",
        "         Identification model\n",
        "    \"\"\"\n",
        "    d = load_model(common_path + '/weights/discriminator.h5')\n",
        "    g = load_model(common_path + '/weights/generator.h5')\n",
        "    e = load_model(common_path + '/weights/encoder.h5')\n",
        "    return g, d, e\n",
        "\n",
        "g, d, e  = load_models_encoder()"
      ],
      "execution_count": 0,
      "outputs": []
    },
    {
      "cell_type": "markdown",
      "metadata": {
        "id": "YEz94A8rpOI5",
        "colab_type": "text"
      },
      "source": [
        "### Measure the anomaly detection performance by acquiring the label 7 data"
      ]
    },
    {
      "cell_type": "code",
      "metadata": {
        "id": "LR6tdOippPcq",
        "colab_type": "code",
        "colab": {}
      },
      "source": [
        "img_index = 14\n",
        "label_index = 7\n",
        "test_image = X_test_original[Y_test==label_index][img_index]"
      ],
      "execution_count": 0,
      "outputs": []
    },
    {
      "cell_type": "markdown",
      "metadata": {
        "id": "L5CF5wZ6pUVw",
        "colab_type": "text"
      },
      "source": [
        "### Abnormal score is calculated and an image is generated from the model. Due to the nature of the GPU, the first prediction will be slower"
      ]
    },
    {
      "cell_type": "code",
      "metadata": {
        "id": "c2rHQfqepSJu",
        "colab_type": "code",
        "colab": {}
      },
      "source": [
        "#Model to calculate anomaly score\n",
        "model = anomaly_detector_encode (g = g, d = d, e = e)\n",
        "# Create feature extraction model\n",
        "intermidiate_model = feature_extractor_encode (d)"
      ],
      "execution_count": 0,
      "outputs": []
    },
    {
      "cell_type": "markdown",
      "metadata": {
        "id": "3CwOoAufpfxO",
        "colab_type": "text"
      },
      "source": [
        "The first time is slow due to the initialization of the GPU, so the generated model is reused and inferred at high speed."
      ]
    },
    {
      "cell_type": "code",
      "metadata": {
        "id": "z753JaxGphA2",
        "colab_type": "code",
        "colab": {}
      },
      "source": [
        "%%time\n",
        "\n",
        "noise = np.random.normal(0, 1, size=(1, 10))\n",
        "\n",
        "start = cv2.getTickCount()\n",
        "score, query, pred, diff = anomaly_detection_encode(test_image, noise, g=g, d=d, e=e, model=model, intermidiate_model=intermidiate_model)\n",
        "time = (cv2.getTickCount() - start) / cv2.getTickFrequency() * 100\n",
        "print ('%d label, %d : done'%(label_index, img_index), '%.2f' %score, '%.2fms' %time)"
      ],
      "execution_count": 0,
      "outputs": []
    },
    {
      "cell_type": "code",
      "metadata": {
        "id": "YXSUzZk-po3x",
        "colab_type": "code",
        "colab": {}
      },
      "source": [
        "\n",
        "%%time\n",
        "\n",
        "noise = np.random.normal(0, 1, size=(1, 10))\n",
        "\n",
        "start = cv2.getTickCount()\n",
        "score, query, pred, diff = anomaly_detection_encode(test_image, noise, g=g, d=d, e=e, model=model, intermidiate_model=intermidiate_model)\n",
        "time = (cv2.getTickCount() - start) / cv2.getTickFrequency() * 100\n",
        "print ('%d label, %d : done'%(label_index, img_index), '%.2f' %score, '%.2fms' %time)"
      ],
      "execution_count": 0,
      "outputs": []
    },
    {
      "cell_type": "markdown",
      "metadata": {
        "id": "wr92hHQmpvyA",
        "colab_type": "text"
      },
      "source": [
        "Display the input image, the generated image, and the difference between them"
      ]
    },
    {
      "cell_type": "code",
      "metadata": {
        "id": "t8P8CEqupqn2",
        "colab_type": "code",
        "colab": {}
      },
      "source": [
        "plt.figure(1, figsize=(3, 3))\n",
        "plt.title('query image')\n",
        "plt.imshow(query.reshape(28, 28), cmap=plt.cm.gray)\n",
        "\n",
        "print(\"anomaly score : \", score)\n",
        "plt.figure(2, figsize=(3, 3))\n",
        "plt.title('generated similar image')\n",
        "plt.imshow(pred.reshape(28, 28), cmap=plt.cm.gray)\n",
        "\n",
        "plt.figure(3, figsize=(3, 3))\n",
        "plt.title('anomaly detection')\n",
        "plt.imshow(cv2.cvtColor(diff,cv2.COLOR_BGR2RGB))\n",
        "plt.show()"
      ],
      "execution_count": 0,
      "outputs": []
    },
    {
      "cell_type": "markdown",
      "metadata": {
        "id": "t8ubHnI8p3QI",
        "colab_type": "text"
      },
      "source": [
        "Measure the anomaly detection performance by acquiring the data of label 1"
      ]
    },
    {
      "cell_type": "code",
      "metadata": {
        "id": "MQ4TzWKip4kg",
        "colab_type": "code",
        "colab": {}
      },
      "source": [
        "img_index = 14\n",
        "label_index = 1\n",
        "test_image = X_test_original[Y_test==label_index][img_index]"
      ],
      "execution_count": 0,
      "outputs": []
    },
    {
      "cell_type": "markdown",
      "metadata": {
        "id": "ElzeKvnip_3b",
        "colab_type": "text"
      },
      "source": [
        "Calculate anomaly scores and generate images from models"
      ]
    },
    {
      "cell_type": "code",
      "metadata": {
        "id": "0q4nvYXXqAzS",
        "colab_type": "code",
        "colab": {}
      },
      "source": [
        "noise = np.random.normal(0, 1, size=(1, 10))\n",
        "\n",
        "start = cv2.getTickCount()\n",
        "score, query, pred, diff = anomaly_detection_encode(test_image, noise, g=g, d=d, e=e, model=model, intermidiate_model=intermidiate_model)\n",
        "time = (cv2.getTickCount() - start) / cv2.getTickFrequency() * 100\n",
        "print ('%d label, %d : done'%(label_index, img_index), '%.2f' %score, '%.2fms' %time)"
      ],
      "execution_count": 0,
      "outputs": []
    },
    {
      "cell_type": "markdown",
      "metadata": {
        "id": "D_GYlrzBqILn",
        "colab_type": "text"
      },
      "source": [
        "Display the input image, the generated image, and the difference between them"
      ]
    },
    {
      "cell_type": "code",
      "metadata": {
        "id": "CnqNSq18qI2q",
        "colab_type": "code",
        "colab": {}
      },
      "source": [
        "plt.figure(1, figsize=(3, 3))\n",
        "plt.title('query image')\n",
        "plt.imshow(query.reshape(28,28), cmap=plt.cm.gray)\n",
        "\n",
        "print(\"anomaly score : \", score)\n",
        "plt.figure(2, figsize=(3, 3))\n",
        "plt.title('generated similar image')\n",
        "plt.imshow(pred.reshape(28,28), cmap=plt.cm.gray)\n",
        "\n",
        "plt.figure(3, figsize=(3, 3))\n",
        "plt.title('anomaly detection')\n",
        "plt.imshow(cv2.cvtColor(diff,cv2.COLOR_BGR2RGB))\n",
        "plt.show()"
      ],
      "execution_count": 0,
      "outputs": []
    },
    {
      "cell_type": "markdown",
      "metadata": {
        "id": "7iLpcErPqRkl",
        "colab_type": "text"
      },
      "source": [
        "### Try to observe the feature space of the noise image, image 1 and other images"
      ]
    },
    {
      "cell_type": "code",
      "metadata": {
        "id": "2_57C6DAqSol",
        "colab_type": "code",
        "colab": {}
      },
      "source": [
        "# Create 100 28x28x1 images\n",
        "random_image = np.random.uniform (0, 1, (100, 28, 28, 1))\n",
        "random_noise = np.random.uniform (0, 1, (100, 10))\n",
        "\n",
        "model = feature_extractor_encode ()\n",
        "# Feature extraction from random images\n",
        "feature_map_of_random = model.predict ([random_image, random_noise], verbose = 1)"
      ],
      "execution_count": 0,
      "outputs": []
    },
    {
      "cell_type": "code",
      "metadata": {
        "id": "Pdos7fEIqW3U",
        "colab_type": "code",
        "colab": {}
      },
      "source": [
        "generate_noise_other = e.predict(X_test_original[Y_test != 1][:300])\n",
        "generate_noise = e.predict(X_test[:100])"
      ],
      "execution_count": 0,
      "outputs": []
    },
    {
      "cell_type": "code",
      "metadata": {
        "id": "K3XgsaSkqYAP",
        "colab_type": "code",
        "colab": {}
      },
      "source": [
        "# Extract features of images whose labels are not 1\n",
        "feature_map_mnist = model.predict ([X_test_original [Y_test != 1] [: 300], generate_noise_other], verbose = 1)\n",
        "# Extract features of image with label 1\n",
        "feature_map_mnist_1 = model.predict ([X_test [: 100], generate_noise], verbose = 1)\n",
        "\n",
        "# Combine each feature space output earlier\n",
        "output = np.concatenate ((feature_map_of_random, feature_map_mnist, feature_map_mnist_1))\n",
        "print (output.shape)\n",
        "# Keep only the first dimension, the other dimensions are synthesized\n",
        "output = output.reshape (output.shape [0], -1)\n",
        "\n",
        "# Compress to 2D so that feature space can be visualized\n",
        "X_embedded = TSNE (n_components = 2) .fit_transform (output)\n",
        "plt.figure (5)\n",
        "plt.title (\"T-SNE embedding on the feature representation\")\n",
        "plt.scatter (X_embedded [: 100, 0], X_embedded [: 100, 1], label = 'random noise (anomaly)')\n",
        "plt.scatter (X_embedded [100: 400, 0], X_embedded [100: 400, 1], label = 'mnist (anomaly)')\n",
        "plt.scatter (X_embedded [400 :, 0], X_embedded [400 :, 1], label = 'mnist (normal)')\n",
        "plt.legend ()\n",
        "plt.show ()"
      ],
      "execution_count": 0,
      "outputs": []
    },
    {
      "cell_type": "markdown",
      "metadata": {
        "id": "p7zbnbbpqgw3",
        "colab_type": "text"
      },
      "source": [
        "## Calculate ROC-AUC\n",
        "\n",
        "Calculate ROC-AUC using the abnormal score of the data of label 1 that is not used for learning and other data"
      ]
    },
    {
      "cell_type": "code",
      "metadata": {
        "id": "kFVgSH4tqbw9",
        "colab_type": "code",
        "colab": {}
      },
      "source": [
        "g, d, e = load_models_encoder ()\n",
        "# Model to calculate anomaly score\n",
        "model = anomaly_detector_encode (g = g, d = d, e = e)\n",
        "# Create feature extraction model\n",
        "intermidiate_model = feature_extractor_encode (d)"
      ],
      "execution_count": 0,
      "outputs": []
    },
    {
      "cell_type": "markdown",
      "metadata": {
        "id": "F8l8-Am7qkmP",
        "colab_type": "text"
      },
      "source": [
        "ROC-AUC calculation takes about 10 minutes when using TensorBoard"
      ]
    },
    {
      "cell_type": "code",
      "metadata": {
        "id": "ucqSfaLG6qq5",
        "colab_type": "code",
        "colab": {}
      },
      "source": [
        "%%time\n",
        "from sklearn.metrics import roc_curve, auc\n",
        "\n",
        "label_index = 1\n",
        "test_image_set = X_test_original[Y_test==label_index]\n",
        "test_other_image_set = X_test_original[Y_test !=label_index]\n",
        "\n",
        "noise = np.random.normal(0, 1, size=(1, 10))\n",
        "anomaly_score_list = []\n",
        "y_true_list = []\n",
        "\n",
        "# Calculate anomaly scores for all datasets with label 1 and list\n",
        "for each_test_image in test_image_set:\n",
        "    score, query, pred, diff = anomaly_detection_encode(each_test_image, noise, g=g, d=d, e=e, model=model, intermidiate_model=intermidiate_model)\n",
        "    anomaly_score_list.append(score)\n",
        "    y_true_list.append(0)\n",
        "\n",
        "# Calculate anomaly scores for all datasets other than label 1 and list\n",
        "for each_test_image in test_other_image_set:\n",
        "    score, query, pred, diff = anomaly_detection_encode(each_test_image, noise, g=g, d=d, e=e, model=model, intermidiate_model=intermidiate_model)\n",
        "    anomaly_score_list.append(score)\n",
        "    y_true_list.append(1)\n",
        "    \n",
        "# # Derivation of False Positive Rate and True Positive Rate\n",
        "fpr, tpr, threshold = roc_curve(y_true_list, anomaly_score_list)\n",
        "# Calculate AUC value\n",
        "roc_auc = auc(fpr, tpr)"
      ],
      "execution_count": 0,
      "outputs": []
    },
    {
      "cell_type": "code",
      "metadata": {
        "id": "1wEjwAMZquTw",
        "colab_type": "code",
        "colab": {}
      },
      "source": [
        "plt.figure()\n",
        "lw = 2\n",
        "plt.plot(fpr, tpr, color='darkorange',\n",
        "         lw=lw, label='ROC curve (area = %0.2f)' % roc_auc)\n",
        "plt.plot([0, 1], [0, 1], color='navy', lw=lw, linestyle='--')\n",
        "plt.xlim([0.0, 1.0])\n",
        "plt.ylim([0.0, 1.05])\n",
        "plt.xlabel('False Positive Rate')\n",
        "plt.ylabel('True Positive Rate')\n",
        "plt.title('Receiver operating characteristic example')\n",
        "plt.legend(loc=\"lower right\")\n",
        "plt.show()"
      ],
      "execution_count": 0,
      "outputs": []
    },
    {
      "cell_type": "code",
      "metadata": {
        "id": "1hqsEqkSwdKD",
        "colab_type": "code",
        "colab": {}
      },
      "source": [
        ""
      ],
      "execution_count": 0,
      "outputs": []
    }
  ]
}